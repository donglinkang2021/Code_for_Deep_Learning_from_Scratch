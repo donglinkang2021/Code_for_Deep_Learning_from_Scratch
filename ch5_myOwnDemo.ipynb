{
 "cells": [
  {
   "cell_type": "code",
   "execution_count": 1,
   "metadata": {},
   "outputs": [],
   "source": [
    "# 尝试识别一串数字，用滑动窗口的方法\n",
    "import imageio # for reading images\n",
    "import glob # for reading files\n",
    "import numpy as np # for arrays\n",
    "import matplotlib.pyplot as plt # for plotting\n",
    "%matplotlib inline"
   ]
  },
  {
   "cell_type": "code",
   "execution_count": 2,
   "metadata": {},
   "outputs": [],
   "source": [
    "class ImagePredict:\n",
    "    def __init__(self):\n",
    "        self.imageArray = None\n",
    "\n",
    "    def imageioRead2plt(self, imageFile):\n",
    "        # @imageFile: the image file path\n",
    "        # @return: the image data in a 1D array\n",
    "        self.imageArray = imageio.imread(imageFile, as_gray=True)\n",
    "        # 0 is white and 1 is black in the matplotlib image so we invert the array above\n",
    "        img_data = 255.0 - self.imageArray.reshape(self.imageArray.size)\n",
    "\n",
    "        # normalize the image data to be between 0.01 and 1.0\n",
    "        img_data = (img_data / 255.0 * 0.99) + 0.01 \n",
    "        return img_data\n",
    "\n",
    "    def pltshow(self, img_data):\n",
    "        # show the image 255 is white and 0 is black we turn it into a 28x28 array\n",
    "        plt.imshow(np.asfarray(img_data).reshape((self.imageArray.shape)), cmap='Greys', interpolation='None')\n",
    "\n",
    "    def predict(self, img_data, network):\n",
    "        # 识别图片中的数字\n",
    "        x = img_data\n",
    "        y = network.predict(x.reshape(1,784))\n",
    "        p = np.argmax(y) # 获取概率最高的元素的索引\n",
    "        print(\"神经网络预测结果为:\", p)\n",
    "        return p\n",
    "    \n",
    "    def ReadShowPredict(self, imageFile, network):\n",
    "        img_data = self.imageioRead2plt(imageFile)\n",
    "        self.pltshow(img_data)\n",
    "        return self.predict(img_data, network)"
   ]
  },
  {
   "cell_type": "code",
   "execution_count": 3,
   "metadata": {},
   "outputs": [],
   "source": [
    "IP = ImagePredict()"
   ]
  },
  {
   "attachments": {},
   "cell_type": "markdown",
   "metadata": {},
   "source": [
    "## 加载训练好的网络模型"
   ]
  },
  {
   "cell_type": "code",
   "execution_count": 4,
   "metadata": {},
   "outputs": [],
   "source": [
    "# 读入训练好的神经网络参数 并加载到网络中\n",
    "import pickle\n",
    "from ch05.two_layer_net import TwoLayerNet\n",
    "\n",
    "with open('myweight.pkl', 'rb') as f:\n",
    "    params = pickle.load(f)\n",
    "\n",
    "network = TwoLayerNet(input_size=784, hidden_size=50, output_size=10)\n",
    "# 输出网络的参数\n",
    "network.params = params\n",
    "network.layers['Affine1'].W = params['W1']\n",
    "network.layers['Affine1'].b = params['b1']\n",
    "network.layers['Affine2'].W = params['W2']\n",
    "network.layers['Affine2'].b = params['b2']"
   ]
  },
  {
   "attachments": {},
   "cell_type": "markdown",
   "metadata": {},
   "source": [
    "## 识别单个数字测试"
   ]
  },
  {
   "cell_type": "code",
   "execution_count": 14,
   "metadata": {},
   "outputs": [],
   "source": [
    "myImageNameList = []\n",
    "for imageFile in glob.glob('myImages/*.png'):\n",
    "    myImageNameList.append(imageFile)\n",
    "    pass"
   ]
  },
  {
   "cell_type": "code",
   "execution_count": 21,
   "metadata": {},
   "outputs": [
    {
     "name": "stdout",
     "output_type": "stream",
     "text": [
      "神经网络预测结果为: 9\n",
      "神经网络预测结果为: 8\n",
      "神经网络预测结果为: 2\n",
      "神经网络预测结果为: 3\n",
      "神经网络预测结果为: 4\n",
      "神经网络预测结果为: 4\n",
      "神经网络预测结果为: 6\n",
      "神经网络预测结果为: 2\n",
      "神经网络预测结果为: 8\n",
      "神经网络预测结果为: 2\n"
     ]
    },
    {
     "data": {
      "image/png": "[encoded data removed]",
      "text/plain": [
       "<Figure size 432x288 with 10 Axes>"
      ]
     },
     "metadata": {
      "needs_background": "light"
     },
     "output_type": "display_data"
    }
   ],
   "source": [
    "i = 1\n",
    "w = 2\n",
    "h = int( len(myImageNameList) / w)\n",
    "for oneImage in myImageNameList:\n",
    "    plt.subplot(w, h, i)\n",
    "    IP.ReadShowPredict(oneImage, network)\n",
    "    i = i + 1\n",
    "\n",
    "    "
   ]
  },
  {
   "attachments": {},
   "cell_type": "markdown",
   "metadata": {},
   "source": [
    "## 识别多个数字的测试（滑动窗口）"
   ]
  },
  {
   "cell_type": "code",
   "execution_count": 9,
   "metadata": {},
   "outputs": [
    {
     "data": {
      "image/png": "[encoded data removed]",
      "text/plain": [
       "<Figure size 432x288 with 1 Axes>"
      ]
     },
     "metadata": {
      "needs_background": "light"
     },
     "output_type": "display_data"
    }
   ],
   "source": [
    "# 读入一张图片的数据 里面包含了一行数字\n",
    "imageFile = 'numbers.png'\n",
    "img_data = IP.imageioRead2plt(imageFile)\n",
    "IP.pltshow(img_data)"
   ]
  },
  {
   "cell_type": "code",
   "execution_count": 11,
   "metadata": {},
   "outputs": [],
   "source": [
    "original_img_data = img_data.copy()\n",
    "original_img_data = original_img_data.reshape(IP.imageArray.shape)\n",
    "# 用滑动窗口的方法识别数字\n",
    "# 从左到右 从上到下\n",
    "\n",
    "# 识别数字的宽度\n",
    "w = 28\n",
    "# 识别数字的高度\n",
    "h = 28\n",
    "# 识别数字的间隔\n",
    "g = 0\n",
    "# 识别数字的总数\n",
    "n = 3\n",
    "\n",
    "# 识别数字的起始位置\n",
    "x = 0\n",
    "y = 0\n",
    "\n",
    "# 识别数字的结束位置\n",
    "xend = w * n + g * (n - 1)\n",
    "yend = h\n",
    "\n",
    "# 识别数字的结果\n",
    "result = []"
   ]
  },
  {
   "cell_type": "code",
   "execution_count": 12,
   "metadata": {},
   "outputs": [
    {
     "name": "stdout",
     "output_type": "stream",
     "text": [
      "神经网络预测结果为: 9\n",
      "神经网络预测结果为: 2\n",
      "神经网络预测结果为: 5\n",
      "识别的数字为: [9, 2, 5]\n"
     ]
    },
    {
     "data": {
      "image/png": "[encoded data removed]",
      "text/plain": [
       "<Figure size 432x288 with 3 Axes>"
      ]
     },
     "metadata": {
      "needs_background": "light"
     },
     "output_type": "display_data"
    }
   ],
   "source": [
    "while y < yend:\n",
    "    while x < xend:\n",
    "        # 识别数字的区域\n",
    "        ROI_img_data = original_img_data[y:y+h, x:x+w]\n",
    "        tmp_img_data = ROI_img_data.reshape(1, 784)\n",
    "        plt.subplot(1, n, len(result) + 1)\n",
    "        plt.imshow(np.asfarray(tmp_img_data).reshape(w,h), cmap='Greys', interpolation='None')\n",
    "        result.append(IP.predict(tmp_img_data, network))\n",
    "        x = x + w + g\n",
    "        pass\n",
    "    y = y + h + g\n",
    "    x = 0\n",
    "    pass\n",
    "\n",
    "print(\"识别的数字为:\", result)"
   ]
  },
  {
   "attachments": {},
   "cell_type": "markdown",
   "metadata": {},
   "source": [
    "可以看到学习结果还是挺菜的，即使对训练集的准确率已经达到了百分之九十九以上，对测试集的准确率才百分之九十七左右，说明我们的模型仍然有待改进，因为自己写的数字和外国人写的差别也有可能很大。"
   ]
  }
 ],
 "metadata": {
  "kernelspec": {
   "display_name": "base",
   "language": "python",
   "name": "python3"
  },
  "language_info": {
   "codemirror_mode": {
    "name": "ipython",
    "version": 3
   },
   "file_extension": ".py",
   "mimetype": "text/x-python",
   "name": "python",
   "nbconvert_exporter": "python",
   "pygments_lexer": "ipython3",
   "version": "3.9.7 (default, Sep 16 2021, 16:59:28) [MSC v.1916 64 bit (AMD64)]"
  },
  "orig_nbformat": 4,
  "vscode": {
   "interpreter": {
    "hash": "5179d32cf6ec497baf3f8a3ef987cc77c5d2dc691fdde20a56316522f61a7323"
   }
  }
 },
 "nbformat": 4,
 "nbformat_minor": 2
}
