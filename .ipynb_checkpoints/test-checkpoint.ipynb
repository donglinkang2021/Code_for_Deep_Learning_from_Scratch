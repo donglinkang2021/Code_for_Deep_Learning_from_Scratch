{
 "cells": [
  {
   "cell_type": "markdown",
   "metadata": {},
   "source": [
    "# 研究一下加速梯度下降的方法(试图找到一种不会收敛于局部最优的方法)"
   ]
  },
  {
   "cell_type": "markdown",
   "metadata": {},
   "source": [
    "> 发现自己很久没有更新了,现在又在学习着机器学习的内容,正好对梯度下降这里比较感兴趣,因此写了一篇短短的ipynb来实现一下\n",
    "> 另外:本文的代码都是基于python3.9 \n",
    "\n",
    "介绍:\n",
    "\n",
    "本文章主要是对梯度下降(从一个简单的例子出发)的一些方法进行实现,并且对比一下不同方法的收敛速度,以及收敛的精度,最后对比一下不同方法的优缺点"
   ]
  },
  {
   "cell_type": "code",
   "execution_count": 10,
   "metadata": {},
   "outputs": [],
   "source": [
    "import matplotlib.pyplot as plt\n",
    "import numpy as np\n",
    "import latexify"
   ]
  },
  {
   "cell_type": "markdown",
   "metadata": {},
   "source": [
    "## 一维损失函数及其导数"
   ]
  },
  {
   "cell_type": "code",
   "execution_count": 11,
   "metadata": {},
   "outputs": [
    {
     "data": {
      "text/latex": [
       "$$ \\displaystyle \\mathrm{J}(x) = \\frac{{1}}{{4}} x^{{4}} - \\frac{{5}}{{3}} x^{{3}} + {3} x^{{2}} + {1} $$"
      ],
      "text/plain": [
       "<latexify.frontend.LatexifiedFunction at 0x2959f892730>"
      ]
     },
     "execution_count": 11,
     "metadata": {},
     "output_type": "execute_result"
    }
   ],
   "source": [
    "@latexify.function\n",
    "def J(x):\n",
    "    return 1/4 * x**4 - 5/3 * x**3 + 3 * x**2 + 1\n",
    "    \n",
    "J"
   ]
  },
  {
   "cell_type": "code",
   "execution_count": 12,
   "metadata": {},
   "outputs": [
    {
     "data": {
      "text/latex": [
       "$$ \\displaystyle \\mathrm{grad_J}(x) = x^{{3}} - {5} x^{{2}} + {6} x $$"
      ],
      "text/plain": [
       "<latexify.frontend.LatexifiedFunction at 0x2959f8bbe80>"
      ]
     },
     "execution_count": 12,
     "metadata": {},
     "output_type": "execute_result"
    }
   ],
   "source": [
    "@latexify.function\n",
    "def grad_J(x):\n",
    "    return x**3 - 5 * x**2 + 6 * x\n",
    "\n",
    "grad_J"
   ]
  },
  {
   "cell_type": "code",
   "execution_count": 13,
   "metadata": {},
   "outputs": [
    {
     "data": {
      "image/png": "[encoded data removed]",
      "text/plain": [
       "<Figure size 576x432 with 1 Axes>"
      ]
     },
     "metadata": {
      "needs_background": "light"
     },
     "output_type": "display_data"
    }
   ],
   "source": [
    "# 画出两个函数的图像\n",
    "x = np.linspace(-2, 5, 100)\n",
    "plt.figure(figsize=(8, 6))\n",
    "plt.plot(x, J(x), label='J(x)')\n",
    "plt.plot(x, grad_J(x), label='grad_J(x)')\n",
    "plt.legend()\n",
    "plt.xlabel('x')\n",
    "plt.ylabel('y')\n",
    "plt.title('J(x) and grad_J(x)')\n",
    "plt.ylim(-5, 30)\n",
    "plt.show()"
   ]
  },
  {
   "cell_type": "markdown",
   "metadata": {},
   "source": [
    "### 函数说明"
   ]
  },
  {
   "cell_type": "markdown",
   "metadata": {},
   "source": [
    "这里有意定义了这样一个一维函数，从$x_0 = 4$或者$x_0 = 5$进行梯度下降，观察其是否能够收敛到最小值点$x=0$，正常的梯度下降会收敛到局部最优点$x=3$。"
   ]
  },
  {
   "cell_type": "code",
   "execution_count": 14,
   "metadata": {},
   "outputs": [],
   "source": [
    "x0 = 4"
   ]
  },
  {
   "cell_type": "markdown",
   "metadata": {},
   "source": [
    "### 梯度下降"
   ]
  },
  {
   "cell_type": "code",
   "execution_count": 171,
   "metadata": {},
   "outputs": [
    {
     "name": "stdout",
     "output_type": "stream",
     "text": [
      "3.0000000000000004\n"
     ]
    }
   ],
   "source": [
    "alpha = 0.1\n",
    "x = x0\n",
    "for i in range(350):\n",
    "    x = x - alpha * grad_J(x)    \n",
    "print(x)"
   ]
  },
  {
   "cell_type": "markdown",
   "metadata": {},
   "source": [
    "> 我们可以发现,如果单纯只调整学习率$\\alpha$的话,很容易陷入局部最优,为此我们思考必须多引入一些参数来调整,这样才能使得梯度下降能够收敛到全局最优"
   ]
  },
  {
   "cell_type": "markdown",
   "metadata": {},
   "source": [
    "### 引入动量的梯度下降"
   ]
  },
  {
   "cell_type": "code",
   "execution_count": 195,
   "metadata": {},
   "outputs": [
    {
     "name": "stdout",
     "output_type": "stream",
     "text": [
      "-2.0281455138975658e-23\n"
     ]
    }
   ],
   "source": [
    "alpha = 0.1\n",
    "beta = -0.74\n",
    "prex = x0\n",
    "x = prex - alpha * grad_J(prex)\n",
    "for i in range(350):\n",
    "    tmp = x\n",
    "    x = x - alpha * grad_J(x) - beta * (x - prex) # 这里引入了动量的概念 \n",
    "    prex = tmp\n",
    "print(x)"
   ]
  },
  {
   "cell_type": "markdown",
   "metadata": {},
   "source": [
    "> 这里我们仅仅是在梯度下降的基础上,引入了动量,并且将动量的系数$\\beta$设置为-0.74,这样就能够使得梯度下降能够收敛到全局最优\n",
    "\n",
    "下面我们试着自己写一种方法,来实现梯度下降,并且使得梯度下降能够收敛到全局最优,从而更好的理解上面动量的方法是多么的有效.\n"
   ]
  },
  {
   "cell_type": "markdown",
   "metadata": {},
   "source": [
    "## 尝试\n",
    "\n",
    "希望模拟现实世界中的受重力的影响,使得小球可以像真实世界中的小球一样,在下坡的时候加速,在上坡的时候减速,从而使得小球能够更快的到达最低点\n",
    "\n",
    "> 注:这里的尝试构造均失败了,下面的代码为失败尝试代码,可以跳过直接看下一个二级标题\"成功案例\",这里只是为了记录一下自己的失败尝试"
   ]
  },
  {
   "cell_type": "markdown",
   "metadata": {},
   "source": [
    "### demo1"
   ]
  },
  {
   "cell_type": "markdown",
   "metadata": {},
   "source": [
    "\n",
    "\n",
    "<!-- 用html格式显示本地图片 -->\n",
    "![alt](./%E6%A2%AF%E5%BA%A6%E4%B8%8B%E9%99%8D.drawio.svg)\n",
    "\n",
    "施加一个重力加速度的方法来试一下；\n",
    "\n",
    "$$\n",
    "\\begin{aligned}\n",
    "tan(\\theta) &= - grad_J \\\\\n",
    "a_x &=  g*sin(\\theta)*cos(\\theta)=\\frac{g * tan(\\theta)}{tan^2(\\theta)+1} \\\\\n",
    "x_{t+1} &= x_t + v_t * \\Delta t \\\\\n",
    "v_{t+1} &= v_t + a_x * \\Delta t \\\\\n",
    "\\end{aligned}\n",
    "$$"
   ]
  },
  {
   "cell_type": "code",
   "execution_count": 31,
   "metadata": {},
   "outputs": [],
   "source": [
    "x = x0\n",
    "v = 0\n",
    "dt = 0.1\n",
    "g = 4.9\n",
    "x_history = np.array([])\n",
    "v_history = np.array([])\n",
    "for i in range(50):\n",
    "    tan_theta = -grad_J(x)\n",
    "    a = g * tan_theta / (1 + tan_theta**2)\n",
    "    x = x + v * dt\n",
    "    v = v + a * dt\n",
    "    x_history = np.append(x_history, x)\n",
    "    v_history = np.append(v_history, v)\n"
   ]
  },
  {
   "cell_type": "code",
   "execution_count": 34,
   "metadata": {},
   "outputs": [
    {
     "name": "stdout",
     "output_type": "stream",
     "text": [
      "该点的位置为： 4.0 该点的速度为： -0.06030769230769231 该点的梯度为： 8.0 该点的加速度为： -0.6030769230769231\n",
      "该点的位置为： 3.9939692307692307 该点的速度为： -0.12061538461538462 该点的梯度为： 7.915823602671683 该点的加速度为： -0.6092895887825014\n",
      "该点的位置为： 3.981907692307692 该点的速度为： -0.18154434349363477 该点的梯度为： 7.748993091307142 该点的加速度为： -0.6219819503263747\n",
      "该点的位置为： 3.9637532579583286 该点的速度为： -0.24374253852627226 该点的梯度为： 7.501694773653753 该点的加速度为： -0.6417814398848021\n",
      "该点的位置为： 3.9393790041057013 该点的速度为： -0.30792068251475246 该点的梯度为： 7.176807617072736 该点的加速度为： -0.6697515939337939\n",
      "该点的位置为： 3.9085869358542262 该点的速度为： -0.37489584190813185 该点的梯度为： 6.777947660631952 该点的加速度为： -0.7075316801668794\n",
      "该点的位置为： 3.871097351663413 该点的速度为： -0.4456490099248198 该点的梯度为： 6.309532339945356 该点的加速度为： -0.7575730997795793\n",
      "该点的位置为： 3.826532450670931 该点的速度为： -0.5214063199027777 该点的梯度为： 5.776871433676213 该点的加速度为： -0.8235328012439239\n",
      "该点的位置为： 3.774391818680653 该点的速度为： -0.6037596000271701 该点的梯度为： 5.1862955794418255 该点的加速度为： -0.910931119870869\n",
      "该点的位置为： 3.714015858677936 该点的速度为： -0.694852712014257 该点的梯度为： 4.545340760418615 该点的加速度为： -1.0282568620792585\n",
      "该点的位置为： 3.6445305874765106 该点的速度为： -0.7976783982221829 该点的梯度为： 3.8630211644357146 该点的加速度为： -1.1887762311163803\n",
      "该点的位置为： 3.5647627476542922 该点的速度为： -0.916556021333821 该点的梯度为： 3.150251097270754 该点的加速度为： -1.4130460033844363\n",
      "该点的位置为： 3.47310714552091 该点的速度为： -1.0578606216722646 该点的梯度为： 2.420538669106829 该点的加速度为： -1.729206385535076\n",
      "该点的位置为： 3.3673210833536835 该点的速度为： -1.2307812602257722 该点的梯度为： 1.691223078893188 该点的加速度为： -2.1467584247219986\n",
      "该点的位置为： 3.2442429573311062 该点的速度为： -1.4454571026979721 该点的梯度为： 0.9859175821627169 该点的加速度为： -2.449753619545018\n",
      "该点的位置为： 3.099697247061309 该点的速度为： -1.690432464652474 该点的梯度为： 0.33984085035222833 该点的加速度为： -1.4928125526331761\n",
      "该点的位置为： 2.9306540005960615 该点的速度为： -1.8397137199157916 该点的梯度为： -0.18913600341052472 该点的加速度为： 0.8947587248412011\n",
      "该点的位置为： 2.7466826286044825 该点的速度为： -1.7502378474316715 该点的梯度为： -0.5195286489425222 该点的加速度为： 2.004622646955576\n",
      "该点的位置为： 2.5716588438613153 该点的速度为： -1.549775582736114 该点的梯度为： -0.6297092687667476 该点的加速度为： 2.209452788274475\n",
      "该点的位置为： 2.416681285587704 该点的速度为： -1.3288303039086664 该点的梯度为： -0.5873937001649026 该点的加速度为： 2.139897416936071\n",
      "该点的位置为： 2.283798255196837 该点的速度为： -1.1148405622150592 该点的梯度为： -0.46419753785842843 该点的加速度为： 1.871334077154911\n",
      "该点的位置为： 2.172314198975331 该点的速度为： -0.9277071544995681 该点的梯度为： -0.30981983002363833 该点的加速度为： 1.3851581532498636\n",
      "该点的位置为： 2.079543483525374 该点的速度为： -0.7891913391745817 该点的梯度为： -0.15225651647309846 该点的加速度为： 0.729153656522082\n",
      "该点的位置为： 2.000624349607916 该点的速度为： -0.7162759735223735 该点的梯度为： -0.0012483091600223872 该点的加速度为： 0.006116705352596022\n",
      "该点的位置为： 1.9289967522556788 该点的速度为： -0.7156643029871139 该点的梯度为： 0.14668999656100112 该点的加速度为： -0.7036400873490546\n",
      "该点的位置为： 1.8574303219569674 该点的速度为： -0.7860283117220194 该点的梯度为： 0.30256758178320986 该点的加速度为： -1.3582383154223672\n",
      "该点的位置为： 1.7788274907847654 该点的速度为： -0.9218521432642561 该点的梯度为： 0.48044313995965204 该点的加速度为： -1.9126766336929208\n",
      "该点的位置为： 1.6866422764583398 该点的速度为： -1.1131198066335481 该点的梯度为： 0.694138955327599 该点的加速度为： -2.2953263400772346\n",
      "该点的位置为： 1.5753302957949848 该点的速度为： -1.3426524406412716 该点的梯度为： 0.9530969810530223 该点的加速度为： -2.447175772552617\n",
      "该点的位置为： 1.4410650517308576 该点的速度为： -1.5873700178965333 该点的梯度为： 1.2556622691283117 该点的加速度为： -2.387850509502285\n",
      "该点的位置为： 1.2823280499412042 该点的速度为： -1.8261550688467618 该点的梯度为： 1.580757817101249 该点的加速度为： -2.2138229567773235\n",
      "该点的位置为： 1.099712543056528 该点的速度为： -2.0475373645244943 该点的梯度为： 1.8813936755152634 该点的加速度为： -2.030739137689519\n",
      "该点的位置为： 0.8949588066040786 该点的速度为： -2.250611278293446 该点的梯度为： 2.0818149007696807 该点的加速度为： -1.9124451370769184\n",
      "该点的位置为： 0.6698976787747339 该点的速度为： -2.441855792001138 该点的梯度为： 2.076196797558346 该点的加速度为： -1.9156738307084165\n",
      "该点的位置为： 0.42571209957462014 该点的速度为： -2.6334231750719796 该点的梯度为： 1.7252707796790574 该点的加速度为： -2.12591495834866\n",
      "该点的位置为： 0.16236978206742214 该点的速度为： -2.8460146709068455 该点的梯度为： 0.8466796699487636 该点的加速度为： -2.416454902544\n",
      "该点的位置为： -0.12223168502326243 该点的速度为： -3.0876601611612453 该点的梯度为： -0.8099192471159296 该点的加速度为： 2.3965447801718853\n",
      "该点的位置为： -0.43099770113938696 该点的速度为： -2.8480056831440566 该点的梯度为： -3.594843008664397 该点的加速度为： 1.2651628236956194\n",
      "该点的位置为： -0.7157982694537925 该点的速度为： -2.7214894007744945 该点的梯度为： -7.223376957768395 该点的加速度为： 0.6655966081319048\n",
      "该点的位置为： -0.987947209531242 该点的速度为： -2.654929739961304 该点的梯度为： -11.772157388252314 该点的加速度为： 0.41325438078454696\n",
      "该点的位置为： -1.2534401835273725 该点的速度为： -2.613604301882849 该点的梯度为： -17.34549785130369 该点的加速度为： 0.28155822852498236\n",
      "该点的位置为： -1.5148006137156576 该点的速度为： -2.585448479030351 该点的梯度为： -24.03780132538522 该点的加速度为： 0.20349342167111323\n",
      "该点的位置为： -1.7733454616186926 该点的速度为： -2.5650991368632394 该点的梯度为： -31.94057885861099 该点的加速度为： 0.15325964340993375\n",
      "该点的位置为： -2.0298553753050164 该点的速度为： -2.549773172522246 该点的梯度为： -41.14433565076403 该点的加速度为： 0.11902263374200511\n",
      "该点的位置为： -2.284832692557241 该点的速度为： -2.5378709091480456 该点的梯度为： -51.73917698770582 该点的加速度为： 0.09467043200470807\n",
      "该点的位置为： -2.5386197834720456 该点的速度为： -2.528403865947575 该点的梯度为： -63.8150354246082 该点的加速度为： 0.07676556204849665\n",
      "该点的位置为： -2.791460170066803 该点的速度为： -2.520727309742725 该点的梯度为： -77.46176560396071 该点的加速度为： 0.06324647360488242\n",
      "该点的位置为： -3.0435329010410754 该点的速度为： -2.514402662382237 该点的梯度为： -92.76918685399777 该点的加速度为： 0.052813125458644375\n",
      "该点的位置为： -3.294973167279299 该点的速度为： -2.5091213498363727 该点的梯度为： -109.8271032806874 该点的加速度为： 0.044611882245952424\n",
      "该点的位置为： -3.545885302262936 该点的速度为： -2.5046601616117776 该点的梯度为： -128.72531350559433 该点的加速度为： 0.038063254016984266\n"
     ]
    }
   ],
   "source": [
    "for i in range(50):\n",
    "    print(\"该点的位置为：\", x_history[i], \"该点的速度为：\", v_history[i],end=' ')\n",
    "    print(\"该点的梯度为：\", grad_J(x_history[i]), end=' ')\n",
    "    a = g * (-grad_J(x_history[i])) / (1 + (-grad_J(x_history[i]))**2)\n",
    "    print(\"该点的加速度为：\", a)"
   ]
  },
  {
   "cell_type": "code",
   "execution_count": 33,
   "metadata": {},
   "outputs": [
    {
     "data": {
      "image/png": "[encoded data removed]",
      "text/plain": [
       "<Figure size 576x432 with 1 Axes>"
      ]
     },
     "metadata": {
      "needs_background": "light"
     },
     "output_type": "display_data"
    }
   ],
   "source": [
    "# 画出两个函数的图像 并且画出梯度下降的过程\n",
    "x = np.linspace(-2, 5, 100)\n",
    "plt.figure(figsize=(8, 6))\n",
    "plt.plot(x, J(x), label='J(x)')\n",
    "plt.plot(x, grad_J(x), label='grad_J(x)')\n",
    "plt.plot(x_history, J(x_history), 'gx', label='gradient on J')\n",
    "plt.plot(x_history, grad_J(x_history), 'bo', label='gradient on grad_J')\n",
    "plt.legend()\n",
    "plt.xlabel('x')\n",
    "plt.ylabel('y')\n",
    "# 显示x轴和y轴\n",
    "plt.axhline(y=0, color='k')\n",
    "plt.title('J(x) and grad_J(x)')\n",
    "plt.ylim(-5, 30)\n",
    "plt.xlim(-2, 5)\n",
    "plt.show()"
   ]
  },
  {
   "cell_type": "markdown",
   "metadata": {},
   "source": [
    "> 上述过程之所以不对(在上坡的时候没有正确地减速)，是因为重力加速度垂直分量也会影响到速度的变化，所以不能简单的用重力加速度的水平分量来单纯的考虑对水平的速度影响。"
   ]
  },
  {
   "cell_type": "markdown",
   "metadata": {},
   "source": [
    "### demo2"
   ]
  },
  {
   "cell_type": "markdown",
   "metadata": {},
   "source": [
    "我们改用另一种形式来模拟:\n",
    "\n",
    "$$\n",
    "\\begin{aligned}\n",
    "tan(\\theta) &= - grad_J(x_t) \\\\\n",
    "a &=  g*sin(\\theta) = g * \\frac{tan(\\theta)}{\\sqrt{tan^2(\\theta)+1}} \\\\\n",
    "v_{t+1} &= v_t + a * \\Delta t \\\\\n",
    "v_x &= v * cos(\\theta) = v * \\frac{1}{\\sqrt{tan^2(\\theta)+1}} \\\\\n",
    "v_y &= v * sin(\\theta) = v * \\frac{tan(\\theta)}{\\sqrt{tan^2(\\theta)+1}} \\\\\n",
    "x_{t+1} &= x_t + v_x * \\Delta t \\\\\n",
    "y_{t+1} &= y_t - v_y * \\Delta t \\\\\n",
    "\\end{aligned}\n",
    "$$\n",
    "\n",
    "其中$x_t,y_t$为小球的位置，$v_x,v_y$为小球的速度，$a$为小球的加速度，$g$为重力加速度，$\\theta$为小球的倾斜角度，$\\Delta t$为时间步长。\n"
   ]
  },
  {
   "cell_type": "code",
   "execution_count": 201,
   "metadata": {},
   "outputs": [],
   "source": [
    "x = 5\n",
    "y = J(x)\n",
    "v = 0\n",
    "dt = 0.1\n",
    "g = 9.8\n",
    "x_history = np.array([x])\n",
    "y_history = np.array([y])\n",
    "# vx_history = np.array([0])\n",
    "for i in range(20):\n",
    "    tan_theta = -grad_J(x)\n",
    "    v = v + g * dt * tan_theta/np.sqrt(1 + tan_theta**2)\n",
    "    vx =  v / np.sqrt(1 + tan_theta**2 )\n",
    "    vy = tan_theta * vx\n",
    "    x = x + vx * dt\n",
    "    y = y - vy * dt\n",
    "    x_history = np.append(x_history, x)\n",
    "    y_history = np.append(y_history, y)\n",
    "    # vx_history = np.append(vx_history, vx)"
   ]
  },
  {
   "cell_type": "code",
   "execution_count": 202,
   "metadata": {},
   "outputs": [
    {
     "name": "stdout",
     "output_type": "stream",
     "text": [
      "该点的水平位置为： 5.0 该点的垂直位置为： 23.916666666666657\n",
      "该点的水平位置为： 4.996736958934517 该点的垂直位置为： 23.81877543470217\n",
      "该点的水平位置为： 4.990188857870097 该点的垂直位置为： 23.622994074195017\n",
      "该点的水平位置为： 4.9802999571085955 该点的垂直位置为： 23.32932520551787\n",
      "该点的水平位置为： 4.9669787641646055 该点的垂直位置为： 22.9377730908447\n",
      "该点的水平位置为： 4.950094447132291 该点的垂直位置为： 22.448343852339754\n",
      "该点的水平位置为： 4.929471368219252 该点的垂直位置为： 21.861045808035467\n",
      "该点的水平位置为： 4.904881204477671 该点的垂直位置为： 21.175889965931184\n",
      "该点的水平位置为： 4.876031819091466 该点的垂直位置为： 20.392890741727825\n",
      "该点的水平位置为： 4.842551576864096 该点的垂直位置为： 19.51206700608363\n",
      "该点的水平位置为： 4.803967037428693 该点的垂直位置为： 18.533443636180603\n",
      "该点的水平位置为： 4.7596706774332365 该点的垂直位置为： 17.457053868955565\n",
      "该点的水平位置为： 4.708873035305325 该点的垂直位置为： 16.282942981723167\n",
      "该点的水平位置为： 4.650529504664026 该点的垂直位置为： 15.011174274309091\n",
      "该点的水平位置为： 4.583223877822744 该点的垂直位置为： 13.641839262623602\n",
      "该点的水平位置为： 4.5049738417594245 该点的垂直位置为： 12.175076094726261\n",
      "该点的水平位置为： 4.4128855955312885 该点的垂直位置为： 10.611105359829928\n",
      "该点的水平位置为： 4.3024902904813 该点的垂直位置为： 8.950306643044605\n",
      "该点的水平位置为： 4.166328451861498 该点的垂直位置为： 7.193404356595626\n",
      "该点的水平位置为： 3.990454788281292 该点的垂直位置为： 5.342007642502115\n"
     ]
    }
   ],
   "source": [
    "for i in range(20):\n",
    "    print(\"该点的水平位置为：\", x_history[i],end=' ')\n",
    "    print(\"该点的垂直位置为：\", y_history[i])\n",
    "    # print(\"该点的速度为：\", v_history[i],end=' ')\n",
    "    # print(\"该点的水平速度为：\", vx_history[i])"
   ]
  },
  {
   "cell_type": "code",
   "execution_count": 203,
   "metadata": {},
   "outputs": [
    {
     "data": {
      "image/png": "[encoded data removed]",
      "text/plain": [
       "<Figure size 576x432 with 1 Axes>"
      ]
     },
     "metadata": {
      "needs_background": "light"
     },
     "output_type": "display_data"
    }
   ],
   "source": [
    "# 画出两个函数的图像 并且画出梯度下降的过程\n",
    "x = np.linspace(-2, 5, 100)\n",
    "plt.figure(figsize=(8, 6))\n",
    "plt.plot(x, J(x), label='J(x)')\n",
    "plt.plot(x, grad_J(x), label='grad_J(x)')\n",
    "plt.plot(x_history, y_history, 'gx', label='gradient on J')\n",
    "# plt.plot(x_history, grad_J(x_history), 'bo', label='gradient on grad_J')\n",
    "plt.legend()\n",
    "plt.xlabel('x')\n",
    "plt.ylabel('y')\n",
    "# 显示x轴和y轴\n",
    "plt.axhline(y=0, color='k')\n",
    "plt.title('J(x) and grad_J(x)')\n",
    "plt.ylim(-5, 30)\n",
    "plt.xlim(-2, 5)\n",
    "plt.show()"
   ]
  },
  {
   "cell_type": "markdown",
   "metadata": {},
   "source": [
    "> 上述算法的缺点是没有正确地利用到损失函数每一刻的值，自顾自的开始运算，由于计算机浮点运算所带来的一系列误差导致我们最后的y值已经偏离了最小值点。"
   ]
  },
  {
   "cell_type": "markdown",
   "metadata": {},
   "source": [
    "## 引入动能的梯度下降(成功案例)\n",
    "\n",
    "这里综合上述的情况,决定采用能量守恒的形式来更新小球的位置,再后面还增加了摩檫力的因子,从而更快收敛到最小值点"
   ]
  },
  {
   "cell_type": "markdown",
   "metadata": {},
   "source": [
    "我们采取的分析的角度是这样的:\n",
    "\n",
    "$$\n",
    "\\begin{aligned}\n",
    "x_{t+1} &= x_{t} + v_x * \\Delta t\\\\\n",
    "\\Delta h &= J(x_{t} - x_{t+1})\\\\\n",
    "v^{2}_{t+1} &= v^{2}_{t} + 2 * g * \\Delta h \\quad \\text{由高中的动能定理,暂时不考虑摩檫力}\\\\  \n",
    "v_x &= v_{t+1} * cos(\\theta) = v_{t+1} * \\frac{1}{\\sqrt{tan^2(\\theta)+1}} \\quad \\text{实际上这里的更新需要用一点技巧}\\\\\n",
    "\\end{aligned}\n",
    "$$"
   ]
  },
  {
   "cell_type": "code",
   "execution_count": 137,
   "metadata": {},
   "outputs": [],
   "source": [
    "x = 5\n",
    "v_square = 0\n",
    "vx = 0\n",
    "dt = 0.05\n",
    "g = 9.8\n",
    "\n",
    "x_history = np.array([x])\n",
    "for i in range(200):\n",
    "    # print(\"该点的水平位置为：\", x,end=' ')\n",
    "    # print(\"该点的水平速度为：\", vx,end=' ')\n",
    "    # print(\"该点的动能为：\", 0.5 * v_square)\n",
    "    prex = x\n",
    "    # update x\n",
    "    x = x + dt * vx\n",
    "    v_square +=  2 * g * (J(prex)-J(x))\n",
    "    if v_square <= 0:\n",
    "        v_square = 0\n",
    "        vx = g * (-grad_J(x)) / (1 + (grad_J(x))**2) * dt\n",
    "    else:\n",
    "        if x - prex < 0:\n",
    "            vx = -np.sqrt(v_square) / np.sqrt(1 + (grad_J(x))**2 )\n",
    "        else:\n",
    "            vx = np.sqrt(v_square) / np.sqrt(1 + (grad_J(x))**2 )\n",
    "    x_history = np.append(x_history, x)\n",
    "    "
   ]
  },
  {
   "cell_type": "code",
   "execution_count": 138,
   "metadata": {},
   "outputs": [
    {
     "data": {
      "image/png": "[encoded data removed]",
      "text/plain": [
       "<Figure size 576x432 with 1 Axes>"
      ]
     },
     "metadata": {
      "needs_background": "light"
     },
     "output_type": "display_data"
    }
   ],
   "source": [
    "# 画出两个函数的图像 并且画出梯度下降的过程\n",
    "x = np.linspace(-2, 5, 100)\n",
    "plt.figure(figsize=(8, 6))\n",
    "plt.plot(x, J(x), label='J(x)')\n",
    "plt.plot(x_history, J(x_history), 'gx', label='gradient on J')\n",
    "plt.legend()\n",
    "plt.xlabel('x')\n",
    "plt.ylabel('y')\n",
    "# 显示x轴和y轴\n",
    "plt.axhline(y=0, color='k')\n",
    "plt.title('J(x) and grad_J(x)')\n",
    "plt.ylim(-5, 30)\n",
    "plt.xlim(-2, 5)\n",
    "plt.show()"
   ]
  },
  {
   "cell_type": "markdown",
   "metadata": {},
   "source": [
    "> 可以看到上图的标记点两边比较密集,而中间比较少,说明两端的速度是比较慢的,而中间区域的速度非常快"
   ]
  },
  {
   "cell_type": "code",
   "execution_count": 136,
   "metadata": {},
   "outputs": [
    {
     "data": {
      "text/html": [
       "<video width=\"576\" height=\"432\" controls autoplay loop>\n",
       "  <source type=\"video/mp4\" src=\"data:video/mp4;base64,AAAAHGZ0eXBNNFYgAAACAGlzb21pc28yYXZjMQAAAAhmcmVlAABTlm1kYXQAAAKhBgX//53cRem9\n",
       "5tlIt5Ys2CDZI+7veDI2NCAtIGNvcmUgMTQyIC0gSC4yNjQvTVBFRy00IEFWQyBjb2RlYyAtIENv\n",
       "cHlsZWZ0IDIwMDMtMjAxNCAtIGh0dHA6Ly93d3cudmlkZW9sYW4ub3JnL3gyNjQuaHRtbCAtIG9w\n",
       "dGlvbnM6IGNhYmFjPTEgcmVmPTMgZGVibG9jaz0xOjA6MCBhbmFseXNlPTB4MzoweDExMyBtZT1o\n",
       "ZXggc3VibWU9NyBwc3k9MSBwc3lfcmQ9MS4wMDowLjAwIG1peGVkX3JlZj0xIG1lX3JhbmdlPTE2\n",
       "IGNocm9tYV9tZT0xIHRyZWxsaXM9MSA4eDhkY3Q9MSBjcW09MCBkZWFkem9uZT0yMSwxMSBmYXN0\n",
       "X3Bza2lwPTEgY2hyb21hX3FwX29mZnNldD0tMiB0aHJlYWRzPTI0IGxvb2thaGVhZF90aHJlYWRz\n",
       "PTMgc2xpY2VkX3RocmVhZHM9MCBucj0wIGRlY2ltYXRlPTEgaW50ZXJsYWNlZD0wIGJsdXJheV9j\n",
       "b21wYXQ9MCBjb25zdHJhaW5lZF9pbnRyYT0wIGJmcmFtZXM9MyBiX3B5cmFtaWQ9MiBiX2FkYXB0\n",
       "PTEgYl9iaWFzPTAgZGlyZWN0PTEgd2VpZ2h0Yj0xIG9wZW5fZ29wPTAgd2VpZ2h0cD0yIGtleWlu\n",
       "dD0yNTAga2V5aW50X21pbj0yNSBzY2VuZWN1dD00MCBpbnRyYV9yZWZyZXNoPTAgcmNfbG9va2Fo\n",
       "ZWFkPTQwIHJjPWNyZiBtYnRyZWU9MSBjcmY9MjMuMCBxY29tcD0wLjYwIHFwbWluPTAgcXBtYXg9\n",
       "NjkgcXBzdGVwPTQgaXBfcmF0aW89MS40MCBhcT0xOjEuMDAAgAAAFntliIQAO//+906/AptFl2oD\n",
       "klcK9sqkJlm5UmsB8qYAAAMAAAMAABEcBuv+kDI22BAAAAqAAV5cR6FQ//+AAqemG99qhqOFXP1v\n",
       "aUd8VCASZxFbMGYbvbl3i0XSn1S0pL638O5/Jo2Ty2AVe0BeaAGJYXYaaJjgBSawBAJ65hbLO3fZ\n",
       "Ssuf5rIhb75+mrerAtcfq+FkX38fgONnnQTHn2JsMm9ASJ+ikS99XEwG2avl1L09/x01XDKl/cbn\n",
       "e1GPAUWETOniPP33AZWa6wmGh626/ve3LMubzg77IlKOW0bl+5FjXgsf21QLVGg0yWACjbT49pvB\n",
       "C+1wBAd/uefsoUrwWbMkf4SY/9DLdfUvcETG1TkJepyrSvH3Wh/7RwnFU3VoMcVkZfLN2tbRd9Tg\n",
       "T7zJ62wACWobdFODQizKfesDG9L/5STz+tVT+Y2sjzPWrwphMHqbS+tMDUPigbrV9qPs7MObBoAc\n",
       "yISglUSTZPVoB4WHBrJtaXKK5srXTIlYA74pbHNzvAsV4AlcWOY4NUjJs7HavzkFv1YB6n/B+Hua\n",
       "3vp0GGmbOoc1NAWjC7MbYgEJnHbw5/CGW8Bx2BvmADM0km3+3A78IYcP0l+pfKzCILUEZMK7m60y\n",
       "IQZ255KsfYsqd9J73fijCLIPQgMS5zVyvke6oxEyCxSvxc0hOlmWhJOcF8GAqZkicoodDQOpiAVe\n",
       "j90MX+WugUoevU/WHjOpKPUUlmEaoWOd7WitWrWLxj3454B1OZoxJkBRzGQx8swO1BJ+DYN56+7X\n",
       "Lonj1DDkf/m4/g4jPGvpmPbVXpoC0bTqcQYA7ALuNwx3Ei/EcbcrDZpXVENpkND47h4BveH4gevP\n",
       "IW4m3d5hA9CMMdDuzRR8zBbcWC+ZxBiEjee2aA6NI3xL34JPugKIk/eRS9shFaONiQYQrIwIrPGE\n",
       "0Cu0xvI/eXSaxn3v/p9rjtUxCmumoKuSRC/IT1mMAtPnk11Ip6iCmXX0y1STHVYNIFQMzIymAhL6\n",
       "4Wpn8/iFb0RHkup6K1B23XoJsffYQk7/D+rKz0WvvgMN24wRVoTZFcdRQhfdEFGypVk4DQrIzLeE\n",
       "BG0VJ2Uw0wR88FbNjUxGeq/qllEz4Z68pheGR02WJW2+oatDybOf1XQGB48EkVyixKn4EVbB0Fyi\n",
       "MDAWfK62MF1MSfqHHKeNWXn0pTrPYqijGmywhcmNBDMi8KKtXhBpSlq+T7ixtWZVSs2oV/t2pb2b\n",
       "d2S8RXuw5T48xpih8HnE0IZejHGOoKgKLWQ5B2cVuNubhBCcDcLJeg4i6aPX5YfYuT8n4RIG2bb3\n",
       "Y9Vkxb/rbSUWOdghuAcM4rTh/6mvOZLHH/yZ0cdgxBRLksUJXm+FERlN6QklGXTbAwgR5iGbpVyY\n",
       "u9HB7nOKhrK1gWnMs+mVyjVSbJaUIXb/5NpkHq4fwAXuzVr9t0KykiR8C9xVejbHMNZHOF8jTLIt\n",
       "NoMEFOa+UftlrJ6vr8jt78AEYBsgufcPqHm/svWK5mENQdkwpHqomEV+uG+ZQTHRVGlqDvIe5SPP\n",
       "bHToC4j0rFqOOSUVaxiFZEGkv6Gad0clp/z+JVZXSQIhskdbDG9lG/pnXDfxGjqWncUppidRuRF4\n",
       "fpms6luhTcABOLCSHQ1xo2Di92/aVRA25SjF72M3RMhT7ccoSqQ31dtqyB8rwKP8poiPkzVFhL6D\n",
       "7YtVybuMsNvWtRD0O+NVJD8zXxf7sljapOqyGk4Bp4YtdDR2N9yQn+Vlpo4iShIKuYXDAa3IsKRz\n",
       "5k7jQuLjSg4zdH+KsDWA1jd2R2ttOgGWsEBsCWc8Y1kcUYz+cjXyWhPm16/eBH3jv0XKCcbZyDfE\n",
       "Sm4gj5FqfpIGGpEKyYmR3cMS6BmwcCCiKDIuDSYFpIw3sCoO3VGYJA26kF9klo3+x+e0Ds9VF93h\n",
       "asH8Fm0oz/9XvpP2PnLRqVQXXeMKfwZo9SHIbgauKRwmdKJeJQTepXqqActK9b+lf9SX4xvxbwEU\n",
       "7dd63IsSGu6Iq+6RBjT5ILOrWwBiSdGM0MafG8fMMoDpq93J7DX57o1pE/mBdsL3bkmABWHOmA0w\n",
       "ZGuqYvmnM+gNZc/steg+UkDLKu+mkAtxSJ+82juOANcjSpZg0k9FBqjZUrAqDzHaipDhJ/PYgX0+\n",
       "u5p/sasNFqS1WTrCfY9XewapDDPlQ9gR6DXLYbolT56EYGHR+7cG2+rUHwQzTY/W/zBAOBZJqnHU\n",
       "4TvkI76/h2DwdD6qD6ohJHG1KIlwJ2ssXGpuf3cZ+882VLB7caIAXr7bGFVNO4HLF/VVpCc1ZMou\n",
       "0QIM3T3KHlAsbNlw0N6fynhGyRlOmZ9+H3SXgGqqLlZ5nNthnUhJhjSc2gjC+kNi1x/Tvko32c9D\n",
       "gYR6Gzbgb5iQ8SYLmOalCTpTeN1lnZNSAHarQit1UNQ13WH1RFYL5n/CuwziIfyLsZZTDjPacMxh\n",
       "il8yZwrkRD8kr2aU5wmCsJYlH3vKNEIAp+8DG4m3+aOPVENfWclGwfgRkwz5wi6V1dNXM6PdVcRW\n",
       "TpwH2QL29nTDrzc7K7gWd6xXZnpOiy05bks1nRESXUiDNnYFzS274Dhm49CHFC+DVs99meNL2tyT\n",
       "LGuATS4ae+KrtPsVWhFXEr/aSH0TFvUEA6YchPz7fsmHQ91+NsHAUMQFCaF4Oj6AHhdP2gydRBwJ\n",
       "9BHEHdry0FPIphzUbKQIwiI6566XY26ot9f/kvHVfm506Q0plHsxJHjUe/AJoJlmnYFi2UtW7rJV\n",
       "gO/XODG0X+FaXFJVAXsHJhhfF1uuUKhbHXYDeJmLNx9hrQnnuxxtiry+buQCOYoQ8MCTf0eSCNj9\n",
       "8gqkmvwvLZCBH0t4FiXoMRrNqsAph9+uK1PPQjnojVIFz89mNObJoM9vaoOAX0uG+c5qC8e+nyCm\n",
       "fz0mvbYGKDrskiUENRjq6Aj50aApxIizW/wyGxwKdbi+eRTPMkU10gOT1fgfUzSdMElk/9MDuhh5\n",
       "hcAzBFj4c4Ux07HDY+NxqrfPTwhdZeiA1Z6AbpBN3I4QqPEKgYI+TvucVBsiRgKmmRh0dT+FPIIj\n",
       "uW7uRc6DcAxRtn55FaR/KtsGNVYgGWRHBjlAfn5aY7ML8WlqkdQlw+IKXHWC9jDgI6DT3m8W9u4X\n",
       "A+MfE08IhZxDT4m4HO9Ymtcz6wcPX2hTsoXvbiUUFnX8ikuL+mT2N6Sqgev7qiAh8msPu2sLpEGO\n",
       "O+I2i/GU/DdXtxGozUaeIkF0Y9f5P/T43ad0wUPzr9SY4sY13pIkZtOTZlgZMiwMUen0opocKfh1\n",
       "sszw39gHaJIiu9TtcCihGe7YuF3vrauXzoY6nq93ITzIVlS52MU79wF+aeWnpGT2cxoq6lV8nJ9m\n",
       "AOHjXaRK3yM5CeWaVjcwNuxA3JvW/LLtd2U1pN9psP8/QAGT1AjHSaAYPozTombSmGW0oDdrayCq\n",
       "3hWI7igTH/qRMIiV3A/7W8uKqGfY86Kzif5vEp4kStK4WaGMwudzb87uVMDx8nWrtMEtJjxAbEj3\n",
       "QhzR6P+CjMc7UCAk9+cA/lNu0d2phCRF9mxdsZm1EwVHcx0Bw4yU5IFo0aSnYd3DayYViUUkCyte\n",
       "ciH8CzNBRg6GnZjE/EgCQF0Jv3T+EmF/FD73drWL3pBXxk4nO7NmlnaLQXiYDa+yEw6uCA2K3Prg\n",
       "R68G3QSud1hZeyLD4NOVJvCT+F079QVmp6IHXgJ7uMdHTrFkN/ISf+C1zXlna8lNV1lqmXzfQUZp\n",
       "iOvuaLWCJfWlM0YTHzRMYi/RI5S8nQwwReA4TBZ5uFrwy/2e38GrJ8cEOyxKrAyrjOGk/Cp6wCUp\n",
       "1b6MkxMBCRiZnj0FVNoSlkufl3oYqIHhyOyeXBpz/isNEKouM7UhH8Qek7iJ2RMDUcyHNQi3EzLJ\n",
       "hB5G3dhB09XdnUml3f9C/Ami0G56PJX16npopm6QXQEtFrmerFLVerR3V/insV1EOa10BNquEN/j\n",
       "2Ea3jF+FH4GRh0liLiV/p4szgquzzaNDRJICO9opHSIGkpjzBQW1uVRdOBlW3tSKT8iCVqcd16hC\n",
       "y82ujjFkXsOkgMkMBeqyqux5IwyN/ntFYBMADz3UfMHtpia6mmQoVQt0wUeMFnao8bxVWB5Zd6yN\n",
       "ls4G0+0KjDPx369KMC5M9V2n2pXTb01sVunkhhdied2msgESg+XJpuNMwBsepi51ITFGY9UMS2t5\n",
       "6hJ4SJtj7F0G53tjcWysG37o6gM1QTpYXdqSDahKCFg6AMBO9dWAtUgiCTkOmpPzhbdh0efKUXiQ\n",
       "5JMWK2fn/rPrIONX35v9jy3Z1yKhc4zhpifL0nEGGr74pCbJj7jX7JO6hhfbXx9BTm/a/95hsayz\n",
       "ip9URv/kDlGPQhYSMbKRehqT89xbNsyhZRlZ+Jra3F7gWlvII3TDTPJmvhLlDGn6FuSJ49ORe2Fe\n",
       "h0DiYvgOh8nskk/qmd/3biUczmd+y+zFZX3cYBLsoakO0Il+sL6FQjXeZc8o9hOS+MHBAofybXn7\n",
       "uZG4YsNUFk96ccBzSU9A7wBGXub0b6wBfRQLiPdKSVFtI12bT2CQm+1Rhvz/n0pdJiCL2ulSuH72\n",
       "ri8ah6k7WE2Hd2VhJ0Z8o0/gFvKEEER0Y71C0Xi3HsosOMPrCAbf4UwLJr3VrQRtaDC21wdyXV/D\n",
       "YIOsBfeJ7uPk15mly9X34605zi/3j5Wxzamq2S+Lhn0XU/9SuqZB+uL+e0mcuryGofzVdWIo/FuT\n",
       "zeY/ECvKw9QxI1/S+Jy6AkD9x25PiHDrNiG4Y0sR8NSey5ZcAkY1odV73x9vPoiSMJK2oO1Lw47D\n",
       "9bRdSb4zpPvVVyVqLXESa1lJTvQ7eHwmTf3npvgJ7E2KGRvSRVXQe+11SBUiodhq7NMIuQcEvbGV\n",
       "LKx/u5WVnhAAh3KfxP6aep3zrz20KmOVakX8tpS5nJjYp1w8Iuk5e2ZiwfSRT7lib2nXI3MwCg2O\n",
       "FMwDZOkekdTwgt9q0c3Cuub0xvvVYWTaQD7llcSL2r/AHGstoM6ozpRe/swk8xZCUFhr1NRbDzkV\n",
       "a+EcJp1MOjG/kVT1sCCrELrav+98mHIx4WNKvPGd24LP0VizdPYv7PqTq2pXVAl5tqa8y0NlqkgJ\n",
       "R6YaTQMstbGcp9////s+EJUPvfJ88ea2TAeEojAlbm+DtP+5diPhqilBFj4TghO3nlfuSRyVlGA4\n",
       "bhStnBr8gs9kVI1mjcQigSIFz5u/yXUmsJoy3BRXPHvghyu/VNIvfe1CV8UUoRVKjLiLyUn1O78n\n",
       "uwl5gjvnZ+yjSBOeKjI4gCbKa1DHBHihwVbua4uhNzLHBIOFbRypAiTNplTBKAotJ4VIPSsefLiz\n",
       "NWLze+5APtIbxcNucOYehIkoRkGWX9MzqZZOszyJIP6qNczPxgfWTr0JMozz8POS1r/Z80Trwi3Q\n",
       "j7XgZx1crwSjUrpP+pHlcpetwQ8DxH9AqeD4JSaX/0QyH5C+tev/aOiHGONwGpZ2D/EYRTaQf6p5\n",
       "UF3L2sWJdI9weDw5lRk13zbuU1QTihuO2MbURFUqEEmAB5RhQfJMtlTOq93D6Rqi4ztjrJEe5RtD\n",
       "fagGRMpDZ69g7WcSei/byWcCTymlJVU5X+PV75krUMpENh07+deenMK2H9fa9djN94FgjUYTvUNa\n",
       "+ZpLOwo6XKdXApEpN9F10JmQg2IXdvBhOM5zEw4tXlPJasz5lLS033SMEygXiIloQU0YZ+8Ze0lT\n",
       "b5FTodu55Z9ndnxrYM6OKHOQ9gaN24Ku+GkkYQleZe7EVKVMJU1bzmfjtF7wm/fg5IbDZUktlPec\n",
       "DucvVDeVdsEKKjJKyJmgLZjJD87Ykp5CHvZgBZ7Bqbisgn5ki9RhhuUNF1IA32mM9tprop27p5zZ\n",
       "XK61eQkUThbyOXovpnAtIFfR/ZrDbcILyZVY8vfw3+sZ2rlcKysU+kNA6YAbzBM7aUe/osHLlMGs\n",
       "H7d/XzQ6lcujav8uvCiYeiQnZoH4u+Qua/Qv21Qf4a8tck5ncab9spmimRjGL54W1aMte2OYbfkX\n",
       "hwt1oOLDCN+gsJW495bAyZnXdCjrOOB813Y3cFeV6i9M7wiKGqakNCjesMOP9qYf44h4EgRYLt1i\n",
       "9iAEKzqf3dHxB0iFv/+gBbaIZg3htBQbU7LIMPA/CjA5vSFqQWnDCe7HbZtDKFOXgijXWCTEOcSI\n",
       "eW/BDLhrIqGMIdMSTttLH8cq7SF8aNyp0X+o+3zjK1B0XPX31A4iwk4waXo2br0NLzJs9mN5GRxF\n",
       "KSxa21vF/NyySNXeCSo8kV2dEGOgEtmwRj1U3pajQHqyPzwafEZZ45UKaWUSK1uT79NjWR2+Afh4\n",
       "DcX6ebNpcSUh4vjxJqM9h8peGd1YMZ1ntkFvIco9wHa8/nO62TsX5kdtQer5ddKBvX43MWyeFct/\n",
       "X1oOAWf+4mAiMcrNS7YfP5YPlzCA17XOJCOwwi14Dnw7qlPoXpTmEduZb0rAAGMPAAADAA0IF8kH\n",
       "X5pjjMwLqvVp7OuubZhO4HC9nwjfR2VlyBS79Jr1ukxr89Bv7njeFpYXl/t+1Z6zouU6/jPu18pt\n",
       "EHsgSAbGEzImszbPbV4H+yH/xwJ89jBRFGuqo8U6ZoQsfruhXH1e8iiwpVdze2tc0/vq/+leTYeU\n",
       "GQUHJ29g7JLxEg7IV723iXMvpmOUNUN8yXnqUWVD2NDhOLInW1v2sVZE4pEa+wUdKQetKdtmmA9j\n",
       "Q4Tixi4eqT9mep7JzEa/bqcloceof+js/Hb60ni9c1//I8p/6StLbfoLvFQRxJdg4rD6o+SR01uj\n",
       "qVi3paExYPc02D7RTEI28Hk4Scivo4pyYeej2sCprWeKcziMW9LQmLB7mmuevzc2YRzfdxrQcD3S\n",
       "HhTv57qcloc79RTaDvMAvWk8Xmmt92iovxzrhMjjSCPDJ8qQsB19yEZwqm3BYmq/HXxRze3xFnnX\n",
       "Iodtnd7bYbGi4vPdABf7vc0QRjhPzUQQKjEuEcss+IQi4QmeBkRqPnpBXA44rHZmgY4R8raXuiAy\n",
       "uSPPqIAyG5i9V+fXJJ6who7exoJBC/LrLFiRhBDsxuTLhN8O85/Gdjh6MEHbgHvEynyO2wRa9pXu\n",
       "yJEHi1Rwe+r6J854hs9V6plFVG/ZoOhQ/1//M9K4v9v7HgQj4SwBvcxtt3Lg8c18+e6BujrYiEeC\n",
       "80/8aQC3lLKYwYLzuX0ZcSAQHAEVUhYpsKPcOuX25gWXNLS/A0kpCVg6Y5r1nrsRX6Xys75sB4GR\n",
       "40Jx5UQtkE7XpIiwYUwn9zAq2nUDR62JjrfvMLn/LA1zj3PD3TFyjeXCKMw/dzxykrGqVk0WqQNC\n",
       "CJXAh4m+QicM86tb503MedhnzuFbBQOfwwStEiFciryJbIbGTwGjGZMpY1y3RoqyjPbYBTlQovqi\n",
       "U4sLy34XDTqjqaMiqax2vMimLdkKJSesKUFdbSOqs/f8Fbf3SbVWfhI3raF0Qxaf/7rb+vKHEQx3\n",
       "PdpM/0hd54CbEZMnKACIZqLes6UGkwDP0SPgxT682ON8O3upJrdU6eZa21mB6/hlj4kMR/Kuovhz\n",
       "DQWLVY46vgF/9z21Z9LK4WF8eIF0iGwZ3pkrUN3Smx3hDAWdZdkOABi6Lfbzxl7UcQAA2Jxx1h5G\n",
       "oTrHJwCawDXxZpL1d/9RFw1XjNQzFbd8yx/0KLAAfzFDgCbAAAJXAAAAdUGaJGxDv/6plgAEI/4I\n",
       "RRFeKAFcL6/Pbd4/uGwzd8qsrgv0IJjFS/TpYJ7WrwIesSMoBlysc0Pg84WOIz8TR3srooujnrWU\n",
       "PgF3bVWUOgj3ceeXLgeY8rzlAf8b+Eq7lUwYqttjUAX/wttFQdOZEQA+zlA1sAAAAClBnkJ4hf8A\n",
       "BBZ2NtfWSVLycmpMnFCaGqZ9JUd94O7KRAASFa/n885R2QAAABoBnmF0Qr8ABa0wu2lHkroMmAQx\n",
       "AKaxo0WgYAAAABkBnmNqQr8AAsVe5eavgZALKt7qfBoF8EYtAAAAZ0GaaEmoQWiZTAh3//6plgAB\n",
       "qKhaCVACupZMCCbGwFhnbN09CwjYXwGCACp3CCTIeajqa1SvrkKecTi/W+RWsKbbCwtk7hTHZpsM\n",
       "LMLCF3Nsa8NXlSvsFvYheVnl8nQGXFAOkApVpOEAAAAvQZ6GRREsL/8AAfyIpeNUUzdU0ACEcomz\n",
       "UNln9ohCCQKfcMb1rZpY/JnAg0XfAekAAAAiAZ6ldEK/AALEl2rPIk/Sj9SeilnlWV/GeLihXgSg\n",
       "uQvk3QAAADABnqdqQr8AAsVeSBVycef/De2AECFxEoq5jB+eWG5pnpm7LOGAfTO/ZzH4HlJ9NBwA\n",
       "AACDQZqsSahBbJlMCHf//qmWAAGoqofngEDLtXUbUGpn55JknDDNN/qWOK0JFICTW839W8aCnn94\n",
       "hO3baSs8H9sR6eUANJ19UYJ1f/VlroVQcNvEh2cbGtQWItjw6udRKm5qFHQ5nEPAbAEqqmzBaLNH\n",
       "9oGzDCsjkQEdDvSw2VS3LMg0QlYAAABAQZ7KRRUsL/8AAfyIkja1Ni/Ue6+5XPABb6h4ZH583yVt\n",
       "/6omcyPeFF9f9o1o6Z/7o1CDkIQ/JHqmd9jImtzpgQAAABoBnul0Qr8AAsSWxnczlOHKbyLNY6TY\n",
       "1LCzgAAAACABnutqQr8AAsVf9kJ8IZnXgA3QJKmBgqP4zNzObxxqQAAAAIdBmvBJqEFsmUwIb//+\n",
       "p4QAAU+iD5BxWxABNyMPy0/LB7cb7MRO+vCVGFp+FhgW3svLOCegm1BYtTkQto5PoYx0db0pyo/Z\n",
       "LwiBXcEJLiobgEBvwot5Lg9xt0kjnRF7Y58zJRY0FnVneF9Ccd4T0dvtx3qFsYSV8u87Qc0ySW3B\n",
       "MmHChBAAB6UAAABdQZ8ORRUsL/8AAfyIuzf4VgqmuqgneADUVKgM1bT/9alEOKNuwdjRBp1A1NAE\n",
       "nnlFEJGG+MuMFb2r5xVGlIddOOQUXaelpwe1xSRc5RpX1BPq+ysYM5rIifcCwMRNAAAANgGfLXRC\n",
       "vwACxJgPZltdmv2HQIAN/r1m2Jdx2yCSkw2GIdMs/xiLD9pW+LANVYE/XsyaDYAFtQAAAEQBny9q\n",
       "Qr8AAsVfyQHNPBbuA3YAHOFwYPxbDstZPo9scoI8xHnPwMiQdmao4bhsrTfltnkPgeZcR4uo5W5M\n",
       "5tAcJVwoIAAAAIhBmzRJqEFsmUwIZ//+nhAAAg1Jfu4B8UuFo8ljG+rDp/wY2is/GpnGrI1SaK9X\n",
       "PMpBjPDfuYTxMBIcMlmUwenQuYwUYBxMEJQWAvwKsZmQuot766kinxJbrcXFr/9BMY42tVYSAXLV\n",
       "RkwlebyiGBt/x8pxpYpFoX5u/wF9JhZZpEX3ucsAAOmAAAAAaEGfUkUVLC//AAH8iLSz2ED3brbF\n",
       "vJPgATr/A/gXHqlJzoLME7P6XZGaaTVdLVEmBUlRUupgo62aBUh5Mimsq1akVdBLU3V/5V9jcv0h\n",
       "ZrFrUg4jIDvkmYn95uMwUpEA/o/HxP0k2CXhAAAARgGfcXRCvwACxJg9CXfUYzSFSgATIJoiOtOX\n",
       "CXCiDbbTvAyKeSWMUwJO+kXWwwtxGTrtcyba2Tdm8C7q651lZ56vQYmYi4AAAABDAZ9zakK/AALF\n",
       "X8tddHKPosAGdkTb7MwkK3hd4ujIgVT0YKRBKlJEozJ43bUHlFEc1ex9x61fmCYHA3G3RCsZ8KHG\n",
       "9AAAAFRBm3VJqEFsmUwIZ//+nhAAAg0Tw1jgL57APqjZuWp5citlPzR6Hf1LdwK/04zP2FCySlPR\n",
       "hGBMrfqjDQeaa2C/PVyyPeEHFGc7TisgdaQhtgsAAV8AAAAsQZuWSeEKUmUwIZ/+nhAAANMcDrIZ\n",
       "+wAlpCYuBIG3VYEX0Nigvv4e10IAB4QAAABmQZu3SeEOiZTAhv/+p4QAADYArbc6GFn4ARF4FJTv\n",
       "SdHLoML93sDtt7NPW/v1d4I44fgJrOuwkFO6d/61YKNoPjncxtWQnXsoQyMA63PiVpZERC1CTutg\n",
       "3kyPavMb6enAxoIjQAO7AAAAPUGb2EnhDyZTAhv//qeEAAA2ACo26oPegFYnl4Mwk/Uy2CyJ4RL1\n",
       "pMFjhCFJPaodoEffaR5lPyLENdYAP8EAAACAQZv8SeEPJlMCG//+p4QAABY+ZdgnEod/4AUG5LK9\n",
       "qbevIc4XgZ2DhraT0Pgl8cYxh5LxtantHTaXDU5sv7we9C3Y50sBxb9RyOoKNmOBVvunG96li/aK\n",
       "fkjj5d+8DUdVDUFx3LBTmIeZmFnzGxSq4y3E08dyw5Yf73CdAYMAA2YAAABhQZ4aRRE8L/8AAAzg\n",
       "xfIAM8ruaqWR+P6v/NZtSwdP3gcFWc4IRhkcE+WPl3j1pj8QybUNJ43jyIcl9DOlX3c/zDqLu/9l\n",
       "a+fZrQMFc7vsTqCfYBvcER2hnfEiFspQBRkwIQAAADYBnjl0Qr8AABHezaQCqoyBNDk7sABfSwmu\n",
       "PPH2+vfE9yJHoP/2mHebJsOGK7hBzdIFL2ERoP8AAAAsAZ47akK/AAAR2Qnk67M4llSroANl4dlj\n",
       "pVXf4g80SxN5jOXbJIz/SeHIZ8EAAAA4QZo9SahBaJlMCG///qeEAAAIrSSYA1gAn2gBo+pUkpB+\n",
       "ftHnRYl4iNT2o4Rd+nVvNsqhZlgAccEAAAAoQZpeSeEKUmUwId/+qZYAAARhfuYkf+NN5NtnyAGz\n",
       "dC69QNjQEMACHgAAAHBBmmJJ4Q6JlMCG//6nhAAAAwNzgV+lfr5KABPWuLnuhXa0CLd/jR8HVtyj\n",
       "0i06xO76wSn6rMme+gL+FwSBgt0uSC/ojJFiTlwGOP/s7RcJ+b+trA29chT3/Ekj+vwgD1kFETo9\n",
       "ow8k7nqPCbRMAO6AAAAAaEGegEURPC//AAADAgohGFxPwAIg9G7m9aIo4k5s1+8UQqm7PkDlNroS\n",
       "ur7mFBXo5eCCXsCQ1VAt9XgxMXkSlgno+5GdA71ZA1gB1RsK0fafwMTTBzKj/zfg6a/qWsdpM9+/\n",
       "WHh0jEwJAAAAGgGev3RCvwAAAwLXaxDZT0Sn7XEKfjTdGY9IAAAALgGeoWpCvwAAAwLW04l3svkw\n",
       "AW9Ntu5m8wPVo4E/Pp7n+w4mqnkwHRhIoHKM8vEAAABTQZqjSahBaJlMCHf//qmWAAADALKLkbiM\n",
       "lTACupaVpRYyNp/dMEF1XSKZzNADaUKICNTfMnFm3HsoemTVD4HlYTD5hfoZqGE2kRvFzVCJIhKg\n",
       "DpgAAABzQZrHSeEKUmUwId/+qZYAAAMASBfqOXLE+ig+ACupAylIfKeutv+jQx5pnexrRPIQ3VAO\n",
       "Tkz9fMhe2jP5RfHBF/ig9XxRvMTQQEzsK/sUmN1nKIg24//lgsqsk4qQVc30Ye/n/6is2b6Jn9p/\n",
       "b8I43wgQ8QAAAFtBnuVFNEwv/wAAAwBWWDTt1gfavYACBtp62oSaoJLuEgzAjLSoiW/fWHfCB1wl\n",
       "MAj9zI4U3Fs2HImx66FyxHcZ4NUbswLtPFlFAtmnrdKxXB0Ppd2iyRt0q2etAAAAKAGfBHRCvwAA\n",
       "AwBzf03m7dljX3ABneprWadaKw1Vcd9psFS+v9LgHdEAAAAaAZ8GakK/AAADAC/WuH2OS3UUEKw8\n",
       "IjORNqEAAACKQZsLSahBaJlMCHf//qmWAAADAAu4TPQFFu1VEBNFBey/+T5riKOYNFGxX3kbUuyU\n",
       "wn7XeJR4uVjYhpnjXX2gnPzAIAtmpIpbRNaxC4CvQf//FAy3VCPZK/wuQhYgfJXkNUUkHJ68tQyR\n",
       "sQuEt+v1rRz3MBKHoOcTr8ospk41/bv5NuVtagV38SGBAAAAYkGfKUURLC//AAADACK2PlArWAEJ\n",
       "C9LWjBATPbEoyKDfYHDUCClgJc9aArd6m3ioxZY05U9J11nRXrJN2MH6B0KqmpOWk6QsLFpIGYeC\n",
       "Ze1/gosDkCynfEr1sMEQcOly/5bQAAAAOwGfSHRCvwAAAwAS0tl3o7gmAEH1P6aJv5bHwstx2Y84\n",
       "zIGaf4GnAwMvK7hH0LFO7N51x7oV8C0C8+fNAAAAWgGfSmpCvwAAAwAS2R+S/CIADajtdVG09O69\n",
       "gts/HgK9COr220CY/0kTrQRP8Nb7ib3DOI89gslYRpDTFDJfVor1yi9wqvse2d4OWa+WkP+KXdiE\n",
       "5ZvitshiwAAAAGFBm09JqEFsmUwId//+qZYAAAMABMFTnOeKdABtVzm7Ip7aQ/3N3Y/doouMP/CL\n",
       "bv1FfnC+f168zfnufxYs9LAH47XDi/GwiWjjwjsxTP8gV9e2rH2w5tNz+33X4MBu09mVAAAAaEGf\n",
       "bUUVLC//AAADACK+cuvodFueFmpvGwAOtE64aLs8Sim0hP1F9C9dAjllceQKUQGDFuHuxWRiNB2V\n",
       "SdbBW3xNBZfDY6rfwAWOeXW0FosMXvCMnnyeHe5OvIiw4bZyRuoa8lsGW8aFAAAAUAGfjHRCvwAA\n",
       "AwAHl4Qxxnx6gbOQAQ/PkePNOG3cIuTGIAPgIMKPm0MUmPkx3ImeLMIxVLrKjaP81etBCqgyD9Se\n",
       "ccAo0kjlr7Vian3HeIgfAAAATwGfjmpCvwAAAwAHQZVFYVf1KAAIAQwZypA4MVz9vXMNCbCpd4ev\n",
       "D+vXHUe/Izrazys7uY+2gDeN/9VuVUfXRUj3nlaeOvlvOIishhj2E+EAAAB+QZuTSahBbJlMCHf/\n",
       "/qmWAAADAAMBKicAN2QxK3YqLfxt9HNihjjrynoqFUoN57a9d/7GLl/xicUxxLHdr9sEqcvT7bts\n",
       "s86dCQIU0EqGmWCKGVeWBwqplmlnZaTrIIAYjnScg3yxcxAa03lGYJn/KwSV3CfFIiU3Z0Z9kyIm\n",
       "AAAAVkGfsUUVLC//AAADACK+cum/Kb5mpHvAn9EXgA2o2ovS+RI/lOqkvnlBhCS95iDm6cgnRw8R\n",
       "JfNOmGm0MFNDh1jHMEKng7Ee5gtycdcrbfuU+fqKH2FbAAAAUwGf0HRCvwAAAwAHP4FEsC/SX+fT\n",
       "4PWxAA7Iu2Bwb0OS6ZlNFfgJnPZFS4YlDRVrS5zhQZCyg5afaqtSgt34aih+XXCoZZyn2fJaC4FZ\n",
       "SfEKHxqrAAAAZgGf0mpCvwAAAwAHQZW7+1c/ww6iQAbUaUPgDqrgcD4KGxIhsSspnefyxt5XWbB9\n",
       "uQV5Bg8VqkM25Rl3BUzOBPjjmRLGS58wwQknvKvFpF5isLNg6UpTCq4I+ATQq0Ne6cQgjYymgAAA\n",
       "AHtBm9dJqEFsmUwId//+qZYAAAMAFA55WAG7HgFsB9i1aoRz7iqG7cJdJVAjDMv6XuUZV6Qh5/Mc\n",
       "IVpRiIpVrnAE9Qs/Rm6j1cm/maavWlm7Lcqwb9fwfGPOkVNrzM4pXUhrz0yIGBf+gxECFDsHqJ9L\n",
       "YHyZQj//OfWoa0AAAABSQZ/1RRUsL/8AAAMAIr50ReS5uc7OADLZSvlRenajVDUnezJ6q7E55dQf\n",
       "Dfu37gVzwfnXUj2BfjI1L5exEfL7cZLhQfz7Kflj+Xp1yFs6VqfMCQAAAE8BnhR0Qr8AAAMADJR2\n",
       "GkM9ebyACT+2oEQvs8s2KGrCywkS1BdboT3j60tefVD1EtaVDd3oQn7tjPqAxP7zeE79vn7xlwSt\n",
       "8QCIOIpZThBwAAAAWQGeFmpCvwAAAwAfxkmUwgBCc6qkp0qRBvw8gAyqRlZl5Ig0KT+SKUjy+3nJ\n",
       "suS5InhTi5tlQwWVX0q1hEYg5EggUQHLqrN0smeVC2jG2uyL7PK2GID285WBAAAAe0GaG0moQWyZ\n",
       "TAhv//6nhAAAAwKNq9AB5PNWnte7W6MyygJ4jvkyHpgOrS9CND+zxakaC8YoCMIfIE+6B/5NXvsd\n",
       "5FDya6fyvpnqEL4/vVfJzGTiJS8q+y7VZHIrJ2pkaM7YAXvqbRI2kNNBb5xyjE7g0VoHODDbNkNF\n",
       "bQAAAGVBnjlFFSwv/wAAAwCW5zvlhABsYsqYNXQ0DnLWq/IqUn4mvyGiqf9lRcYriIesm6rgPp7g\n",
       "kmjCCxRMLVElUlx9tsC5ETfgOJ5EhapX6IUAmCpWv7BU4WY3KJryKIbaPBTKwvAK2AAAACQBnlh0\n",
       "Qr8AAAMAUcUTXuuPAAgDcOz4I7Gzdlui430SoBQx2UEAAAAsAZ5aakK/AAADAM3apzp6UwAZ7hJZ\n",
       "GQ9Xdg89pCVCgVwYdZ1kxjtbtRu88IAAAABwQZpfSahBbJlMCG///qeEAAAGblP0AJauS409s2oW\n",
       "kvg/iSpLnrvQPYM0WCYMC7LfIMT0pBfDnGRVIyem3IcnarNd1s+Rzb/czyEUIvjIq1GHygyl1PyD\n",
       "8XAlXFMOktlJZ4RMY5dYOu5UScBycAC8gQAAAHBBnn1FFSwv/wAAAwPMl8PQAjgBB+7ROkuE+EU2\n",
       "WvTzqdAX0EYzFSzU9q95ydg//MDSCnc+mtsi2M4CIX8Zh3IVlQDsPdkEe4WzVIkD5fPgyGFIPaP1\n",
       "mhB/fIl0a2nZK0XW+XKl9Fjr9jXsC3EvgLuBAAAASwGenHRCvwAABR8ku+Gs6VpFgBB9bI0mwVtj\n",
       "VLzUuEmCsi9yzztbsRo7N1OWc9UM3tiz4kl9pWnvYM3cEN9G+Zc/92SVPGoUawAScAAAACgBnp5q\n",
       "Qr8AAAU+QU7m0uefut0HMCgBCixP8gnLcg+1tJQk9731KhnwAAAAUEGagEmoQWyZTAhv//6nhAAA\n",
       "D9j21ABzZ6o9w3ymEfv8lxc3JewVRadPRqIPcd1ZO7IZ+52u0ROa+Sc+xs8zACpFp8TbfAxAQjz+\n",
       "leEMABJxAAAALEGaoUnhClJlMCHf/qmWAAAICxI2bqT6ACX16kS5tNZPFXhVNYxa8gU6YAEHAAAA\n",
       "c0GaxUnhDomUwId//qmWAAAVL7rywAtkJ52CS98uBIejQN95HnI1hMyts5K3YNl8nFm2wxi7bjKU\n",
       "zN+KfkvPzhBgSIisQSZ+mKJ6rAFCo3xC1kflpE9po4vjJVsZzqangr2cMnvYg4RTMR9c24gUApGA\n",
       "AUUAAAA8QZ7jRRE8L/8AABklFXgY9OfPCAB9hz95RNOf2mWnDIBpDlLY1tactVwjfpfWJgQf2mSM\n",
       "R8u5wGT+5AErAAAAHQGfAnRCvwAAVDJDgpyN4rbvKIeFtBrnHMqRGANTAAAAMAGfBGpCvwAAVBp+\n",
       "M6WBuQTAB4L9wF42oBDPDHM8z6wi/l+yUr1k1SSpErL7nydjQQAAAGNBmwlJqEFomUwIb//+p4QA\n",
       "AQUvm4AQmgxTQbZjGOxaes6N2W3cJO9xuwtUqYnIMbbuH072qpsOYZK0hYVH6JSHULkRBB+KC/Kc\n",
       "+WUwd2uPlvJmxUC8dSD2mrCKikGOqUAANSEAAABfQZ8nRREsL/8AAJ9PAUcN3CADPME4R+dI96FF\n",
       "hofq5q0zjQ8eD1DSxHWl9qaEJgKdj1QujzudnfGr+s8JocvfA+5i6fgJWDVtS8slqxBo0LW4gbER\n",
       "3DpcfUIs/qkALiEAAAA7AZ9GdEK/AABWKuv1pBQABD2MsxMZbaNPW4aHXFn2rSYzHrKIiNloZCs7\n",
       "PiRvKWgELe3Fugid1ygGfcAAAAAqAZ9IakK/AADYOhl4oPkgkAH5UriKRmZ/vir1DIh/0It8WWsb\n",
       "wnfrFA7KAAAAS0GbSkmoQWyZTAh3//6plgAAhLFeyPLwASSPexe7XUeanhxGXbzxBgin/wXmkbch\n",
       "tapM8TWMuUK499IfZc61Z7ofNS369C6VIAACkwAAAG5Bm25J4QpSZTAh3/6plgABUuUTgAy74BAS\n",
       "3j/9tAhN1aNlmXjzpFazPul0KUNlv1C2Vdkd/wfiKcUFgGYr/tI8m1gyLjT4G8srrFqOTgf2Z5Fp\n",
       "UE55yHAS7+ViiI6DkJTQ+okLvC8ysGZLEAAFTAAAAE5Bn4xFNEwv/wABklNm/4gGxLx/G3sLwAcn\n",
       "yxdo/xVBSeW/bjBljwPbhM8nZJV6DOQmDDWpgSDRldjRjXPxzst7Li9c6X28ivGcRTKANSAAAAA9\n",
       "AZ+rdEK/AADYPzgCgUAENhYuzUikEGNtzqVGxZFwb2UkRN0bVKpgFStzZy/zfl+y0fr9upUP272a\n",
       "BM2vQQAAACwBn61qQr8AAhm6k1Dv4Ix6RG+wwAIFrHEnsPBMoVBFWcOIsQcq8Ay/cYAUEQAAAGlB\n",
       "m7JJqEFomUwIb//+p4QAAqNG75sQAS7KL31YkcvVtNPw8vWNAThuLDvBlAWqDAnRBrjsRg2bsJwd\n",
       "C8bEOWrM7u6TD0YjjCsEcntFdX3C7A9iKb6ZUc5NFZHC9AKhSgUEv8ipugAAfMEAAAA7QZ/QRREs\n",
       "L/8AAZHDF7iVvK04AP1D1oHyCK7o6vyLeveOJs6OUtCckRrj+SdBcz2PycO9rx0StW0oCTgAAAAr\n",
       "AZ/vdEK/AAIae/QfKYwAgs1vVRoKLeztHvA2J7Z6od782Aeu2O21QZX54QAAACwBn/FqQr8AAhwS\n",
       "4eAa2AAIZ9Nq+IzUf5SNmzek8OYYdgNHg0xosn7D44C/wQAAAEZBm/NJqEFsmUwId//+qZYAAVK7\n",
       "z27TF69knKgAkvNs5PgTYHoYEylrb6Szj4ur5AxJ1dRSLNLPD/0y8ig0z1hQPlgAAJ2AAAAAT0Ga\n",
       "F0nhClJlMCHf/qmWAANULP9tdgAN8WnYk18Cesc4GPr/rmAXY1/DvPy1zt7nA8JEJUdi+PyRI4vY\n",
       "AR2aa63w45jPX9yWtBa+6wAAakAAAABHQZ41RTRML/8AA9aFuCC1tAAThftyuCp/mJpMXtiu6CvT\n",
       "To9Dz9c3FVS1hQstHxs8bgo8gfk91ToH6w/qw+ttUTCGMGnANSEAAAAfAZ5UdEK/AAVirQFwogBB\n",
       "yViQqc4LAMZdwnVGy+OqYAAAACUBnlZqQr8ABWHHbXYwAfkbRx1FZLtpy1ic0wuAYwn4urC0888J\n",
       "AAAAQEGaW0moQWiZTAh3//6plgADVDq6mXADRRPf9GP9LZsKtWSn8EVPXWqSGNB/MtQ8wELN+Nne\n",
       "qJVtcSEJ6AAAOmEAAAAxQZ55RREsL/8AA96MXqoSsQAGfS7pnZkzxSk9oJKlQ/DDRPpoCoQqj+cv\n",
       "CYmEAKsDQgAAABkBnph0Qr8ABWYvFb46TiKKxhHlpjfKVc13AAAAGQGemmpCvwAFZabhFpOeArGE\n",
       "Q1McxGVhoIAAAABKQZqfSahBbJlMCHf//qmWAANQomjiFSMPADTN71ZRx88lyi9vwZsEGtfoFVVK\n",
       "TdwM/aLy5Fn8fp7YweN6VCOI4prCrPas0AAAh4EAAAAgQZ69RRUsL/8AA+LV81ltibguWMIez6CV\n",
       "xRJPjDlAa0EAAAAUAZ7cdEK/AAVlMHoY/D7UH66hxAwAAAAkAZ7eakK/AAVjpu/uAAaFNsPeKQce\n",
       "mTAyttEIvs6eg/hdhjZgAAAATEGaw0moQWyZTAh3//6plgADVC03cU4AKDKeoRTa72iF/6HcQf1V\n",
       "NYHbU3an8/QygTUuxuH71Z3J0hiRIOdHcT+wgplkm7HLhMAABSUAAAAvQZ7hRRUsL/8AA+HxfSM4\n",
       "X3cwANmardBa4UTCOeHJvb99rCyVLigy/m41xqigA44AAAAcAZ8AdEK/AAVkeFEu4rcobruFonQF\n",
       "C45LigGggQAAACQBnwJqQr8AAhwUk1ChgAt6TaO2zqWp3eU062pzZd1rSuNAm4AAAAA3QZsHSahB\n",
       "bJlMCG///qeEAAKgqpjJACtx4kARNbVt/E3u4xAPkeO4FR9Wj/g1+iz1H3Y6AAB8wQAAADJBnyVF\n",
       "FSwv/wABkRm13TPACSt8pEeav/wKAvzOrDjtxYxQfA/QAwiDYZqEEQZolfIS8QAAADYBn0R0Qr8A\n",
       "AhsSO+dABB5/V7ohRNVto1L8ALLJGP+APZ+A2TYOahSKDAHApwaa3e2adPs6toEAAAA2AZ9GakK/\n",
       "AAIZYV6SFYwAgssfpscYFdXtsqDX791Vow4UJ/9o6vOIOKm9h0JBKNrH8XGlS54RAAAAi0GbS0mo\n",
       "QWyZTAhv//6nhAAConl3XI0pAK/IPqq3858n2H+WizQYvW+YhBpyekO2ytZDmZpdIDxbSqJ1amLd\n",
       "Esmv7piwFl96I8hri2M2DhvmBAWZmGFdogL3GX9dzsRJAk8w8WqJ8t/AiNgu+zKPxkM0zTDS5G/B\n",
       "RxUUf3kdteTSoBC7sKWBfaAAA/wAAABHQZ9pRRUsL/8AAZFywG4MFyTO4il8VopoLwAcnyxc8caW\n",
       "LsdTyLxQlrlA2JACEKr96HE0XcuIBijsI676b1BVcXIKnkcvhBwAAAApAZ+IdEK/AAIa6CPOlLGX\n",
       "wvQAIHt45XeegB0UErKuulagO4U6GD7wGhEAAAAYAZ+KakK/AADYVnd5ry8fFxDsoTc8IDwgAAAA\n",
       "SkGbjEmoQWyZTAhv//6nhAABBOXJWKfgpXrgGAFx/BkpLCvU2pmiFNHe+9bdnzFnv/ibUQYh0FXw\n",
       "EeTMyG8FiRtSDODMqfQAANmAAAAAIEGbrUnhClJlMCHf/qmWAACEKEgZH19xXhrtDwhgAAj5AAAA\n",
       "m0Gb0UnhDomUwId//qmWAAA1S2RmEdwpsQCOKtYRtRia1474GqcCxNCTIcb4W87baqtoDg42h6ap\n",
       "0bV+ETToE5z6D/1yJ7KH7K1bRcC/N9dzxuyiMFqBueEerA6KuvX4jUIS1e2+mERY12fdSiPB2ddv\n",
       "DifnVHySxzVp3rf/lpvpAvX57xUE/unndQ8yx/x1igCpvH2PRod2qANnAAAASUGf70URPC//AAGS\n",
       "cX2OAusHqd1oQOgAWuw3R0BXAQA+XotMtmSwW5uSIw8xRbVu1HmXjKifHO64iqpw2qjtt+uotpoo\n",
       "RJSwAR8AAAA3AZ4OdEK/AADS/1x7b0kRtABtDGbJtCuPxqrCTWCqR2X8EvYfb5YM//bMkXITN19I\n",
       "WFXp6MoFbAAAAC4BnhBqQr8AANM6Xj1pzibp/6uwAJX6DthuLl4wFAsBV/g64IHGTky8L3RJ4EfA\n",
       "AAAAd0GaFUmoQWiZTAh3//6plgAAFTFwpcSrb2wAIkj2WkoX1g7WVltmY6v8/TadoQrOo1dvUI2N\n",
       "mVaWASP1f2hC9wR6cl/LSSMveVZCeWhfuRrQXEX8/zS4ugJWPbFAr99f13W9L5OtYfjfUtSXfnvR\n",
       "eOhvx2J9oB8xAAAASUGeM0URLC//AAGSiMAj5IPJPTElDBVXgf/aiADZIhr8OxrnO2pgplHUo4JJ\n",
       "YiT1oa1qhLYEHAI2mFyW8vAL8t7P9Phrt5OgPyAAAABAAZ5SdEK/AADS/0x8MQvm3Yh4ALiybhzV\n",
       "ZOUcZ86XVqzB9G3Z9Pv5uoGR4TSc0HEwfXLxHdCiiMQe4xaFAgCLgAAAAC4BnlRqQr8AANM6UtgL\n",
       "m28ykVk0m6CAEJYZVZGJp8hiJUBT08ob4Uhh6h4ekAVNAAAAbkGaWUmoQWyZTAh3//6plgAACAL9\n",
       "57DQGt8AETUIjDDh2fCP2iPclF4EtS21SZUS+wbONYU/LudHRxGTDNSBVS0PoGrNyiXiuL8Js6mZ\n",
       "pFGXBid5tFHcf1OKoivaDw8YbOzhxxZhVkmvKt3EAIWAAAAAX0Ged0UVLC//AAGSiMAj5IbFMojL\n",
       "NogAzzJPhJE7F+AnLF3g4NE6F+j0WVLwnqUM5AbPxNpcvRfujIzA7IywSI/eXOZ6VLjAu06kUoYw\n",
       "QjnDPW9KdNBoGWjzKL0UgFTBAAAAIAGelnRCvwAA0v9Me4oqGdVNUJucx/y863zQEHedYAEnAAAA\n",
       "JgGemGpCvwAA0zpS1+e94vnieGlaGc7bbIsGzgu4t3i/03tn8ASMAAAAcUGanUmoQWyZTAh3//6p\n",
       "lgAAAwFKFwpcSxLfIc+AD85iV18UnC4tlvb4a0mFBOYDYJcTQed74dFkUeP8syjab+jbkTBJeiWH\n",
       "9y0cG1oUWL8sLafdPtFKfIyLQDAitGDFAUdn8T+vDUa8XsM2r0CJoCghAAAAY0Geu0UVLC//AAGS\n",
       "iMAj5IbEZpuJ4qXfPLAoAj2+5D6P4Ezwa01y5hKJuiCBUcuCYzPBV66vJJvizsL3OwFzt+FYjWaB\n",
       "tUxkf7L2qbWPtTkzW3umBJ3fYHv1Jbgi2VphzSgDjgAAAFUBntp0Qr8AANL/THswfYNmYG6IAIg7\n",
       "ptGEcNpHz1qctG5Q56b3DJdjhBkuciQmu8KFiIeNx9JIl8gr8LPvLCwCffnDtXsQqQF8urzyIdlb\n",
       "kFoNuAI/AAAAPQGe3GpCvwAA0zpS19OiOCihRreACETN2uaWqK8i3b1WRrRQeuwjNNJsHCWbSNcX\n",
       "7a5o7zi2t0UyCihkH+EAAABfQZrBSahBbJlMCHf//qmWAAADADKXJ4QCVd696q4ZeGxdbg10ziAe\n",
       "EPDDbl+1XsWgjc4GA2xnBL3XBsdI2H7udQXBRBKdZIWRwydw056gtSp9+D8lIz0p/PQAiTxNB/gA\n",
       "AABaQZ7/RRUsL/8AAZKIwCPkhsRPMqKnVvxNR+vcAAQ3fqLrUQujlxJxSJ6Oi8c0m85j0P9Mkj/4\n",
       "Y9ZJsEHDln4A0Id/xEPLkFPnHDRuuimR74YQmQ+JciWvKAW0AAAAJQGfHnRCvwAA0v9MeyKSZ5+4\n",
       "cTQAbZAG9RYqPAneuEeURx1gjy8AAAAxAZ8AakK/AADTOlLX0JQfF+w/cpZkAIJxTpPUhUzWWR5e\n",
       "LkhBj6xLTz3HR2ZKZnOygAAAAI9BmwVJqEFsmUwId//+qZYAAAMAMpcnhAJV7I3dF0J/ulkdUClz\n",
       "Hbhsw/mJXGGwBl1myD3DGmtsPArfiRceLpDYZkngpglOUhG+WSfr414C4Rpp72+XIpTK/JA7Eyj0\n",
       "iN8kotBgcce/Bxktl0x2+01pVKqnKMGq0mZ9fht2WTDPgTkkNEGZpZtTgZSXG/BDRwAAAGhBnyNF\n",
       "FSwv/wABkojAI+SGxE8yopgmJ2t5Jrk8A40gBKlKMfy3JHQfCmu9THCW4G/J8+9mBpAI3Jucw4xN\n",
       "O+sS1isVcqSpm8lWuMzJ6EVSeJ9ud35/As8jXmPRSSXIaA3BIJq/IUAKCAAAAC0Bn0J0Qr8AANL/\n",
       "THsgZODQtw7Q8ADjU52Mv76Te/GwnKt6SAKbyLusAjhum4EAAABWAZ9EakK/AADTOlLX0W6JL48c\n",
       "uJ4wAF4zCsYLicsGvohPk+lG8FW2eSx+pNKyiJ7rpldyj41dFoBtdXPYKsMa8GKiXFCU9iixxUvz\n",
       "POXUOP85TiZKp3UAAACXQZtJSahBbJlMCHf//qmWAAADAALx7iWm+z4KN4gAGi10c9PgLjepL8Ez\n",
       "1W3ZgI2d5vpoE1asWz8jRV7jFPEih4bVkWwuE+QNl7N4fgvU7JQCv+jIi1faGshvLg8Wly9AlS6+\n",
       "YEJA4ZG8nOmHQIUcZ0m+6o1LJjQMuD0oydzWHLzLAX7cQr6DkVZW/gzhq6bRNcixUBMvIQAAAHBB\n",
       "n2dFFSwv/wABkojAI+SGxE8yopdbKRG+tgTr7TXs7qR3gA2o77CBtzqUksWLl1D1BDrCuWIb6CQy\n",
       "QWxGJv/tO6huvQZqnpqOuHnN1ctUZcvmlXIn9T13a5pqoqxalAUkiSBiVgwq1awtLViYwBcRAAAA\n",
       "SgGfhnRCvwAA0v9MeyKB9vWYSIen+0AFpK4VmziSxW5ijfqwKZMVUkbJstAyzdd93r5RXTzGDFAS\n",
       "0wQjVdzNL/GF0L6Ozq9dTl5AAAAAXQGfiGpCvwAA0zpS19FuiS0IcqybjozzoAIb0zFdlM9rXcWZ\n",
       "90r4vOWf80kR+jI8GkxD556d52HJiUY03dHJ/Kv11nioQ3ti3eXbhWwfroOGHvQmiX6e0zrNf0gs\n",
       "oAAAAItBm41JqEFsmUwId//+qZYAAAMAC7conAESoRK24/dipfqxTa2IJ+HJvI0x2A6suXWGjleQ\n",
       "XvODzVD0ya11SUsJ8x3GvLjoF+pFjJvBZ35UNVCYDxQwBU+4ZOi1ifmoUXW8GXoKxTC/JOjC0M2M\n",
       "gNjps5Df4drCLm66ZJHLiMWMV2RnBlIi1utPC6thAAAAZkGfq0UVLC//AAGSiMAj5IbETzKil1sp\n",
       "EvOBnyC1EIVb95OIfLxwAF8z+vtt5yKTbxA9Th4JHkpWF/ME8H6qYCgR5QbP/xtVVvLa6XuGyF2r\n",
       "sDQg6+t7VD+fjgDqzqKnUvYJXwAYsAAAAEsBn8p0Qr8AANL/THsigfbw7jDa3aADOZRY6iOWPk6Y\n",
       "y0jv+xn/gKI/2y67WnkvbqKskl2Uq2L5a4kTWnrYrUJ//6Md8zCJvdvwa7gAAABAAZ/MakK/AADT\n",
       "OlLX0W6JWKJEDRPLKbMgA+gdh7RYUxGTvTyV3Dw6fDNB2Lzachil22ultD704TVb9mrS6VwdMQAA\n",
       "AJFBm9FJqEFsmUwIb//+p4QAAAMAjyyxoQAh7hKlqHOk8mFd8cSLM5bnm4iWsKDjRDRMKcHag63n\n",
       "+6TEPvDmZ7KvGlQVNTzf+nyFlBeCXmUWRSprVDMALDSuR9W5FjxsILM4XPhfnQzlzaHSx1dUmiLI\n",
       "Akp3TdmLFJ7MsKPs7Xp5lKLcYOPcIW3B/UU6t9ajVDFhAAAAaEGf70UVLC//AAGSiMAj5IbETzKk\n",
       "u2g1GwGTEgtwAc0FSecZid27RgJGtw/w4ng25zW3ef22+5n+9T07YgraIs/0vaJ9CZSLAF4DGQqS\n",
       "PErwcttuGjaF2y/F8hTcqmrIVsUrq7N8yAdNAAAAYwGeDnRCvwAA0v9MeyKB+Mu2ZtHDQAQ/Ht6E\n",
       "sDWtY+oISnIz19D+74MIF9hh2SdNN5pkh9bjEdS+Yv/Va2VeYw/9Me/zXWsrr6enOUoPRfpb6Bo6\n",
       "MDtAVj4ok/IpR8FRXNqFdwAAADYBnhBqQr8AANM6UtfSEVZTHKc4DaRePzm1dXRiADfWP4cKZEAv\n",
       "KOwnGZZA38NDwIAzqQzeqCAAAACHQZoVSahBbJlMCG///qeEAAADA3MZLgAnb0FbulspGwsX2VbH\n",
       "Zi8lhqkK0kT0qWqLPLnvXWXRJAPt8roc/T3SmXwD1+8g/mMSY+8UDSg/tCJCarVHkgzZSBP7uUTp\n",
       "bKJK1aaDAK5LlFnCkVuHAEjobTGL71viOtKuIZwPz1spMlJHm2wRlAN7AAAAZkGeM0UVLC//AAGS\n",
       "iMAj5IbEdMHayq2ACEcdSz6YFF95qiHfhBJ1Qmri2GD+vz74E+u6v/7XBD+x3OEUnd1FbUU4QbUt\n",
       "uNC0u/w+Th5QOctas1EmpSgxDuWYTVf6EpPAZ9v8sEBgQAAAAFQBnlJ0Qr8AANL/THspB0z0BZ9E\n",
       "dAB/PDvM/WZdwLB903iqTkCbIoSSlS2vOjAcRVz1Dm86+xmLj9WX+h0fENcLbEhZvrYtZyaLQT7Z\n",
       "B3MDUnQA+YAAAAA4AZ5UakK/AADTOlLX3Pqngednjoa4GYAOdXltu5m8wPVo65HCGFyRl4OdnD37\n",
       "3fJ9Yiy3Ai3oAtsAAAA3QZpWSahBbJlMCG///qeEAAADA3QA6LqdX/gAt6bFQYa9eeKtMUfMabu1\n",
       "Qsp/+blk9n69TACbgAAAAHZBmnpJ4QpSZTAhn/6eEAAAU/J0YAQnLe5DE2O6VbwgwKJvOoe4rkHZ\n",
       "8vX8TQEtbnwtpCoKXtHmNyoEdi6Z3p9eP06+qJGyCy2Kuqd25YjynKxo7itVvC22oF/bmmVqKSXF\n",
       "5iH8BsYQmAhmvw6ZbUYIQ93WoALjAAAALkGemEU0TC//AAGScX2Y5ceZ4yHETRm2fabrv1wbU5u1\n",
       "D9K2Dcmj9mluhvFYCkkAAAArAZ63dEK/AADS/0x7WRXi6AG6ynGUaHayxH+iOJmBEbr7ltA19LIf\n",
       "nY4BCwAAADQBnrlqQr8AANM6UtggYmBegmerE2/6gAhpbWJWqJ1uQJNF+gfojTHpfUJ8z3QFgjcU\n",
       "wCNhAAAAVEGau0moQWiZTAhn//6eEAAAVE79pjbqAATt68FpChlyJT89BvJPmVya7UVlufL6WDZh\n",
       "fZn7hXlDus50/R6tJrHSTWh3ZaU286vBpBwBrxbDHAAlYAAAADdBmtxJ4QpSZTAhv/6nhAAAFj5l\n",
       "17nHTfrxjD7fMHO9wAICGcmyyq6oULEduu6tJSduwBRNAAOrAAAAXkGa/UnhDomUwIb//qeEAAA2\n",
       "IoWHUKIAGjcEajhFpbC+7FGqmUtXpJemGAFfcUi5/JJrzrHIm8/9hvAZsY81PR4Wr4yfm6+4k/EU\n",
       "uNURJSmoBjDxCclLepxPYN0AAxcAAABCQZseSeEPJlMCHf/+qZYAABtBX0msagAcn0Jm1PRMNPdI\n",
       "yKX+Ddf7KWV6uFoCS++q9YnZau0RGM11/rQ4VgdbAAGVAAAAfkGbIknhDyZTAh3//qmWAABEDlLA\n",
       "A42wBfc3E4dwTVk+G61czS9bSHcc3lolZ6GWIuooU6d7DBZHsxEPBkU66r+NHuISqI5gENLhN4xa\n",
       "VcUFht7bYpvlDplbIq6C/mgIiAWAcinRGvFUICe5tohLMeBfrZ6vFx+fxJq8tgABQQAAAFFBn0BF\n",
       "ETwv/wAAmUGl+rrqwAfqS6vfIT6agKLRIUfx71n1Ls5yLmWj3/ZkuN9e8CkMhUXxBvP/HYxCts5T\n",
       "zXZ2qp1JBWYmBS06y3xK1/ZAAl8AAAAqAZ9/dEK/AADS/2dZZUNX6Y3LZxAB+NZ2T85EtNoQKZsz\n",
       "SqBf4OngAIuAAAAAQAGfYWpCvwAA0zpniikRgwAZ2RNzkvHxH8XDw7pGwcIf1V+Q0W+Btd84pDie\n",
       "H5+138fw1RK3z1Gkv3l74qQAEnEAAABEQZtmSahBaJlMCHf//qmWAACpc1n0AEix6bGzh8ZDpX7V\n",
       "9X9Dmah0WrTu0YDaQdeN3ZAqgPuZTtGcnCeITB+TJBAAB6QAAABAQZ+ERREsL/8AAM6TGBUepQmT\n",
       "0xs4gR6fvZB7TZ37jfOihc8z3VgtISlx6byxgHiXX+f/m8v4hHHhf73RxAAGLQAAADwBn6N0Qr8A\n",
       "ARJVHQJywRgyJBYAQ4PpiKTV60o6u1LxPqHyK+kINCC+yQYTCEcgEa8wQqCfmNl3V+IAAU0AAAA9\n",
       "AZ+lakK/AAEV0Bfngbtmqt4AOEL2GiKaWNnsm+nipTPnxXFIyraheywmkIuFX+k6E+Qi7OL8nP+x\n",
       "AACmgQAAAEpBm6pJqEFsmUwId//+qZYAAKmMcPAABKCPeiVBKMrb/vVBzIKzm6VT1cRJwuNp+BlO\n",
       "R1qipQuVpDXxU0iaA2pYSOnioppwAADAgQAAAEdBn8hFFSwv/wAAxmT7lqbudgBB23t9VB2r8B8j\n",
       "3QMS+vmyR78/YUOyW28SXytr4tuAD20Cd8NaCPF6JZ6qSpKLT6B3lgABJwAAACcBn+d0Qr8AAQ1A\n",
       "TCJAgA5mJxl6O9UjmIRLIu9Aref1dAiiZYAAScAAAAAfAZ/pakK/AAENS43i27oAHMdDZxWDYmTp\n",
       "34AOlgABWwAAAF1Bm+5JqEFsmUwId//+qZYAAarSkvP601gA2+YlchpoM4+uihaW6zYlWtRfHPqN\n",
       "gRv6a0RoyH2gtiKRgwYV+iqdAUv5XwRTKvU87glJRePT2aC9kUETisTMdAAAQ8AAAAApQZ4MRRUs\n",
       "L/8AAfClv2OTpayqgPMbAAhHKJsGNXkunT6Lw0BWS1oAAc0AAAAuAZ4rdEK/AAKyphgACHy88SX2\n",
       "qGS81sccUZEmjElWSXhtqBK9kZbwPsDVQAAGVQAAABUBni1qQr8AArMfHX85XQXu+8AAHXEAAAAx\n",
       "QZoySahBbJlMCHf//qmWAAGoqdKYAE33ndUcWC/IbXj555teM/jDRLxkbTUJAABGwQAAACFBnlBF\n",
       "FSwv/wAB92u8syTAA/xEDALeryaNWj7AbneSbKgAAAAXAZ5vdEK/AAKzF5wOUS8QXvAYv7Inq2gA\n",
       "AAAXAZ5xakK/AAKy0++croL4icA80yYUTakAAAA/QZp2SahBbJlMCHf//qmWAAGoygQaPACU8IST\n",
       "IwTkX9/702lpR7r5yg8FnHEYdM+XGGfjC2VIWPz8KbXQAAEPAAAAHUGelEUVLC//AAH3a733Hotr\n",
       "67m25cCfbRSzvGycAAAAFgGes3RCvwACxJbGoBgP459gMBZ+MqEAAAAWAZ61akK/AALFXkgVsDKn\n",
       "f9L6AADrgAAAAGlBmrpJqEFsmUwId//+qZYAAahNmwj7DwA4GnyeTl0PCYRSZ08fuDcBbRDsrIZV\n",
       "hmWqSboyNwneFTbJUKo3OSAaxAQVKSre+zxd3wjcsOx6fvVR5/6wWDwNEye8dm/9lFOGgWHkhIAA\n",
       "I2EAAAA8QZ7YRRUsL/8AAfyIkj49B5axCMdLnYcAHvP4yzn0wiKtuwJvK0cn3R5qk9tENcLEToiX\n",
       "WpALb+gosGfBAAAALQGe93RCvwACxJeRSvACE5+OeUBiu1m+yOknVNRIN9kJOX4jiCCRQgU98vcd\n",
       "lAAAACgBnvlqQr8AAsVflaVn8Iqc1SADscbhbd/rjeh6VKZkx2luBPdOPZR9AAAAgEGa/kmoQWyZ\n",
       "TAhv//6nhAABWt/fA1CIArfvM5PldA9SW43/JROn3Ig0bcgxSeiwRu3s/bK6G8I0VLRbV/uSxmFi\n",
       "A0MBMlpU0B1jNhh0ISTXgD29P8dDvyoFbnLdQAsJYhnwp1Ywavnf2enfFkR8z4jJZU+KlRtgwoxv\n",
       "xEsAAF3AAAAAQ0GfHEUVLC//AAH8iLSzshXVqxMfAAg/1skYx/CUmyxZ9uitVlMfXVzhk7oLoPSy\n",
       "gsLg2jCe9zLi8AkWQIgrb5Pfpn0AAAAlAZ87dEK/AALEmDzyAksRKRQAczRQX5x0DAXV3aMutwJ7\n",
       "VGMbKwAAAD4Bnz1qQr8AAsVfyOdJODaEAHDYFtW9A/A6yVA3mHVaOGAMM6TCjvwr7GtGDY+AaIvC\n",
       "JZfZWKBdJoLvTDzOygAAAI1BmyJJqEFsmUwIZ//+nhAABUeZc7m+1wA3Ndglw/dcc9PL/LfYW4dG\n",
       "bLq1n2MmaqJlx4vHKXMgX0lTMfE9U0eFImdE5Bfq1hDIQdO7wXV3tE+srASOp+KnMT0l5DK6fZaN\n",
       "3LWFEWvcjj7gKfYEjVVkbFgA7zDkhzK7BGPTSkRXe5G+cjLyR7inDsAAS8AAAABfQZ9ARRUsL/8A\n",
       "AfyIumE0fcEJ4IYAF1Hre+1JmEItYdpFczzKdTkhKFJDzntmcoOD8pOSmwp5gGWkL2lc8ssGFF8f\n",
       "uNS/6mXBMwSikpZtrokI0hPwjj24ArXYWIcXgYEAAAA6AZ9/dEK/AALEmDz1NB3LkOYlukMRgA8k\n",
       "RhcXttC+mJjcG3c74SZVIy8LD5TKwLs5uvTzIEP177TsoAAAADcBn2FqQr8AAsVf7ybtmYPiJkAH\n",
       "0xWsfmm/vb826kKA0lxTKKZzeBzG8mXhNwzmBK9TDh9o2mu5AAAAYUGbY0moQWyZTAhn//6eEAAC\n",
       "DLQQNyHAETH1VW/yYwEeCa3VgVYPthiB2lHl3ctMTuk6VkcqzklUNAJ5At/8aXIi/e5wffKpL1k3\n",
       "h/4WiwKrr154yFSs1SQ8vDWe1ywAA6YAAAAoQZuESeEKUmUwIZ/+nhAAAgqIaxvP6pCPdqQANz4k\n",
       "NTldv+JgwAAi4QAAACNBm6VJ4Q6JlMCF//6MsAAA1MjluMBn0AIRyDppWVyuAAB0wQAAAEhBm8ZJ\n",
       "4Q8mUwIX//6MsAAA1S5mQi1VXt8ACAhPfz4B0jFlT2tI+8udtEeQFNKB94mrVwVVsuBYbCJce/eY\n",
       "oh9SEmC2chAANWEAAAAsQZvnSeEPJlMCFf/+OEAAAzaADrnYE+rWMk2P1H4ANpRpW6qWuz1Ph1gA\n",
       "CTkAAAwmbW9vdgAAAGxtdmhkAAAAAAAAAAAAAAAAAAAD6AAAH0AAAQAAAQAAAAAAAAAAAAAAAAEA\n",
       "AAAAAAAAAAAAAAAAAAABAAAAAAAAAAAAAAAAAABAAAAAAAAAAAAAAAAAAAAAAAAAAAAAAAAAAAAA\n",
       "AAAAAgAAC1B0cmFrAAAAXHRraGQAAAADAAAAAAAAAAAAAAABAAAAAAAAH0AAAAAAAAAAAAAAAAAA\n",
       "AAAAAAEAAAAAAAAAAAAAAAAAAAABAAAAAAAAAAAAAAAAAABAAAAAAkAAAAGwAAAAAAAkZWR0cwAA\n",
       "ABxlbHN0AAAAAAAAAAEAAB9AAAAEAAABAAAAAArIbWRpYQAAACBtZGhkAAAAAAAAAAAAAAAAAAAy\n",
       "AAABkABVxAAAAAAALWhkbHIAAAAAAAAAAHZpZGUAAAAAAAAAAAAAAABWaWRlb0hhbmRsZXIAAAAK\n",
       "c21pbmYAAAAUdm1oZAAAAAEAAAAAAAAAAAAAACRkaW5mAAAAHGRyZWYAAAAAAAAAAQAAAAx1cmwg\n",
       "AAAAAQAACjNzdGJsAAAAs3N0c2QAAAAAAAAAAQAAAKNhdmMxAAAAAAAAAAEAAAAAAAAAAAAAAAAA\n",
       "AAAAAkABsABIAAAASAAAAAAAAAABAAAAAAAAAAAAAAAAAAAAAAAAAAAAAAAAAAAAAAAAAAAAGP//\n",
       "AAAAMWF2Y0MBZAAe/+EAGGdkAB6s2UCQN6EAAAMAAQAAAwAyDxYtlgEABmjr48siwAAAABx1dWlk\n",
       "a2hA8l8kT8W6OaUbzwMj8wAAAAAAAAAYc3R0cwAAAAAAAAABAAAAyAAAAgAAAAAUc3RzcwAAAAAA\n",
       "AAABAAAAAQAABehjdHRzAAAAAAAAALsAAAABAAAEAAAAAAEAAAoAAAAAAQAABAAAAAABAAAAAAAA\n",
       "AAEAAAIAAAAAAQAACgAAAAABAAAEAAAAAAEAAAAAAAAAAQAAAgAAAAABAAAKAAAAAAEAAAQAAAAA\n",
       "AQAAAAAAAAABAAACAAAAAAEAAAoAAAAAAQAABAAAAAABAAAAAAAAAAEAAAIAAAAAAQAACgAAAAAB\n",
       "AAAEAAAAAAEAAAAAAAAAAQAAAgAAAAAEAAAEAAAAAAEAAAoAAAAAAQAABAAAAAABAAAAAAAAAAEA\n",
       "AAIAAAAAAgAABAAAAAABAAAKAAAAAAEAAAQAAAAAAQAAAAAAAAABAAACAAAAAAEAAAQAAAAAAQAA\n",
       "CgAAAAABAAAEAAAAAAEAAAAAAAAAAQAAAgAAAAABAAAKAAAAAAEAAAQAAAAAAQAAAAAAAAABAAAC\n",
       "AAAAAAEAAAoAAAAAAQAABAAAAAABAAAAAAAAAAEAAAIAAAAAAQAACgAAAAABAAAEAAAAAAEAAAAA\n",
       "AAAAAQAAAgAAAAABAAAKAAAAAAEAAAQAAAAAAQAAAAAAAAABAAACAAAAAAEAAAoAAAAAAQAABAAA\n",
       "AAABAAAAAAAAAAEAAAIAAAAAAQAACgAAAAABAAAEAAAAAAEAAAAAAAAAAQAAAgAAAAACAAAEAAAA\n",
       "AAEAAAoAAAAAAQAABAAAAAABAAAAAAAAAAEAAAIAAAAAAQAACgAAAAABAAAEAAAAAAEAAAAAAAAA\n",
       "AQAAAgAAAAABAAAEAAAAAAEAAAoAAAAAAQAABAAAAAABAAAAAAAAAAEAAAIAAAAAAQAACgAAAAAB\n",
       "AAAEAAAAAAEAAAAAAAAAAQAAAgAAAAABAAAEAAAAAAEAAAoAAAAAAQAABAAAAAABAAAAAAAAAAEA\n",
       "AAIAAAAAAQAACgAAAAABAAAEAAAAAAEAAAAAAAAAAQAAAgAAAAABAAAKAAAAAAEAAAQAAAAAAQAA\n",
       "AAAAAAABAAACAAAAAAEAAAoAAAAAAQAABAAAAAABAAAAAAAAAAEAAAIAAAAAAQAACgAAAAABAAAE\n",
       "AAAAAAEAAAAAAAAAAQAAAgAAAAABAAAKAAAAAAEAAAQAAAAAAQAAAAAAAAABAAACAAAAAAIAAAQA\n",
       "AAAAAQAACgAAAAABAAAEAAAAAAEAAAAAAAAAAQAAAgAAAAABAAAKAAAAAAEAAAQAAAAAAQAAAAAA\n",
       "AAABAAACAAAAAAEAAAoAAAAAAQAABAAAAAABAAAAAAAAAAEAAAIAAAAAAQAACgAAAAABAAAEAAAA\n",
       "AAEAAAAAAAAAAQAAAgAAAAABAAAKAAAAAAEAAAQAAAAAAQAAAAAAAAABAAACAAAAAAEAAAoAAAAA\n",
       "AQAABAAAAAABAAAAAAAAAAEAAAIAAAAAAQAACgAAAAABAAAEAAAAAAEAAAAAAAAAAQAAAgAAAAAB\n",
       "AAAKAAAAAAEAAAQAAAAAAQAAAAAAAAABAAACAAAAAAEAAAoAAAAAAQAABAAAAAABAAAAAAAAAAEA\n",
       "AAIAAAAAAQAACgAAAAABAAAEAAAAAAEAAAAAAAAAAQAAAgAAAAABAAAEAAAAAAEAAAoAAAAAAQAA\n",
       "BAAAAAABAAAAAAAAAAEAAAIAAAAABAAABAAAAAABAAAKAAAAAAEAAAQAAAAAAQAAAAAAAAABAAAC\n",
       "AAAAAAEAAAoAAAAAAQAABAAAAAABAAAAAAAAAAEAAAIAAAAAAQAACgAAAAABAAAEAAAAAAEAAAAA\n",
       "AAAAAQAAAgAAAAABAAAKAAAAAAEAAAQAAAAAAQAAAAAAAAABAAACAAAAAAEAAAoAAAAAAQAABAAA\n",
       "AAABAAAAAAAAAAEAAAIAAAAAAQAACgAAAAABAAAEAAAAAAEAAAAAAAAAAQAAAgAAAAABAAAKAAAA\n",
       "AAEAAAQAAAAAAQAAAAAAAAABAAACAAAAAAEAAAoAAAAAAQAABAAAAAABAAAAAAAAAAEAAAIAAAAA\n",
       "AQAACgAAAAABAAAEAAAAAAEAAAAAAAAAAQAAAgAAAAAFAAAEAAAAABxzdHNjAAAAAAAAAAEAAAAB\n",
       "AAAAyAAAAAEAAAM0c3RzegAAAAAAAAAAAAAAyAAAGSQAAAB5AAAALQAAAB4AAAAdAAAAawAAADMA\n",
       "AAAmAAAANAAAAIcAAABEAAAAHgAAACQAAACLAAAAYQAAADoAAABIAAAAjAAAAGwAAABKAAAARwAA\n",
       "AFgAAAAwAAAAagAAAEEAAACEAAAAZQAAADoAAAAwAAAAPAAAACwAAAB0AAAAbAAAAB4AAAAyAAAA\n",
       "VwAAAHcAAABfAAAALAAAAB4AAACOAAAAZgAAAD8AAABeAAAAZQAAAGwAAABUAAAAUwAAAIIAAABa\n",
       "AAAAVwAAAGoAAAB/AAAAVgAAAFMAAABdAAAAfwAAAGkAAAAoAAAAMAAAAHQAAAB0AAAATwAAACwA\n",
       "AABUAAAAMAAAAHcAAABAAAAAIQAAADQAAABnAAAAYwAAAD8AAAAuAAAATwAAAHIAAABSAAAAQQAA\n",
       "ADAAAABtAAAAPwAAAC8AAAAwAAAASgAAAFMAAABLAAAAIwAAACkAAABEAAAANQAAAB0AAAAdAAAA\n",
       "TgAAACQAAAAYAAAAKAAAAFAAAAAzAAAAIAAAACgAAAA7AAAANgAAADoAAAA6AAAAjwAAAEsAAAAt\n",
       "AAAAHAAAAE4AAAAkAAAAnwAAAE0AAAA7AAAAMgAAAHsAAABNAAAARAAAADIAAAByAAAAYwAAACQA\n",
       "AAAqAAAAdQAAAGcAAABZAAAAQQAAAGMAAABeAAAAKQAAADUAAACTAAAAbAAAADEAAABaAAAAmwAA\n",
       "AHQAAABOAAAAYQAAAI8AAABqAAAATwAAAEQAAACVAAAAbAAAAGcAAAA6AAAAiwAAAGoAAABYAAAA\n",
       "PAAAADsAAAB6AAAAMgAAAC8AAAA4AAAAWAAAADsAAABiAAAARgAAAIIAAABVAAAALgAAAEQAAABI\n",
       "AAAARAAAAEAAAABBAAAATgAAAEsAAAArAAAAIwAAAGEAAAAtAAAAMgAAABkAAAA1AAAAJQAAABsA\n",
       "AAAbAAAAQwAAACEAAAAaAAAAGgAAAG0AAABAAAAAMQAAACwAAACEAAAARwAAACkAAABCAAAAkQAA\n",
       "AGMAAAA+AAAAOwAAAGUAAAAsAAAAJwAAAEwAAAAwAAAAFHN0Y28AAAAAAAAAAQAAACwAAABidWR0\n",
       "YQAAAFptZXRhAAAAAAAAACFoZGxyAAAAAAAAAABtZGlyYXBwbAAAAAAAAAAAAAAAAC1pbHN0AAAA\n",
       "Jal0b28AAAAdZGF0YQAAAAEAAAAATGF2ZjU4LjI5LjEwMA==\n",
       "\">\n",
       "  Your browser does not support the video tag.\n",
       "</video>"
      ],
      "text/plain": [
       "<IPython.core.display.HTML object>"
      ]
     },
     "execution_count": 136,
     "metadata": {},
     "output_type": "execute_result"
    },
    {
     "data": {
      "image/png": "[encoded data removed]",
      "text/plain": [
       "<Figure size 576x432 with 1 Axes>"
      ]
     },
     "metadata": {
      "needs_background": "light"
     },
     "output_type": "display_data"
    }
   ],
   "source": [
    "# 创建一个动画，将梯度下降的过程可视化，这里使用的是matplotlib的animation模块\n",
    "from matplotlib import animation\n",
    "from IPython.display import HTML\n",
    "\n",
    "fig = plt.figure(figsize=(8, 6))\n",
    "ax = plt.axes(xlim=(-2, 5), ylim=(-5, 30))\n",
    "line, = ax.plot([], [], 'bo', lw=2)\n",
    "line2, = ax.plot([], [], 'r', lw=2)\n",
    "\n",
    "def init():\n",
    "    line.set_data([], [])\n",
    "    line2.set_data([], [])\n",
    "    return line, line2\n",
    "\n",
    "def animate(i):\n",
    "    x = np.linspace(-2, 5, 100)\n",
    "    y = J(x)\n",
    "    y2 = grad_J(x)\n",
    "    line.set_data(x_history[i], J(x_history[i]))\n",
    "    line2.set_data(x, y)\n",
    "    return line, line2\n",
    "\n",
    "anim = animation.FuncAnimation(fig, animate, init_func=init,\n",
    "                                frames=200, # 这里的frames是指动画的帧数\n",
    "                                interval=40,  # 这里的interval是指动画的间隔时间 单位是ms\n",
    "                                blit=True # 这里的blit是指是否只更新动画中改变的部分\n",
    "                                )\n",
    "\n",
    "HTML(anim.to_html5_video())\n"
   ]
  },
  {
   "cell_type": "markdown",
   "metadata": {},
   "source": [
    "> 从上面的视频可以看出,由于没有摩擦力的影响,小球就会上升到原来高度的地方(能量守恒)"
   ]
  },
  {
   "cell_type": "markdown",
   "metadata": {},
   "source": [
    "## 改进:增加摩擦力"
   ]
  },
  {
   "cell_type": "markdown",
   "metadata": {},
   "source": [
    "由摩擦力和支持力的关系:\n",
    "\n",
    "$$\n",
    "f = \\mu F_N\n",
    "$$\n",
    "\n",
    "由支持力,重力分量,向心加速度的关系,我们都有下面式子:\n",
    "\n",
    "$$\n",
    "\\begin{aligned}\n",
    "F_N &= mg cos(\\theta) + m a_n\n",
    "\\end{aligned}\n",
    "$$\n",
    "\n",
    "\n",
    "> 需要注意,$a_n$为向心加速度,它的值可正可负,需要知道的只有一点,它的方向指向凹的那一边(向心加速度的方法与曲率半径方向一致,都是指向曲率圆的圆心),如下面两幅图(第一幅图向心加速度为正,第二幅图向心加速度为负)\n",
    "\n",
    "![alt](./%E5%90%91%E5%BF%83%E5%8A%A0%E9%80%9F%E5%BA%A6%E7%90%86%E8%A7%A3.drawio.png)\n",
    "\n",
    "![alt](./%E5%90%91%E5%BF%83%E5%8A%A0%E9%80%9F%E5%BA%A6%E7%90%86%E8%A7%A32.drawio.png)\n",
    "\n",
    "\n",
    "由函数图像我们可以求得一点的曲率半径,求法如下(可以看这个用desmos画的图,这样可以更好理解曲率半径是什么[desmos](https://www.desmos.com/calculator/dvqmygmqfa)):\n",
    "\n",
    "$$\n",
    "\\begin{aligned}\n",
    "R\\left(x\\right)=\\frac{\\left(1+f'\\left(x\\right)^{2}\\right)^{\\frac{3}{2}}}{f''\\left(x\\right)}\n",
    "\\end{aligned}\n",
    "$$\n",
    "\n",
    "我们发现需要用到二阶导,如下"
   ]
  },
  {
   "cell_type": "code",
   "execution_count": 139,
   "metadata": {},
   "outputs": [
    {
     "data": {
      "text/latex": [
       "$$ \\displaystyle \\mathrm{gradgrad_J}(x) = {3} x^{{2}} - {10} x + {6} $$"
      ],
      "text/plain": [
       "<latexify.frontend.LatexifiedFunction at 0x295bfb840d0>"
      ]
     },
     "execution_count": 139,
     "metadata": {},
     "output_type": "execute_result"
    }
   ],
   "source": [
    "@latexify.function\n",
    "def gradgrad_J(x):\n",
    "    return 3 * x**2 - 10 * x + 6\n",
    "\n",
    "gradgrad_J"
   ]
  },
  {
   "cell_type": "markdown",
   "metadata": {},
   "source": [
    "由能量守恒,我们只需要再原来的代码上更新v_square的值即可,由能量守恒得\n",
    "\n",
    "$$\n",
    "\\begin{aligned}\n",
    "mg \\Delta h - \\mu F_N \\Delta s &= 1/2 m \\Delta v^2 \\quad \\text{这里的} \\Delta s \\text{是小球在曲线上的路程: }\n",
    "\\Delta s= \\Delta x * \\sqrt{1 + f'(x)^2}  = \\frac{\\Delta x}{cos(\\theta)} \\\\\n",
    "\\Rightarrow 1/2 \\Delta v^2 &= g \\Delta h - \\mu (g cos(\\theta) + \\frac{v^2}{R(x)}) \\Delta s \\quad \\text{这里的} R(x) \\text{是曲率半径:}\n",
    "R(x) = \\frac{\\left(1+f'\\left(x\\right)^{2}\\right)^{\\frac{3}{2}}}{f''\\left(x\\right)} ,\\frac{1}{R(x)} = = f''(x)* cos^3(\\theta)\\\\\n",
    "\\Rightarrow \\Delta v^2 &= 2g \\Delta h - 2 \\mu (g  + v^2 * f''(x)* cos^2(\\theta)) \\Delta x \\\\ \n",
    "\\Rightarrow \\Delta v^2 &= 2g \\Delta h - 2 \\mu (g  + v^2 * \\frac{f''(x)}{1+f'\\left(x\\right)^{2}}) \\Delta x\n",
    "\\end{aligned}\n",
    "$$\n",
    " "
   ]
  },
  {
   "cell_type": "code",
   "execution_count": 190,
   "metadata": {},
   "outputs": [
    {
     "name": "stdout",
     "output_type": "stream",
     "text": [
      "-3.134825339048e-05\n"
     ]
    }
   ],
   "source": [
    "x = 5\n",
    "v_square = 0\n",
    "vx = 0\n",
    "dt = 0.05\n",
    "g = 15\n",
    "mu = 0.4\n",
    "x_history = np.array([x])\n",
    "for i in range(75):\n",
    "    # print(\"该点的水平位置为：\", x,end=' ')\n",
    "    # print(\"该点的水平速度为：\", vx,end=' ')\n",
    "    # print(\"该点的动能为：\", 0.5 * v_square)\n",
    "    prex = x\n",
    "    # update x\n",
    "    x = x + dt * vx\n",
    "    v_square = v_square + 2 * g * (J(prex)-J(x)) - 2 * mu * (g + v_square * gradgrad_J(x) / (1 + grad_J(x)**2))*abs(x-prex)\n",
    "    if v_square <= 0:\n",
    "        v_square = 0\n",
    "        vx = g * (-grad_J(x)) / (1 + (grad_J(x))**2) * dt\n",
    "    else:\n",
    "        if x - prex < 0:\n",
    "            vx = -np.sqrt(v_square) / np.sqrt(1 + (grad_J(x))**2 )\n",
    "        else:\n",
    "            vx = np.sqrt(v_square) / np.sqrt(1 + (grad_J(x))**2 )\n",
    "    x_history = np.append(x_history, x)\n",
    "\n",
    "# 输出x_history的最后一个元素，即为最优解\n",
    "print(x_history[-1])\n",
    "    "
   ]
  },
  {
   "cell_type": "code",
   "execution_count": 191,
   "metadata": {},
   "outputs": [
    {
     "data": {
      "text/html": [
       "<video width=\"576\" height=\"432\" controls autoplay loop>\n",
       "  <source type=\"video/mp4\" src=\"data:video/mp4;base64,AAAAHGZ0eXBNNFYgAAACAGlzb21pc28yYXZjMQAAAAhmcmVlAAArEm1kYXQAAAKhBgX//53cRem9\n",
       "5tlIt5Ys2CDZI+7veDI2NCAtIGNvcmUgMTQyIC0gSC4yNjQvTVBFRy00IEFWQyBjb2RlYyAtIENv\n",
       "cHlsZWZ0IDIwMDMtMjAxNCAtIGh0dHA6Ly93d3cudmlkZW9sYW4ub3JnL3gyNjQuaHRtbCAtIG9w\n",
       "dGlvbnM6IGNhYmFjPTEgcmVmPTMgZGVibG9jaz0xOjA6MCBhbmFseXNlPTB4MzoweDExMyBtZT1o\n",
       "ZXggc3VibWU9NyBwc3k9MSBwc3lfcmQ9MS4wMDowLjAwIG1peGVkX3JlZj0xIG1lX3JhbmdlPTE2\n",
       "IGNocm9tYV9tZT0xIHRyZWxsaXM9MSA4eDhkY3Q9MSBjcW09MCBkZWFkem9uZT0yMSwxMSBmYXN0\n",
       "X3Bza2lwPTEgY2hyb21hX3FwX29mZnNldD0tMiB0aHJlYWRzPTI0IGxvb2thaGVhZF90aHJlYWRz\n",
       "PTMgc2xpY2VkX3RocmVhZHM9MCBucj0wIGRlY2ltYXRlPTEgaW50ZXJsYWNlZD0wIGJsdXJheV9j\n",
       "b21wYXQ9MCBjb25zdHJhaW5lZF9pbnRyYT0wIGJmcmFtZXM9MyBiX3B5cmFtaWQ9MiBiX2FkYXB0\n",
       "PTEgYl9iaWFzPTAgZGlyZWN0PTEgd2VpZ2h0Yj0xIG9wZW5fZ29wPTAgd2VpZ2h0cD0yIGtleWlu\n",
       "dD0yNTAga2V5aW50X21pbj0yNSBzY2VuZWN1dD00MCBpbnRyYV9yZWZyZXNoPTAgcmNfbG9va2Fo\n",
       "ZWFkPTQwIHJjPWNyZiBtYnRyZWU9MSBjcmY9MjMuMCBxY29tcD0wLjYwIHFwbWluPTAgcXBtYXg9\n",
       "NjkgcXBzdGVwPTQgaXBfcmF0aW89MS40MCBhcT0xOjEuMDAAgAAAFl5liIQAO//+906/AptFl2oD\n",
       "klcK9sqkJlm5UmsB8qYAAAMAAAMAABEcBuv+kDI22BAAAAqAAV5cR6FQ//+AAqemG99qhqOFXP1v\n",
       "aUd8VCASZxFbMGYbvbl3i0XSn1S0pL638O5/Jo2Ty2AVe0BeaAGJYXYaaJjgBSawBAJ65hbLO3fZ\n",
       "Ssuf5rIhb75+mrerAtcfq+FkX38fgONnnQTHn2JsMm9ASJ+ikS99XEwG2avl1L09/x01XDKl/cbn\n",
       "e1GPAUWETOniPP33AZWa6wmGh626/ve3LMubzg77IlKOW0bl+5FjXgsf21QLVGg0yWACjbT49pvB\n",
       "C+1wBAd/uefsoUrwWbMkf4SY/9DLdfUvcETG1TkJepyrSvH3Wh/7RwnFU3VoMcVkZfLN2tbRd9Tg\n",
       "T7zJ62wACWobdFODQizKfesDG9L/5STz+tVT+Y2sjzPWrwphMHqbS+tMDUPigbrV9qPs7MObBoAc\n",
       "yISglUSTZPVoB4WHBrJtaXKK5srXTIlYA74pbHNzvAsV4AlcWOY4NUjJs7HavzkFv1YB6n/B+Hua\n",
       "3vp0GGmbOoc1NAWjC7MbYgEJnHbw5/CGW8Bx2BvmADM0km3+3A78IYcP0l+pfKzCILUEZMK7m60y\n",
       "IQZ255KsfYsqd9J73fijCLIPQgMS5zVyvke6oxEyCxSvxc0hOlmWhJOcF8GAqZkicoodDQOpiAVe\n",
       "j90MX+WugUoevU/WHjOpKPUUlmEaoWOd7WitWrWLxj3454B1OZoxJkBRzGQx8swO1BJ+DYN56+7X\n",
       "Lonj1DDkf/m4/g4jPGvpmPbVXpoC0bTqcQYA7ALuNu2PYShzRFNsZVDEohrSNy6qj2m9n+YaHrzy\n",
       "FuJt3eYXPzzQNQ7+cs9hgtuLBfM4gGCRnXiOHPFUZd0Uoy7SE5wOeAoBGInozoRLhrpTIwIrP6E0\n",
       "CuoxvI/eXSVIsXvkz11cJAxB02rG6PIrfGf99ZqAtPngJPCTJ7/qrHtzk9WTsKbicuGkdDbkZoZH\n",
       "Q9vHbktWnt/sj4HF19JW07TZCTv8QIQnICYiVUx9jBFWhNkVxxFCF90QUbKlWTgNCtTMt4QEbRUn\n",
       "ZTDTA6TwVs2NTEZ6r+qWUTPhnuSmF4ZHTZYmrb6hq0O2t5/VdAYHjwERXKLEqfgJVsHQXKIwL/Z8\n",
       "rrYwXUxJ+occp430ej9jMHEJNPG4ufsdWXTHg8eGK9ag9JdPw24qjnYKELaQWd5YrV8ZY4sh0xcJ\n",
       "voOKkuWNYb5JUeYq2VgfjrpuqZM4e9dlBBSWSTYQS37f4zd+WC/eCNB6Use7zrLuzcfU4UBIoNy/\n",
       "XYokzT2cFxKScfJPNrAtrkABSFXmLCFd/+lERlN6QpaAzi+7LDAEbl/FHLBiNhMnrAlJOTuYh42q\n",
       "toZzup4T0y/QuLw/4kHcXQ/gAvjEumsMGaNW7Zi0Wi7Ab+OYayOn708bIDyrPjfM4owinUPAu/ck\n",
       "GuIJGIJO+vNomH6v3HX4HhwqvwYj7QdmfaBIOvqQGypMuMQWIDHHwIIvAocO8XagEslYtRxyTC7v\n",
       "2kGUX/63eaOdnaVTCzX8MqoN8RDYCYIrClIimrK+Ql+isr/GG1xn/RmgMi1CLY0kYpfOQD2YDKJ4\n",
       "G+23zuz9eKUkPJ096ZqnenUPkXvYzz4l0AkO6bhpFM4n75SHyvAo/xXf1Z3crlPzexXPLlMpRIsg\n",
       "lPkgyr3xqpIf5l+YncLzYcyNqdELANPDFroaMaxKZWKzlZhJauw1BVzKVYP05z0Dn0IEhCFxis1k\n",
       "NvUgDRpFggOxBbAttJDgdq+3XBclGKRy90Wlw8ln5pOs4yDYYRHmzL5CVjnGn7k444UJiIaX8wVa\n",
       "ERSDm5o99KbXdvOy/DqHcf/2bo2w7n3Z5VO7MV3C085LTAvvT9/w+/5SIAjALcPmBkOB1tEjz5iE\n",
       "K/tZksLMhqKlMLEo9GmYha18qkx/no2dKCUJPzeqFOCesIcJdRzx+pL5iLTdxashePutyLEhrelW\n",
       "vukQY0+R70dEWYS2tJOsnwNpVi9Mx3/hVFhWS2rGSA00BSBHYcKHD2IAM0/SDtGCQsjRBHUiq5wT\n",
       "Mtuzi7LRqGJIVR+Txp+jhOdRsB24uxcth9FrZiRFPXI5GiWEwFGw1Y/BW+feyOW1oRu1ewYvSf2m\n",
       "Jmggtwd+vaXaJ0zFof6DblbSyhnI9CMjMMMml1dsIcT53Nh5RzjTb+OdVosorhd+2cO4Tobfpqls\n",
       "9q6Cb6hc+rLFzmGTTtMrnFptYm3y94E3NKA55NXgUt7FIEHcHhZdPrjMfszouyN5qnfJ22XUcUCx\n",
       "s2XDGfH+U8I2SMiRsfs6W6S8A1OX4Qb5NVuEeie8a+dzZ8rJs4asND8A6elDjhxXhhlQ2KyPE2b5\n",
       "jjNMWOaiwxKMxFhu8IXwAQVWhFbpZjL8TZOuxkGaV29Crw7vmSforsazRkpl65eBR7dgPqmHt2+m\n",
       "wXIoIF25BWjZN6ayZ9J4DOy4/raOMPr7u89md3lFBT7gQWzyZwTCzZX0KPNnMItYSo18b7VQQakm\n",
       "YFTJ71gRqY4jD55zDKBYNov32MuqTuJcSGfsLRwARxFiAZtcDn/wZ5Le5A+zmhrC9eZy1XyAR28U\n",
       "X4mVGa17/LQ+iYt6gUjkV1j6gzqP4xvypww8c8/KfXROzepRIA8L+NbkF1EHAmYDcz/KvDBfKYLg\n",
       "94l1WnKYrUaugvlR8QJNPPVrlQ5/cNngHWfxv6Xp6LyrQRbCnHMMNYHt+VzwCSMxpor5CeS/G8Zi\n",
       "XKCJUZuO1OoGRSoWOUbN36VQ3Ct885zpeAoz1NZjH9JEa35nbWF0LGjtT8Xg9KSZhfaoJkv9Szuz\n",
       "pdFcPxGnDeI3xgTErUlz8BUWmr9nSskd64241duy49YKnFUioOUx6ihHXEdXXE7TAVXreY56sZBM\n",
       "fabVceZqHYi/s8J4VGj93+uw+jJwJzHMHKuIVK9wuf/KuapjiqY6gMVaveGm0kGsgu46mDZrGYjX\n",
       "2fCwDm5VtCzL0QGsHwBNnrBnnWGSbz8ullut14qPtE9iktSkn1TWskxp0Ahqq0Y+4Hfd2Q1YAnNL\n",
       "8XDitlnIx//pq+ZkSKumqNiRs6sz2eC2TKoTvycvyNAljp+ypAihr46ztfMUWrws3ohcLupdRxuH\n",
       "FB3C1cjJWXG+4UWqX2SzEmgfIgLS24b19RlI2047kzjV0j1CXf90jpY1xqOhXasOwxMSVZpwddO2\n",
       "ElRk2NtWTriTITpLg5jpuvGbThr70OYL3j2vbMwe3cmGAsL/OwN9wm2oXgZaclt11y+bSj2tgrOm\n",
       "inOk9Jj873cmAPfuHLz/yi5D0RbcZFTxsbVEk64GVXyaXLOLdgAAAwJeQbwS3dJYp2D7WKGi+1RA\n",
       "Zcj0UaWaqwRi5O8U5B3qsyPa7u70+85QYlElInWVtlsGaUW5k2gnocsLtCx4KwnOTakyJXcEhO+0\n",
       "4qpAHP0IrOJ/m8TFJbLUrhZoYzHl6M3zu5Uv7QtpwBgtaMM1nhR2ogAWr27HLv3DkY2bxsvsgC9A\n",
       "D1s0vplXVffcXUMBhsFJ0ydUKm1FXg3Oi/h9eeqrzuhUnL7wM0RJUqpSKkDeEYQ4xrvoWnsRFiTw\n",
       "ayJeeLlq7ZYPZ2c2vRt37dtMOwRyjtFoKwwAH1jfEpIdknBeiIKHl3BWk1KWTxwDpRFm4egOyZZV\n",
       "fFjmiXZvYrMak8wbJzYs6fxy5FY02fxY0Allf3Gp0VcQKpki3b7FWiMUM2fi1qZoqgXUSGOoUAQv\n",
       "f19iUG6zW21hT1287wquB7ioQ1XbFGHNqJSExFlLUP0OvNKriDxcdFWZmbSLLdSb3q10O7UoB5uZ\n",
       "0xjLVb1sfJHu/7clk6mCyUQsas3ZiRX+6RTCf34YGozXxKhjjpwySNaI9Ze7i7jq6hNogdElV3Mt\n",
       "YSnDx3xNEasUOBsL7F53GaphUuhLyBA9i5K0On04qICTymnWqpMIXP+uDI+IjjGZuTKvTW8omSFH\n",
       "VHHjIPt4EtEkqBpKVnwSAtc0Q7S+5kZ7U63xDI3+jGNz9RxBE47in0B6X5jDPBAT/LnbwClEFSAB\n",
       "MzdTN2xFvFoO8rastN2zxfzlbrQc/TjuKYZeM7wqmW8t9+oBFfLrbP3mox81Qm50Ey7bOc68KL4B\n",
       "jRSPw07Kkrc08PS74bE1lOwBtxjsvPmQu5DG0wtA618Z/sg6Y/5f/9f2/s646CmwVrKJ68YgM8S1\n",
       "NJ6+FGUcIPC8Sp4UdgK5LwxxLQFxpr6g0nkiR5Gw1Mb+PwZGR5WXQQzKaoPolRAKO0qHqpTD3bxE\n",
       "34gWW7m/IBKewM31JgM+CfdmH2H82iQNUAIi8cyqYzw8/LrRsV5evxHgRjHT22LsXuZVCjCOvxr8\n",
       "9OK3X98QOdVwtgy6kGixUiao1l+Tjjb2dAyJSjYKfZRJK2KwHNQbq1LUFlbtuEFGEZbMlcVqY3fW\n",
       "lUvJtsRjoGrAYHmSa0AofybXclwASPDv7UCdOucYP+5T1J4VA51u6wqwX+igXMwwKZmeAqZvDWOL\n",
       "vMMY0AAJs/HqI4ByOpCVLYChIxHrgwFoVrlThS2S+mF23SiulVXk3rJZHzdtK03i8cUoroTVfhAN\n",
       "v9RqM5kBIU9jRfA87CWR6AOs4JeBlm/hPrYvOgeVCaRAgUVNx3hvoxMueOxzpiHWl4uJkBn/Typ4\n",
       "Hfqbg//RnDbh3ijqKs5JzxXzbDVmXUQJukUIlEQsRbJDB2FSSZNq3WPnuhm/fTte7px5sDfwCePs\n",
       "Ur87Nw5cy2on0qqBkCFG7EdSCn+ljUjtANMGL5E0uknS9jKeIDaji/3xudvguJdSQxET7GDnpqyG\n",
       "8SQUNaFM1E4uKPQcDQSWO1mTSflCb8fEJ0Q0QpcMp/FCpYKgFRqKY6rbIjwSwSyu7CnPzTdSjwib\n",
       "CY7MRLtk1QL7lGgs/iDXA3uE+5tyMFJ6L0StPBdGmEPJpe1oMOET5ytPkrxO9yyuBF7WCKv6+R9V\n",
       "Y/zA6CpU95HqWD0H79SWesexmGqq5SuU/ols6NQPikBdR+jeMxjj9Ipq1RFHcLGhHDx2cDBD83bt\n",
       "Kmxf2fUrUcyU+Ai1bfN/ZO/Cf6HwEysS5JGWW0wK4I////ma21dqa+LyJeTKZZoMLZLwIhzquq1+\n",
       "5e31CTxSgix8RnbZSJe90gHQlQD86oQpWzTyUw+TRy2TeIVTWJtgX25N3+S1ZSFh6Y4BK55B6sHv\n",
       "v6p2wcb7Cg21OszqT4y4i8lKLV+wb23sTonYkwB4PRAGhoQTAIk1UQRuPTC9nMBAPt1yAk6t2S20\n",
       "mGB2dNj7VEDKmCUBRWpGS+O/Nj8uLtPT7cvGHn/T9hVgUBkX35ulfRpUq7CrCNFvVwGFS/CCV2GF\n",
       "BRrmBfqWuqaNPpoTPPw85LWvj4ykU4/85eA7vC4/yy+BLYTauTQ0yBnU6P1vv4BjhR1SJrG2Od/b\n",
       "XhYmysRjhAAkOWvFWt1lWQrfHLP8SJx3paxjlcvawEYi7tOsxhzKjD7vm3cpqgnFDb+/Y2oiKpUH\n",
       "/MADyjCg+hhwxm7nANF1MdYIa05LM1Noc8d7sRoItR00/2jn7aCk8ffWs4BHlNKSqpyv/w9ZE592\n",
       "9MP+Eis/QP99rrvYXsjeBFLBD3p3cNF+oChGXP/xFqORCehHVzSFvOkfJmQg2LbNvBhMGZzEw4tk\n",
       "l+JadpENnHZfjigqK+gzf/eGabTK8V1W7VGI0fFlPqVaH+UppgikOv7fkeWd7/HIVkEAobSMISvM\n",
       "vdiKp6mEqat5o5x2i94baXwczuP4CpO1eZyIBLiCAAAqifHIVa5EPWXE8eyAOyWElo0uJYyn8Fo0\n",
       "O2qXMUEfMut3LNDt7bvXe2hSm8C2inbwC0V3AXrV5CRROFvI5ei+mcC0gV9H9msK8sv4nc6ON8JZ\n",
       "9Rw/fAxwx+YiEmaj8W1UmMgZMbEEUc8rEAawfy5d4tDqVy6NezV+HMCAWxOZ7gYS6fo5pF79E+g/\n",
       "w15a5JzNuo37ZTNFMkSMXzwthX8xcWINV/IvDhbsq5Y9Eb9BZR9GKC3Dk0MAaFHWdI2dlJkdwV5X\n",
       "qL/QBoYhEm3NWe47+rYOf+XpCn4ioi9wdCqQ6zIhubPPGGzpgaTRnPNN1nHb//oAW2iGYN4eOTv1\n",
       "hpC7Obo0eDMb0hakFpwwnux0+AbMtxlz2geV+mDdOJEPLfghlwN/9cu9z0AFlaWP45V2kENCXLlv\n",
       "k9R9vnGVutguevvqBxFhJyOwZm9THy6Dw78HWQjiKUli2Gkb9+cJECqXb9MQhHqI9Vg9TgJTr37j\n",
       "Im9LUZrNWR+eDT7jLPHKhknu5fRf22KttiQTSYSIphm1nF/Xucyj6thaNkDUZ7D5S8Jw+hTNt6os\n",
       "U304uT7ACMMBrMIbt8y/MFXcfD0t0JUKQd8GVePDqswE+FSz/3EwERjwohhiMC7ucaMjSpaRyX+x\n",
       "QFpVp7BH2Iar4I2q9b9I9RmHXY95L9/rOBM18AAFCncZB1+3KkY+Sp7/RUvJjuICd4okHOsrMJlo\n",
       "aqut+ttTnKjrAz0G+DjIUzJAxvXhv7UCei5Tr+M+7XymqdOmYsDTvOv8T6WDfjGAerIf/HAnz26i\n",
       "s3FNn8qaAzQhY/XdCuPq95GdRSq7m9ta5p/fV+kr+LhUQZBQcnb2olcOnOxRKbNSLu5l9Mxyhqhv\n",
       "mSZfdqHup5Q4TiyKGnkDub9OFi1TzXFHSkHrG32l5fU8ocJxYxmtxQe6aUncT89HtYFTWseVwGle\n",
       "pgF60ni9c2n/tPKf+krTO8h2ilRjumuwcVh9UfJI6atrdOStDt9aTxeabQ+8RXShIYLS+lsxTqV5\n",
       "MPPR7WBU1rO/iliMW9LQmLB7mmxfSHkgi5atoBhYWVhTSuI1+3U5LQ538H26xb0tCYsHuaa76ZMF\n",
       "MTFZH91sNY345iNpwZWPRE67mu3oxw7jKH9hbcCXV7NEI0TaPJhAGWsdFI83yAmr81oNdUlZtFNe\n",
       "JejCr3wDsPCEzwMiNR89IJ0HHFY7M0DHCPlbTUnvSx/Ks7rFu4IMXqvz65JPWENP/2/KbWX5dZYu\n",
       "67VJzHyDNcT82HfP4zscPRghfyo94mU+R22CLXtM0Xr+4ciUcHvq+idOeIbPVeqZRV+f2aDdQP9f\n",
       "/zPSuL/b+z4EI+EsAb3MbbaISTHNfQ5YYldansQjwXmn/jRnL9dcn4YXrO5kmKfIBAcARVSHNzpp\n",
       "3nec2+8ha0iWl+BpJSErCUxzXrPXYiv0vlMR5YDwM6szs2qqZsRn5lpbFFwrJDMXHhbTqBo9bE31\n",
       "v3mFz/lga5vrxNLWC5Rwsc5bTCWOZSBnTinYqxuQEAml+BSUmo9Wb7QfirwRtZ+1k1PxdVoUDn8M\n",
       "ErRIhXIy8iWyGxk8BoxmUmPw/filVPoz2L7r4oUX2OoG1Z0hXoc06o6mjIqnfnWYoJrIzl/VljR2\n",
       "mCduA/Gfv+Ctv7skqrPwkb1tC6IYvP/+X5eoDY2k+Nz3aTP9IVQ1tuxGTKXP50yGo3rOlBpMAz9E\n",
       "j7DLQxIF+RyvkyUBTcGoE78rCduoqI0gBNU9kTfHw5hyLFqscdXwDBu57as+llcFUaPEC6hzhbb0\n",
       "yVqG7pTY7wh4tLi9MJIXm+fiB69lM1pAADYnHHWHk6zH4ikiJrANfFmi6P3/1hXDVeNoUSZMXr6P\n",
       "+fj4CBNIAAAHVQAAAItBmiRsQ7/+qZYABCP+CEURXigBXC+vz23eP7hsM3gCte8DNxE5/RsOK511\n",
       "kKTpkWrsVZYlWl4VCvL3wp1DLoBB/lFGKjxICqeMa2H94yz5mUhdKi6Rrqq7C6Mecqy8KV/mgHIr\n",
       "2JnnqqK49vjAcXOnhiV7Xe8bynrjLUzPoCv8hW4Zzwi9Sw8TmwH4AAAAJEGeQniF/wAEFnY219Zf\n",
       "1en1SbKhOpZr+vBusYktoweX/4DegQAAABcBnmF0Qr8ABa0wmlZJkhLzIjXn34FRMAAAABcBnmNq\n",
       "Qr8AAsVe5ea/Km9A8Qu4sWGnjwAAAGJBmmhJqEFomUwIb//+p4QAA0+ii8FMy4BpZGo1k+4zeb2w\n",
       "85FFNft/nO3MTjN8kt67QifBTP/OCAwAfPQDzF4SkA7SdaTSflOMnnYZyqfWvYMkiLrR5ESVd9L5\n",
       "q4M+gAAHTQAAAEFBnoZFESwv/wAB/IiJ9y1DEQAhOf8AlTx85YpemqKut/Wf56Ie5Jz6ikUSR8iy\n",
       "WefRu5WKWjiJdlIiLGPAKBqN6QAAACIBnqV0Qr8AArPTvvERtvywIADaDa67nWgADYR/purm4saR\n",
       "AAAAGgGep2pCvwACskf0cKZjulgiQAJ0xD74mXHYAAAAhUGarEmoQWyZTAhv//6nhAABWMY28agB\n",
       "NRpKrLSBwdlC2GXMCADhDtBoSR6sEDmdwRrJfLXfl97pHoE4P0DtBsbgPrTluJpjYIvm28/Wkp3b\n",
       "0/bPM/2QChhaqmlzIAcDaFKtjz+mVD9smCK9K/lVZWX+48Vzz9Ox19IBNoDe+BYvZMAAMyAAAABZ\n",
       "QZ7KRRUsL/8AAMvuawqNGqpt6AENl/1tlYoPXjPcz3MpOKeDi2etusERBtIsS570pTEorzVaSBMu\n",
       "23ObG5T2fyEJG8+aVTMXHTO/BwgUZx3PrzyMfIxEBI0AAAApAZ7pdEK/AAESVRjcVUH6gABayKOK\n",
       "sJQLAP36773AFdez6LpUhgAAUkAAAAArAZ7rakK/AAESVRShkZ/aAC5VY1TsarESQQV78atx2YMX\n",
       "mI1cBc42AACPgAAAAG9Bmu1JqEFsmUwIb//+p4QAAVkO683o6kroARpA34HWswIi+hDiwWvbkQoZ\n",
       "8+wReWJCkQqYwV8dcEJPN1psHYQIqLJZmPayf02wIWfGsXbuyZ6a5e6euBnxkWWFHOTEIvEpmIIr\n",
       "ih9g1hT+BYAARMEAAAB6QZsRSeEKUmUwIZ/+nhAAAgqrCFgGNvFpEkMAYaqoQqZrRXle+eoYbRRF\n",
       "CSUpjkTMjBZdjnD6i3VyIPwe0ULbxMKIJjZ4B2wHzLvdGo4j1iFGOkrxvUlyJoqPgo9FsQZQGQIY\n",
       "+UnNfxsMSO2jC0X2dio2bNondlgAB00AAABhQZ8vRTRML/8AAMwb99uq84APxa48Sy5gzPecqTFz\n",
       "ouKfc04y3ljLuAXFF5dJz7v58qHxTi1ost1We40Ym3TXVHFrJZB3m0h5cZuBhXOTw5DyObkEP/ag\n",
       "4mRfuRIxsMgG/QAAADsBn050Qr8AARV0Hh/xAmAD2jDfkscSR7kGuR1PzIp8J9BEeRiH/Lfu0y+t\n",
       "XFvqGRore8n88zG9gAAfkAAAAD4Bn1BqQr8AARXX2+ZEnyYAM21dbkiBeLoZKt9/urddol/juCH+\n",
       "zrPEXuIyE/5sFgTqr03SGjrNciVO7HoC7gAAAFJBm1JJqEFomUwIZ//+nhAAANKUGHTyq3z2AFO0\n",
       "RjHLQRuzf3mhUTfRFrXzHtmhu4nlyhRyU3VDPqZSCeGcrqryP6nCTGrDIxTcE+J2c0TwAA45AAAA\n",
       "UEGbc0nhClJlMCGf/p4QAADSmlMGimemTFQcAbv8Lucs/GhxSjGyrWX5NKFJHVWlquEmLz9uM+Zu\n",
       "TLHjQvi0SgvdSaKk3IqtAUygiwKAAJOAAAAAO0GblEnhDomUwIZ//p4QAADSiv7SY4ijioC4aFXC\n",
       "dxjRpyWNSqNKH55OWP96kmYYFPSc/h0HApj0AAPSAAAAMkGbtUnhDyZTAhn//p4QAABWuZdE6AEO\n",
       "LuuADekMU15y086hpXvDl2Ba7du8x2JaAAdVAAAAOEGb1knhDyZTAhv//qeEAAAViFyxgBwTACgD\n",
       "gGv77R0nNNe03sIxDtMbrjxVSYB1QbJClJ66AA9IAAAAPEGb90nhDyZTAhv//qeEAAAVo8rmLY6A\n",
       "VZmjd9Gno94RS8viuuQng6n8d5neC98CJXyJt1K68HXtKgAO6QAAAGBBmhtJ4Q8mUwIb//6nhAAA\n",
       "CKrZxRXjQSnNgAvZE1GXedC6dL2PvD8FygWUEpBm8QSrFOJ87Rhs0JgVr/YHq/YGSRqZsC7Y8diz\n",
       "S75kZW5ERRAIGN3XkRFf423Vo96UAYUAAAAvQZ45RRE8L/8AAAVBg04YuCfH/RNoAHFOHEGlOQDd\n",
       "P24naFnEk0jccymztzoAnYAAAAAsAZ5YdEK/AAAHFbYc2JXggdKUAIOWv1GGW47tjPskhXOkk75D\n",
       "rS3b3rdCBB0AAABAAZ5aakK/AAADAs2taI4WP17QAZ3Jyb+M3MKICgmP6M1QqLlBx/3naZmsaSOz\n",
       "dPAIrzLxZwSear7oWAOLE3ABhQAAAHVBmlxJqEFomUwIb//+p4QAAAMBYym6E6mzS5cQA3iBkmJ6\n",
       "iBau161s3YJWcHCVpOc7teEznGeoM8OKv/vHaYqPfoYReEzXPGXNgtyHM782QXW4NHWB70kg9znR\n",
       "T/mv1V4kGelDMvtLzvjb/6Mup1hXTtkQ6YEAAABRQZp9SeEKUmUwId/+qZYAAAMAsouRUcAG1qlC\n",
       "jYa/OIcXgNTcdWC+fiyF+gftQgw3Y34txLiY6x+hL9ctsDX1Z/faP/X7kvF9Rha70gOAACLhAAAA\n",
       "WkGagUnhDomUwId//qmWAAADAEgVNcQEWJ+XiCwAWoQSuAqeAkPBwajVoTsq3JdGI3Jl9h5pMFLr\n",
       "UIXi95EDpYYI6lpCOIuYz0luxvSbKnexYsU/+Y5F8UMP8AAAAE5Bnr9FETwv/wAAAwDV7nWVDgGl\n",
       "VqHdAAO0PTNRaGfenyT0fFqLGM2vaPyL2brhXpbI5Sj9njwqoz392XAOYfDach5fu+KBwMy92OY3\n",
       "oQMAAAAoAZ7edEK/AAADASV0IdZFNc0+iqICwvrof/xge9EYAM4vyxjo/kC7gQAAADwBnsBqQr8A\n",
       "AAMBJdfxiqWrDlZACE46Kqom8eOnA+4HtD/nmqCsmZaKNr7ynidiMgCjrSjx3zPlSsbngh4AAAB+\n",
       "QZrFSahBaJlMCHf//qmWAAADAAu4TrZNd+UQAjlKmxcbS3UP+lWYrBxOUuNtepCfMmGAIxOP+naJ\n",
       "oKmKQ8GW2a3zB+FHN5/4XAHlWPeHw0XeqcKkzCkNtD9BDlkC9Es5jTqJcMfQBqKoUWiJvij+5Dx2\n",
       "GAWXnlPSYfLWrJFxAAAASEGe40URLC//AAADANhEX3J7CPLGTSFwgAtgZt5sMxttQiXHtOXOSzW2\n",
       "1BuM4QMYr+quJE0a8MBVj3qU+ratxmaCWB9MsDws4AAAAEUBnwJ0Qr8AAAMBJXQyUTK/vSGYX8aI\n",
       "APoWYgHEXtkyVnZ+M7gaosmwKJs/HqEa7FYvBwAs1lv0DoqFU8KDu6+AgUr+D/EAAABRAZ8EakK/\n",
       "AAADASXX9lUU21KUF/tv0AEN6W1cb1X0ddFauZZ9G4ndxWrFtT1H/3/VUbT8RoNSRQkKHRYqOkPe\n",
       "NByoi++WKA0H6j94fi3EtIwdAAAAlEGbCUmoQWyZTAh3//6plgAAAwAEoVOdTFOD3O8bAC05SOOY\n",
       "NFIrMbMkZrhZGf4cNct3pKwWiSdrT1hPZomFSPa87H7FMuWvR3QS9dzTugxnLebzE3d8wfz4YbjM\n",
       "AnLj9XiOj77tsWdgmlknHxfzcVRcniAHB9/OakCp6zgtRsbX/xDMbHMUQgirGzKAQ06R85h0PmEA\n",
       "AABVQZ8nRRUsL/8AAAMA2ERfdtUmFkMgvqngAbGKjFt1BrOZlmX7Bn2hif9ItW0/MyadoG5UC/So\n",
       "Dx7sXiehH8nXuV46WzRc9Z2WjmuIAdhW8A94A7AMqQAAAG4Bn0Z0Qr8AAAMBJXQyUTID924JEVhi\n",
       "ACG9QRhQbbeWRxZBRJhzhRwawdLh4VQmDDyn/4Zj2wIZLY9tw7GoJ/f7Z03e3QJ5X3ZecvphglJo\n",
       "MOlbg2gMuUSSc1z2V1YRKw+6tg45ruxsFbOklUFQQAAAAFwBn0hqQr8AAAMBJdf2VRS4tl1u5qU2\n",
       "nMZ2vFgA2o7XTVNo+o1JEUusdDLEK059LfMHqLkHqZp3SdwmRjY8HcEfO8b2qhMPLehMtSPmiTG6\n",
       "+pOKsD8yP0hbeamKmAAAAKlBm01JqEFsmUwId//+qZYAAAMAAnCpZXDcgMaAUG52RaLQon2o7P0A\n",
       "K9h81Q88/MYJPsygkNgFgV6AUMch+5tYNQTtyUWtCy7jOsPGGNDZS7/pUAOCyuJe+Szgr14vy2eU\n",
       "pmoGXjC4zGX/YAL9qPD9Agju0TXhj82ZicWGAj7Z3JO9mI9ah8g+5f+BDCcQAzY2m285C0Ha0FcM\n",
       "P+sMdq3pHo7EU3Et8bKhAAAAV0Gfa0UVLC//AAADANhEX3bVJiCjx3XWeO80ZZW8AF64eD0CqTEH\n",
       "OnC+LbA3OzXAlMAtqqltLRFgFEWZK3zLsOaZqwJqa9dwkwusP5eLtWYb0qHLlVAKSAAAAEwBn4p0\n",
       "Qr8AAAMBJXQyUTICtp/mdG3UVeJ0AEIzVOwsV53iq7qnLK4oGG1WtYYKstd44JQILDqPuiSdtBn+\n",
       "3EuNMVjW4iIJJJ00qkXAAAAAVQGfjGpCvwAAAwEl1/ZVFK+mXTEzgtEAAJ27rE1C03XMp1UlkmO1\n",
       "c/bo45m/vUDeXVRiq04l5pw1n6aHDnmNuOv8g7Ee5gpqpNHIQ1msx3o6vRy1TaEAAABYQZuRSahB\n",
       "bJlMCHf//qmWAAADAAEgVNDs2ggB6hrdUWUIAGQsAaEhD9fv7b4LVGxKiDHtyRc+KSsskYhGrIvu\n",
       "L8CUx9zKMrvyNj9LdKE1zi6WSpE1OOCwYQAAAB9Bn69FFSwv/wAAAwDYRF921SYgpVwFj2bNoY7K\n",
       "eDI/AAAAHAGfznRCvwAAAwEldDJRMfYlBUlmWRvI8eXPHdAAAAAZAZ/QakK/AAADASXX9lUUr6Zc\n",
       "WC1QaL+8sAAAAChBm9VJqEFsmUwId//+qZYAAAMAARgpivGAQz4AaOiY95Ypm5k97pnpAAAAHEGf\n",
       "80UVLC//AAADANhEX3bVJiClXAWFdE1Eb0AAAAAZAZ4SdEK/AAADASV0MlEx9iUFEgTQfQB7ywAA\n",
       "ABQBnhRqQr8AAAMBJdf2VRSvpkvSbwAAABhBmhlJqEFsmUwId//+qZYAAAMAAAMAPCAAAAAZQZ43\n",
       "RRUsL/8AAAMA2ERfdtUmIKVcBS1K2QAAABQBnlZ0Qr8AAAMBJXQyUTH2JN5F5QAAABQBnlhqQr8A\n",
       "AAMBJdf2VRSvpkvSbgAAABhBml1JqEFsmUwId//+qZYAAAMAAAMAPCEAAAAZQZ57RRUsL/8AAAMA\n",
       "2ERfdtUmIKVcBS1K2AAAABQBnpp0Qr8AAAMBJXQyUTH2JN5F5QAAABQBnpxqQr8AAAMBJdf2VRSv\n",
       "pkvSbwAAADFBmoFJqEFsmUwIb//+p4QAAAMAAipF5xQ7WwgBAxHw1m3dMsgVvmH4tOLbNaSSrqXg\n",
       "AAAAHEGev0UVLC//AAADANhEX3bVJiClXAWFdE1Eb0AAAAAXAZ7edEK/AAADASV0MlEx9iUFL9L8\n",
       "O2kAAAAUAZ7AakK/AAADASXX9lUUr6ZL0m4AAAAYQZrFSahBbJlMCG///qeEAAADAAADAHdBAAAA\n",
       "GUGe40UVLC//AAADANhEX3bVJiClXAUtStgAAAAUAZ8CdEK/AAADASV0MlEx9iTeReUAAAAUAZ8E\n",
       "akK/AAADASXX9lUUr6ZL0m8AAAAXQZsJSahBbJlMCGf//p4QAAADAAADAdMAAAAZQZ8nRRUsL/8A\n",
       "AAMA2ERfdtUmIKVcBS1K2QAAABQBn0Z0Qr8AAAMBJXQyUTH2JN5F5AAAABQBn0hqQr8AAAMBJdf2\n",
       "VRSvpkvSbgAAABdBm0tJqEFsmUwUTCv//jhAAAADAAAHHQAAABcBn2pqQr8AAAMBJgzMN3QXOFgw\n",
       "tVUrYAAABo5tb292AAAAbG12aGQAAAAAAAAAAAAAAAAAAAPoAAAL4AABAAABAAAAAAAAAAAAAAAA\n",
       "AQAAAAAAAAAAAAAAAAAAAAEAAAAAAAAAAAAAAAAAAEAAAAAAAAAAAAAAAAAAAAAAAAAAAAAAAAAA\n",
       "AAAAAAACAAAFuHRyYWsAAABcdGtoZAAAAAMAAAAAAAAAAAAAAAEAAAAAAAAL4AAAAAAAAAAAAAAA\n",
       "AAAAAAAAAQAAAAAAAAAAAAAAAAAAAAEAAAAAAAAAAAAAAAAAAEAAAAACQAAAAbAAAAAAACRlZHRz\n",
       "AAAAHGVsc3QAAAAAAAAAAQAAC+AAAAQAAAEAAAAABTBtZGlhAAAAIG1kaGQAAAAAAAAAAAAAAAAA\n",
       "ADIAAACYAFXEAAAAAAAtaGRscgAAAAAAAAAAdmlkZQAAAAAAAAAAAAAAAFZpZGVvSGFuZGxlcgAA\n",
       "AATbbWluZgAAABR2bWhkAAAAAQAAAAAAAAAAAAAAJGRpbmYAAAAcZHJlZgAAAAAAAAABAAAADHVy\n",
       "bCAAAAABAAAEm3N0YmwAAACzc3RzZAAAAAAAAAABAAAAo2F2YzEAAAAAAAAAAQAAAAAAAAAAAAAA\n",
       "AAAAAAACQAGwAEgAAABIAAAAAAAAAAEAAAAAAAAAAAAAAAAAAAAAAAAAAAAAAAAAAAAAAAAAAAAY\n",
       "//8AAAAxYXZjQwFkAB7/4QAYZ2QAHqzZQJA3oQAAAwABAAADADIPFi2WAQAGaOvjyyLAAAAAHHV1\n",
       "aWRraEDyXyRPxbo5pRvPAyPzAAAAAAAAABhzdHRzAAAAAAAAAAEAAABMAAACAAAAABRzdHNzAAAA\n",
       "AAAAAAEAAAABAAACQGN0dHMAAAAAAAAARgAAAAEAAAQAAAAAAQAACgAAAAABAAAEAAAAAAEAAAAA\n",
       "AAAAAQAAAgAAAAABAAAKAAAAAAEAAAQAAAAAAQAAAAAAAAABAAACAAAAAAEAAAoAAAAAAQAABAAA\n",
       "AAABAAAAAAAAAAEAAAIAAAAAAQAABAAAAAABAAAKAAAAAAEAAAQAAAAAAQAAAAAAAAABAAACAAAA\n",
       "AAYAAAQAAAAAAQAACgAAAAABAAAEAAAAAAEAAAAAAAAAAQAAAgAAAAACAAAEAAAAAAEAAAoAAAAA\n",
       "AQAABAAAAAABAAAAAAAAAAEAAAIAAAAAAQAACgAAAAABAAAEAAAAAAEAAAAAAAAAAQAAAgAAAAAB\n",
       "AAAKAAAAAAEAAAQAAAAAAQAAAAAAAAABAAACAAAAAAEAAAoAAAAAAQAABAAAAAABAAAAAAAAAAEA\n",
       "AAIAAAAAAQAACgAAAAABAAAEAAAAAAEAAAAAAAAAAQAAAgAAAAABAAAKAAAAAAEAAAQAAAAAAQAA\n",
       "AAAAAAABAAACAAAAAAEAAAoAAAAAAQAABAAAAAABAAAAAAAAAAEAAAIAAAAAAQAACgAAAAABAAAE\n",
       "AAAAAAEAAAAAAAAAAQAAAgAAAAABAAAKAAAAAAEAAAQAAAAAAQAAAAAAAAABAAACAAAAAAEAAAoA\n",
       "AAAAAQAABAAAAAABAAAAAAAAAAEAAAIAAAAAAQAACgAAAAABAAAEAAAAAAEAAAAAAAAAAQAAAgAA\n",
       "AAABAAAGAAAAAAEAAAIAAAAAHHN0c2MAAAAAAAAAAQAAAAEAAABMAAAAAQAAAURzdHN6AAAAAAAA\n",
       "AAAAAABMAAAZBwAAAI8AAAAoAAAAGwAAABsAAABmAAAARQAAACYAAAAeAAAAiQAAAF0AAAAtAAAA\n",
       "LwAAAHMAAAB+AAAAZQAAAD8AAABCAAAAVgAAAFQAAAA/AAAANgAAADwAAABAAAAAZAAAADMAAAAw\n",
       "AAAARAAAAHkAAABVAAAAXgAAAFIAAAAsAAAAQAAAAIIAAABMAAAASQAAAFUAAACYAAAAWQAAAHIA\n",
       "AABgAAAArQAAAFsAAABQAAAAWQAAAFwAAAAjAAAAIAAAAB0AAAAsAAAAIAAAAB0AAAAYAAAAHAAA\n",
       "AB0AAAAYAAAAGAAAABwAAAAdAAAAGAAAABgAAAA1AAAAIAAAABsAAAAYAAAAHAAAAB0AAAAYAAAA\n",
       "GAAAABsAAAAdAAAAGAAAABgAAAAbAAAAGwAAABRzdGNvAAAAAAAAAAEAAAAsAAAAYnVkdGEAAABa\n",
       "bWV0YQAAAAAAAAAhaGRscgAAAAAAAAAAbWRpcmFwcGwAAAAAAAAAAAAAAAAtaWxzdAAAACWpdG9v\n",
       "AAAAHWRhdGEAAAABAAAAAExhdmY1OC4yOS4xMDA=\n",
       "\">\n",
       "  Your browser does not support the video tag.\n",
       "</video>"
      ],
      "text/plain": [
       "<IPython.core.display.HTML object>"
      ]
     },
     "execution_count": 191,
     "metadata": {},
     "output_type": "execute_result"
    },
    {
     "data": {
      "image/png": "[encoded data removed]",
      "text/plain": [
       "<Figure size 576x432 with 1 Axes>"
      ]
     },
     "metadata": {
      "needs_background": "light"
     },
     "output_type": "display_data"
    }
   ],
   "source": [
    "# 创建一个动画，将梯度下降的过程可视化，这里使用的是matplotlib的animation模块\n",
    "from matplotlib import animation\n",
    "from IPython.display import HTML\n",
    "\n",
    "fig = plt.figure(figsize=(8, 6))\n",
    "ax = plt.axes(xlim=(-2, 5), ylim=(-5, 30))\n",
    "line, = ax.plot([], [], 'bo', lw=2)\n",
    "line2, = ax.plot([], [], 'r', lw=2)\n",
    "\n",
    "def init():\n",
    "    line.set_data([], [])\n",
    "    line2.set_data([], [])\n",
    "    return line, line2\n",
    "\n",
    "def animate(i):\n",
    "    x = np.linspace(-2, 5, 100)\n",
    "    y = J(x)\n",
    "    y2 = grad_J(x)\n",
    "    line.set_data(x_history[i], J(x_history[i]))\n",
    "    line2.set_data(x, y)\n",
    "    return line, line2\n",
    "\n",
    "anim = animation.FuncAnimation(fig, animate, init_func=init,\n",
    "                                frames=len(x_history), # 这里的frames是指动画的帧数\n",
    "                                interval=40,  # 这里的interval是指动画的间隔时间 单位是ms\n",
    "                                blit=True # 这里的blit是指是否只更新动画中改变的部分\n",
    "                                )\n",
    "\n",
    "HTML(anim.to_html5_video())\n"
   ]
  }
 ],
 "metadata": {
  "kernelspec": {
   "display_name": "Python 3 (ipykernel)",
   "language": "python",
   "name": "python3"
  },
  "language_info": {
   "codemirror_mode": {
    "name": "ipython",
    "version": 3
   },
   "file_extension": ".py",
   "mimetype": "text/x-python",
   "name": "python",
   "nbconvert_exporter": "python",
   "pygments_lexer": "ipython3",
   "version": "3.9.7"
  },
  "vscode": {
   "interpreter": {
    "hash": "5179d32cf6ec497baf3f8a3ef987cc77c5d2dc691fdde20a56316522f61a7323"
   }
  }
 },
 "nbformat": 4,
 "nbformat_minor": 2
}
