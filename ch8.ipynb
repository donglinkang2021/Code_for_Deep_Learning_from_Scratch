{
 "cells": [
  {
   "attachments": {},
   "cell_type": "markdown",
   "metadata": {},
   "source": [
    "## misclassified mnist"
   ]
  },
  {
   "cell_type": "code",
   "execution_count": 2,
   "metadata": {},
   "outputs": [
    {
     "name": "stdout",
     "output_type": "stream",
     "text": [
      "calculating test accuracy ... \n"
     ]
    }
   ],
   "source": [
    "# coding: utf-8\n",
    "import sys, os\n",
    "sys.path.append(os.pardir)  # 为了导入父目录而进行的设定\n",
    "import numpy as np\n",
    "import matplotlib.pyplot as plt\n",
    "from ch08.deep_convnet import DeepConvNet\n",
    "from dataset.mnist import load_mnist\n",
    "\n",
    "\n",
    "(x_train, t_train), (x_test, t_test) = load_mnist(flatten=False)\n",
    "\n",
    "network = DeepConvNet()\n",
    "network.load_params(\"ch08/deep_convnet_params.pkl\")\n",
    "\n",
    "print(\"calculating test accuracy ... \")\n",
    "#sampled = 1000\n",
    "#x_test = x_test[:sampled]\n",
    "#t_test = t_test[:sampled]\n"
   ]
  },
  {
   "cell_type": "code",
   "execution_count": 3,
   "metadata": {},
   "outputs": [
    {
     "name": "stdout",
     "output_type": "stream",
     "text": [
      "test accuracy:0.9935\n"
     ]
    }
   ],
   "source": [
    "\n",
    "classified_ids = []\n",
    "\n",
    "acc = 0.0\n",
    "batch_size = 100\n",
    "\n",
    "for i in range(int(x_test.shape[0] / batch_size)):\n",
    "    tx = x_test[i*batch_size:(i+1)*batch_size]\n",
    "    tt = t_test[i*batch_size:(i+1)*batch_size]\n",
    "    y = network.predict(tx, train_flg=False)\n",
    "    y = np.argmax(y, axis=1)\n",
    "    classified_ids.append(y)\n",
    "    acc += np.sum(y == tt)\n",
    "    \n",
    "acc = acc / x_test.shape[0]\n",
    "print(\"test accuracy:\" + str(acc))\n"
   ]
  },
  {
   "cell_type": "code",
   "execution_count": 4,
   "metadata": {},
   "outputs": [
    {
     "name": "stdout",
     "output_type": "stream",
     "text": [
      "======= misclassified result =======\n",
      "{view index: (label, inference), ...}\n",
      "{1: (6, 0), 2: (3, 5), 3: (3, 5), 4: (8, 3), 5: (7, 3), 6: (1, 3), 7: (8, 9), 8: (6, 0), 9: (6, 5), 10: (7, 2), 11: (9, 4), 12: (7, 1), 13: (5, 3), 14: (1, 3), 15: (0, 6), 16: (9, 4), 17: (7, 9), 18: (6, 0), 19: (9, 8), 20: (4, 9)}\n"
     ]
    },
    {
     "data": {
      "image/png": "[encoded data removed]",
      "text/plain": [
       "<Figure size 432x288 with 20 Axes>"
      ]
     },
     "metadata": {},
     "output_type": "display_data"
    }
   ],
   "source": [
    "\n",
    "classified_ids = np.array(classified_ids)\n",
    "classified_ids = classified_ids.flatten()\n",
    " \n",
    "max_view = 20\n",
    "current_view = 1\n",
    "\n",
    "fig = plt.figure()\n",
    "fig.subplots_adjust(left=0, right=1, bottom=0, top=1, hspace=0.2, wspace=0.2)\n",
    "\n",
    "mis_pairs = {}\n",
    "for i, val in enumerate(classified_ids == t_test):\n",
    "    if not val:\n",
    "        ax = fig.add_subplot(4, 5, current_view, xticks=[], yticks=[])\n",
    "        ax.imshow(x_test[i].reshape(28, 28), cmap=plt.cm.gray_r, interpolation='nearest')\n",
    "        mis_pairs[current_view] = (t_test[i], classified_ids[i])\n",
    "            \n",
    "        current_view += 1\n",
    "        if current_view > max_view:\n",
    "            break\n",
    "\n",
    "print(\"======= misclassified result =======\")\n",
    "print(\"{view index: (label, inference), ...}\")\n",
    "print(mis_pairs)\n",
    "\n",
    "plt.show()\n"
   ]
  },
  {
   "attachments": {},
   "cell_type": "markdown",
   "metadata": {},
   "source": [
    "## half float network"
   ]
  },
  {
   "cell_type": "code",
   "execution_count": 1,
   "metadata": {},
   "outputs": [
    {
     "name": "stdout",
     "output_type": "stream",
     "text": [
      "caluculate accuracy (float64) ... \n",
      "0.9935\n",
      "caluculate accuracy (float16) ... \n",
      "0.9935\n"
     ]
    }
   ],
   "source": [
    "# coding: utf-8\n",
    "import sys, os\n",
    "sys.path.append(os.pardir)  # 为了导入父目录而进行的设定\n",
    "import numpy as np\n",
    "import matplotlib.pyplot as plt\n",
    "from ch08.deep_convnet import DeepConvNet\n",
    "from dataset.mnist import load_mnist\n",
    "\n",
    "\n",
    "(x_train, t_train), (x_test, t_test) = load_mnist(flatten=False)\n",
    "\n",
    "network = DeepConvNet()\n",
    "network.load_params(\"ch08/deep_convnet_params.pkl\")\n",
    "\n",
    "sampled = 10000 # 为了实现高速化\n",
    "x_test = x_test[:sampled]\n",
    "t_test = t_test[:sampled]\n",
    "\n",
    "print(\"caluculate accuracy (float64) ... \")\n",
    "print(network.accuracy(x_test, t_test))\n",
    "\n",
    "# 转换为float16型\n",
    "x_test = x_test.astype(np.float16)\n",
    "for param in network.params.values():\n",
    "    param[...] = param.astype(np.float16)\n",
    "\n",
    "print(\"caluculate accuracy (float16) ... \")\n",
    "print(network.accuracy(x_test, t_test))\n"
   ]
  },
  {
   "attachments": {},
   "cell_type": "markdown",
   "metadata": {},
   "source": [
    "## 测试一下我们自己的手写数字"
   ]
  },
  {
   "cell_type": "code",
   "execution_count": 1,
   "metadata": {},
   "outputs": [],
   "source": [
    "import numpy as np\n",
    "import matplotlib.pyplot as plt\n",
    "from ch08.deep_convnet import DeepConvNet\n",
    "\n",
    "network = DeepConvNet()\n",
    "network.load_params(\"ch08/deep_convnet_params.pkl\")"
   ]
  },
  {
   "attachments": {},
   "cell_type": "markdown",
   "metadata": {},
   "source": [
    "### 单个数字"
   ]
  },
  {
   "cell_type": "code",
   "execution_count": 21,
   "metadata": {},
   "outputs": [],
   "source": [
    "# 尝试识别一串数字，用滑动窗口的方法\n",
    "import imageio # for reading images\n",
    "import glob # for reading files\n",
    "import numpy as np # for arrays\n",
    "import matplotlib.pyplot as plt # for plotting\n",
    "from common.functions import softmax # for softmax\n",
    "%matplotlib inline\n",
    "\n",
    "class ImagePredict:\n",
    "    def __init__(self):\n",
    "        self.imageArray = None\n",
    "\n",
    "    def imageioRead2plt(self, imageFile):\n",
    "        # @imageFile: the image file path\n",
    "        # @return: the image data in a 1D array\n",
    "        self.imageArray = imageio.imread(imageFile, as_gray=True)\n",
    "        # 0 is white and 1 is black in the matplotlib image so we invert the array above\n",
    "        img_data = 255.0 - self.imageArray.reshape(self.imageArray.size)\n",
    "\n",
    "        # normalize the image data to be between 0.01 and 1.0\n",
    "        img_data = (img_data / 255.0 * 0.99) + 0.01 \n",
    "        return img_data\n",
    "\n",
    "    def pltshow(self, img_data):\n",
    "        # show the image 255 is white and 0 is black we turn it into a 28x28 array\n",
    "        plt.imshow(np.asfarray(img_data).reshape((self.imageArray.shape)), cmap='Greys', interpolation='None')\n",
    "\n",
    "    def predict(self, img_data, network):\n",
    "        # 识别图片中的数字\n",
    "        x = img_data\n",
    "        y = network.predict(x.reshape(1,1,28,28))\n",
    "        t = softmax(y)\n",
    "        p_index = np.argmax(y) # 获取概率最高的元素的索引\n",
    "        # print(\"神经网络预测结果为:\", p_index)\n",
    "        return p_index, t[0][p_index]\n",
    "    \n",
    "    def ReadShowPredict(self, imageFile, network):\n",
    "        img_data = self.imageioRead2plt(imageFile)\n",
    "        self.pltshow(img_data)\n",
    "        p_index, p = self.predict(img_data, network)\n",
    "        print(\"神经网络预测结果为:\", p_index, \"概率为:\", p)\n",
    "        return p_index, p\n",
    "\n",
    "IP = ImagePredict()"
   ]
  },
  {
   "cell_type": "code",
   "execution_count": 20,
   "metadata": {},
   "outputs": [],
   "source": [
    "## 识别单个数字测试\n",
    "myImageNameList = []\n",
    "for imageFile in glob.glob('myImages/*.png'):\n",
    "    myImageNameList.append(imageFile)\n",
    "    pass"
   ]
  },
  {
   "cell_type": "code",
   "execution_count": 22,
   "metadata": {},
   "outputs": [
    {
     "name": "stdout",
     "output_type": "stream",
     "text": [
      "神经网络预测结果为: 9 概率为: 0.47303550602404804\n",
      "神经网络预测结果为: 1 概率为: 0.35264527705147575\n",
      "神经网络预测结果为: 2 概率为: 0.9956988362607224\n",
      "神经网络预测结果为: 3 概率为: 0.9942521160803786\n",
      "神经网络预测结果为: 4 概率为: 0.7942640900134723\n",
      "神经网络预测结果为: 5 概率为: 0.9589095314655524\n",
      "神经网络预测结果为: 6 概率为: 0.8360918867117583\n",
      "神经网络预测结果为: 7 概率为: 0.32463224545641167\n",
      "神经网络预测结果为: 8 概率为: 0.9649918939860697\n",
      "神经网络预测结果为: 9 概率为: 0.7804137783218721\n"
     ]
    },
    {
     "data": {
      "image/png": "[encoded data removed]",
      "text/plain": [
       "<Figure size 432x288 with 10 Axes>"
      ]
     },
     "metadata": {
      "needs_background": "light"
     },
     "output_type": "display_data"
    }
   ],
   "source": [
    "\n",
    "i = 1\n",
    "w = 2\n",
    "h = int( len(myImageNameList) / w)\n",
    "for oneImage in myImageNameList:\n",
    "    plt.subplot(w, h, i)\n",
    "    IP.ReadShowPredict(oneImage, network)\n",
    "    i = i + 1\n"
   ]
  },
  {
   "attachments": {},
   "cell_type": "markdown",
   "metadata": {},
   "source": [
    "> 惊人的结果，除了第一个数字，其他的都被正确识别了。"
   ]
  },
  {
   "attachments": {},
   "cell_type": "markdown",
   "metadata": {},
   "source": [
    "### 多个数字"
   ]
  },
  {
   "cell_type": "code",
   "execution_count": 23,
   "metadata": {},
   "outputs": [
    {
     "data": {
      "image/png": "[encoded data removed]",
      "text/plain": [
       "<Figure size 432x288 with 1 Axes>"
      ]
     },
     "metadata": {
      "needs_background": "light"
     },
     "output_type": "display_data"
    }
   ],
   "source": [
    "# 读入一张图片的数据 里面包含了一行数字\n",
    "imageFile = 'numbers3.png'\n",
    "img_data = IP.imageioRead2plt(imageFile)\n",
    "IP.pltshow(img_data)"
   ]
  },
  {
   "cell_type": "code",
   "execution_count": 40,
   "metadata": {},
   "outputs": [
    {
     "data": {
      "text/plain": [
       "(7056,)"
      ]
     },
     "execution_count": 40,
     "metadata": {},
     "output_type": "execute_result"
    }
   ],
   "source": [
    "img_data.shape"
   ]
  },
  {
   "cell_type": "code",
   "execution_count": 41,
   "metadata": {},
   "outputs": [
    {
     "data": {
      "text/plain": [
       "imageio.core.util.Array"
      ]
     },
     "execution_count": 41,
     "metadata": {},
     "output_type": "execute_result"
    }
   ],
   "source": [
    "type(img_data)"
   ]
  },
  {
   "cell_type": "code",
   "execution_count": 24,
   "metadata": {},
   "outputs": [],
   "source": [
    "original_img_data = img_data.copy()\n",
    "original_img_data = original_img_data.reshape(IP.imageArray.shape)\n",
    "# 用滑动窗口的方法识别数字\n",
    "# 从左到右 从上到下\n",
    "\n",
    "# 识别数字的宽度\n",
    "w = 28\n",
    "# 识别数字的高度\n",
    "h = 28\n",
    "# 识别数字的间隔\n",
    "g = 0\n",
    "# 识别数字的总数\n",
    "n = 3\n",
    "\n",
    "# 识别数字的起始位置\n",
    "x = 0\n",
    "y = 0\n",
    "\n",
    "# 识别数字的结束位置\n",
    "xend = w * n + g * (n - 1)\n",
    "yend = h * n + g * (n - 1)\n",
    "\n",
    "# 识别数字的结果\n",
    "result = []"
   ]
  },
  {
   "cell_type": "code",
   "execution_count": 25,
   "metadata": {},
   "outputs": [
    {
     "name": "stdout",
     "output_type": "stream",
     "text": [
      "识别的数字为: [(5, 0.7570650895029465), (2, 0.998375592106089), (9, 0.5740317965717111), (5, 0.9481438544243985), (2, 0.9726623081171946), (0, 0.24830246392836258), (5, 0.7191261294516303), (2, 0.6712600011349168), (0, 0.38031674792268394)]\n"
     ]
    },
    {
     "data": {
      "image/png": "[encoded data removed]",
      "text/plain": [
       "<Figure size 432x288 with 9 Axes>"
      ]
     },
     "metadata": {
      "needs_background": "light"
     },
     "output_type": "display_data"
    }
   ],
   "source": [
    "while y < yend:\n",
    "    while x < xend:\n",
    "        # 识别数字的区域\n",
    "        ROI_img_data = original_img_data[y:y+h, x:x+w]\n",
    "        tmp_img_data = ROI_img_data.reshape(1, 784)\n",
    "        plt.subplot(3,3, len(result) + 1)\n",
    "        plt.imshow(np.asfarray(tmp_img_data).reshape(w,h), cmap='Greys', interpolation='None')\n",
    "        result.append(IP.predict(tmp_img_data, network))\n",
    "        x = x + w + g\n",
    "        pass\n",
    "    y = y + h + g\n",
    "    x = 0\n",
    "    pass\n",
    "\n",
    "print(\"识别的数字为:\", result)"
   ]
  },
  {
   "attachments": {},
   "cell_type": "markdown",
   "metadata": {},
   "source": [
    "> 直接识别对了九个数字，这个结果真的很惊人。"
   ]
  },
  {
   "attachments": {},
   "cell_type": "markdown",
   "metadata": {},
   "source": [
    "## 识别给定图片（图片大小未确定的）中特定位置的数字"
   ]
  },
  {
   "cell_type": "code",
   "execution_count": 2,
   "metadata": {},
   "outputs": [],
   "source": [
    "import cv2 as cv\n",
    "import numpy as np"
   ]
  },
  {
   "cell_type": "code",
   "execution_count": 3,
   "metadata": {},
   "outputs": [],
   "source": [
    "\n",
    "# 返回左上角和右下角的顶点坐标\n",
    "def get_ROI(approx):\n",
    "    a = approx.reshape(4, 2)\n",
    "    minx = np.min(a[:, 0])\n",
    "    miny = np.min(a[:, 1])\n",
    "    maxx = np.max(a[:, 0])\n",
    "    maxy = np.max(a[:, 1])\n",
    "    return minx, miny, maxx, maxy"
   ]
  },
  {
   "cell_type": "code",
   "execution_count": 4,
   "metadata": {},
   "outputs": [
    {
     "data": {
      "text/html": [
       "<img src=\"image/Figure_1.png\" width=\"300\"/>\n",
       "<img src=\"image/Figure_2.png\" width=\"300\"/>\n",
       "<img src=\"image/Figure_3.png\" width=\"300\"/>\n",
       "<img src=\"image/Figure_4.png\" width=\"300\"/>\n",
       "<img src=\"image/Figure_5.png\" width=\"300\"/>\n",
       "<img src=\"image/Figure_6.png\" width=\"300\"/>\n"
      ],
      "text/plain": [
       "<IPython.core.display.HTML object>"
      ]
     },
     "metadata": {},
     "output_type": "display_data"
    }
   ],
   "source": [
    "%%HTML\n",
    "<img src=\"image/Figure_1.png\" width=\"300\"/>\n",
    "<img src=\"image/Figure_2.png\" width=\"300\"/>\n",
    "<img src=\"image/Figure_3.png\" width=\"300\"/>\n",
    "<img src=\"image/Figure_4.png\" width=\"300\"/>\n",
    "<img src=\"image/Figure_5.png\" width=\"300\"/>\n",
    "<img src=\"image/Figure_6.png\" width=\"300\"/>"
   ]
  },
  {
   "attachments": {},
   "cell_type": "markdown",
   "metadata": {},
   "source": [
    "### 处理图形和数字"
   ]
  },
  {
   "cell_type": "code",
   "execution_count": 29,
   "metadata": {},
   "outputs": [],
   "source": [
    "# 尝试识别一串数字，用滑动窗口的方法\n",
    "import imageio # for reading images\n",
    "import glob # for reading files\n",
    "import numpy as np # for arrays\n",
    "import matplotlib.pyplot as plt # for plotting\n",
    "from common.functions import softmax # for softmax\n",
    "%matplotlib inline\n",
    "\n",
    "class ImagePredict:\n",
    "    def __init__(self):\n",
    "        self.imageArray = None\n",
    "\n",
    "    def imageioRead2plt(self, imageFile):\n",
    "        # @imageFile: the image file path\n",
    "        # @return: the image data in a 1D array\n",
    "        self.imageArray = imageio.imread(imageFile, as_gray=True)\n",
    "        # 0 is white and 1 is black in the matplotlib image so we invert the array above\n",
    "        img_data = 255.0 - self.imageArray.reshape(self.imageArray.size)\n",
    "\n",
    "        # normalize the image data to be between 0.01 and 1.0\n",
    "        img_data = (img_data / 255.0 * 0.99) + 0.01 \n",
    "        return img_data\n",
    "\n",
    "    def convertpng2plt(self, image_data):\n",
    "        # @image_data: the image data in a 1D array\n",
    "        # @return: the image data in a 1D array\n",
    "        # 0 is white and 1 is black in the matplotlib image so we invert the array above\n",
    "        self.imageArray = image_data\n",
    "        img_data = 255.0 - image_data.reshape(image_data.size)\n",
    "\n",
    "        # normalize the image data to be between 0.01 and 1.0\n",
    "        img_data = (img_data / 255.0 * 0.99) + 0.01 \n",
    "        return img_data\n",
    "\n",
    "    def pltshow(self, img_data):\n",
    "        # show the image 255 is white and 0 is black we turn it into a 28x28 array\n",
    "        plt.imshow(np.asfarray(img_data).reshape((self.imageArray.shape)), cmap='Greys', interpolation='None')\n",
    "\n",
    "    def predict(self, img_data, network):\n",
    "        # 识别图片中的数字\n",
    "        x = img_data\n",
    "        y = network.predict(x.reshape(1,1,28,28))\n",
    "        t = softmax(y)\n",
    "        p_index = np.argmax(y) # 获取概率最高的元素的索引\n",
    "        # print(\"神经网络预测结果为:\", p_index)\n",
    "        return p_index, t[0][p_index]\n",
    "    \n",
    "    def ReadShowPredict(self, imageFile, network):\n",
    "        img_data = self.imageioRead2plt(imageFile)\n",
    "        self.pltshow(img_data)\n",
    "        p_index, p = self.predict(img_data, network)\n",
    "        print(\"神经网络预测结果为:\", p_index, \"概率为:\", p)\n",
    "        return p_index, p\n",
    "\n",
    "IP = ImagePredict()"
   ]
  },
  {
   "cell_type": "code",
   "execution_count": 8,
   "metadata": {},
   "outputs": [],
   "source": [
    "## 在每个ROI中找出三角形，圆形和矩形和数字\n",
    "def findAndCount_shape_num(contours, shape_num, img_test_draw_shape, minx, miny):\n",
    "    # @param contours: ROI区域中的轮廓\n",
    "    # @param shape_num: 三角形，圆形和矩形的个数 是一个字典\n",
    "    # @param img_test_draw_shape: 画出三角形，圆形和矩形的图像\n",
    "    # @param minx: ROI区域的左上角的x坐标\n",
    "    # @param miny: ROI区域的左上角的y坐标\n",
    "    # 图像轮廓的中心点\n",
    "    min_area = 100000\n",
    "    min_contour = None\n",
    "    max_area = 0\n",
    "    max_contour = None\n",
    "    for contour in contours:\n",
    "        area = cv.contourArea(contour)\n",
    "        if area < min_area:\n",
    "            min_area = area\n",
    "            min_contour = contour\n",
    "        if area > max_area:\n",
    "            max_area = area\n",
    "            max_contour = contour\n",
    "    M = cv.moments(min_contour)\n",
    "    num_cx = minx + int(M['m10'] / M['m00'])\n",
    "    num_cy = miny + int(M['m01'] / M['m00'])\n",
    "    cv.rectangle(img_test_draw_shape, (num_cx - 14, num_cy - 14), (num_cx + 14, num_cy + 14), (0, 255, 0), 2)\n",
    "    for contour in contours:\n",
    "        area = cv.contourArea(contour)\n",
    "        if area == max_area or area == min_area:\n",
    "            continue\n",
    "        M = cv.moments(contour)\n",
    "        shape_cx = minx + int(M['m10'] / M['m00'])\n",
    "        shape_cy = miny + int(M['m01'] / M['m00'])\n",
    "        if abs(shape_cx - num_cx) < 10 and abs(shape_cy - num_cy) < 10:\n",
    "            continue\n",
    "        # # 画出轮廓中心点 画一个+号\n",
    "        # cv.line(img_test_draw_shape, (shape_cx - 5, shape_cy), (shape_cx + 5, shape_cy), (255, 0, 255), 2)\n",
    "        # cv.line(img_test_draw_shape, (shape_cx, shape_cy - 5), (shape_cx, shape_cy + 5), (255, 0, 255), 2)\n",
    "        perimeter = cv.arcLength(contour, True)\n",
    "        epsilon = 0.01 * perimeter\n",
    "        approx = cv.approxPolyDP(contour, epsilon, True)\n",
    "        # 变换到原图像的坐标\n",
    "        approx[:, 0, 0] += minx\n",
    "        approx[:, 0, 1] += miny\n",
    "        if ((len(approx) > 3) and (len(approx) < 10))and (area > 50 and area < 500):\n",
    "            cv.drawContours(img_test_draw_shape, [approx], 0, (255, 255, 255), 2)\n",
    "            shape_num['rectangle'] = shape_num.get('rectangle', 0) + 1\n",
    "        elif (len(approx) <= 4) and (area > 200 and area < 500):\n",
    "            cv.drawContours(img_test_draw_shape, [approx], 0, (0, 0, 0), 2)\n",
    "            shape_num['triangle'] = shape_num.get('triangle', 0) + 1\n",
    "        elif len(approx) >= 10 and (area > 200 and area < 400):\n",
    "            cv.drawContours(img_test_draw_shape, [approx], 0, (255, 0, 255), 2)\n",
    "            shape_num['circle'] = shape_num.get('circle', 0) + 1\n",
    "    return num_cx - 14, num_cy - 14, num_cx + 14, num_cy + 14\n",
    "        "
   ]
  },
  {
   "cell_type": "code",
   "execution_count": 30,
   "metadata": {},
   "outputs": [],
   "source": [
    "from ch08.deep_convnet import DeepConvNet\n",
    "\n",
    "## 加载网络\n",
    "network = DeepConvNet()\n",
    "network.load_params(\"ch08/deep_convnet_params.pkl\")"
   ]
  },
  {
   "cell_type": "code",
   "execution_count": 81,
   "metadata": {},
   "outputs": [],
   "source": [
    "img_test = cv.imread('image/Figure_7.png')"
   ]
  },
  {
   "cell_type": "code",
   "execution_count": 82,
   "metadata": {},
   "outputs": [],
   "source": [
    "img_test_gray = cv.cvtColor(img_test, cv.COLOR_BGR2GRAY)\n",
    "ret, img_test_binary = cv.threshold(img_test_gray, 127, 255, cv.THRESH_BINARY)\n",
    "img_test_adaptive_thresh_mean = cv.adaptiveThreshold(img_test_gray, 255, cv.ADAPTIVE_THRESH_MEAN_C, cv.THRESH_BINARY, 11, 2)\n",
    "# 获得感兴趣区域的九个区域\n",
    "ret, img_test_adaptive_thresh_mean_binary = cv.threshold(img_test_adaptive_thresh_mean, 127, 255, cv.THRESH_BINARY)\n",
    "contours, hierarchy = cv.findContours(img_test_adaptive_thresh_mean_binary, cv.RETR_TREE, cv.CHAIN_APPROX_SIMPLE) \n",
    "# contours是一个list，每个元素都是一个轮廓\n",
    "# hierarchy是一个ndarray，每一行是一个轮廓的信息，包括下一个轮廓的索引，上一个轮廓的索引，第一个子轮廓的索引，父轮廓的索引\n",
    "ROI_list = []\n",
    "for i in range(len(contours)):\n",
    "    cnt = contours[i]\n",
    "    area = cv.contourArea(cnt)\n",
    "    if area > 10000 and area < 100000:\n",
    "        # 计算轮廓的周长\n",
    "        perimeter = cv.arcLength(cnt, True)\n",
    "        # 轮廓近似\n",
    "        epsilon = 0.01 * perimeter\n",
    "        approx = cv.approxPolyDP(cnt, epsilon, True) # approx是一个ndarray，每一行是一个顶点的坐标\n",
    "        ROI_list.append(approx)"
   ]
  },
  {
   "cell_type": "code",
   "execution_count": 83,
   "metadata": {},
   "outputs": [
    {
     "name": "stdout",
     "output_type": "stream",
     "text": [
      "circle 2\n",
      "rectangle 4\n",
      "triangle 2\n"
     ]
    },
    {
     "data": {
      "text/plain": [
       "-1"
      ]
     },
     "execution_count": 83,
     "metadata": {},
     "output_type": "execute_result"
    }
   ],
   "source": [
    "# 画出三角形，圆形和矩形\n",
    "img_test_draw_shape = img_test.copy()\n",
    "shape_num = {}\n",
    "for i in range(len(ROI_list)):\n",
    "    ROI_area = ROI_list[i]\n",
    "    minx, miny, maxx, maxy = get_ROI(ROI_area)\n",
    "    ROI_gray = img_test_adaptive_thresh_mean[miny:maxy, minx:maxx].copy()\n",
    "    ret, ROI_binary = cv.threshold(ROI_gray, 127, 255, cv.THRESH_BINARY)\n",
    "    contours, hierarchy = cv.findContours(ROI_binary, cv.RETR_TREE, cv.CHAIN_APPROX_SIMPLE)\n",
    "    num_x1, num_y1, num_x2, num_y2 = findAndCount_shape_num(contours, shape_num, img_test_draw_shape, minx, miny)\n",
    "    num_roi = img_test_adaptive_thresh_mean[num_y1:num_y2, num_x1:num_x2].copy()\n",
    "    tmproi = IP.convertpng2plt(num_roi)\n",
    "    num_predict , num_Possibility = IP.predict(tmproi, network)\n",
    "    cv.putText(img_test_draw_shape, str(num_predict), (num_x1, num_y1), cv.FONT_HERSHEY_SIMPLEX, 1, (0,0,0), 2)\n",
    "    \n",
    "# 打印每个ROI中的三角形，圆形和矩形的个数\n",
    "for key, value in shape_num.items():\n",
    "    print(key, value)\n",
    "cv.imshow('img_test_draw_shape', img_test_draw_shape)\n",
    "cv.waitKey(0)\n"
   ]
  },
  {
   "cell_type": "code",
   "execution_count": 84,
   "metadata": {},
   "outputs": [
    {
     "data": {
      "text/plain": [
       "True"
      ]
     },
     "execution_count": 84,
     "metadata": {},
     "output_type": "execute_result"
    }
   ],
   "source": [
    "cv.imwrite('img_test_draw_shape_7.jpg', img_test_draw_shape)"
   ]
  },
  {
   "cell_type": "code",
   "execution_count": 85,
   "metadata": {},
   "outputs": [
    {
     "data": {
      "text/html": [
       "<img src=\"img_test_draw_shape.jpg\" width=\"400\">\n",
       "<img src=\"img_test_draw_shape_1.jpg\" width=\"400\">\n",
       "<img src=\"img_test_draw_shape_2.jpg\" width=\"400\">\n",
       "<img src=\"img_test_draw_shape_3.jpg\" width=\"400\">\n",
       "<img src=\"img_test_draw_shape_4.jpg\" width=\"400\">\n",
       "<img src=\"img_test_draw_shape_5.jpg\" width=\"400\">\n",
       "<img src=\"img_test_draw_shape_6.jpg\" width=\"400\">\n",
       "<img src=\"img_test_draw_shape_7.jpg\" width=\"400\">\n"
      ],
      "text/plain": [
       "<IPython.core.display.HTML object>"
      ]
     },
     "metadata": {},
     "output_type": "display_data"
    }
   ],
   "source": [
    "%%HTML\n",
    "<img src=\"img_test_draw_shape.jpg\" width=\"400\">\n",
    "<img src=\"img_test_draw_shape_1.jpg\" width=\"400\">\n",
    "<img src=\"img_test_draw_shape_2.jpg\" width=\"400\">\n",
    "<img src=\"img_test_draw_shape_3.jpg\" width=\"400\">\n",
    "<img src=\"img_test_draw_shape_4.jpg\" width=\"400\">\n",
    "<img src=\"img_test_draw_shape_5.jpg\" width=\"400\">\n",
    "<img src=\"img_test_draw_shape_6.jpg\" width=\"400\">\n",
    "<img src=\"img_test_draw_shape_7.jpg\" width=\"400\">"
   ]
  },
  {
   "attachments": {},
   "cell_type": "markdown",
   "metadata": {},
   "source": [
    "--------------------------------------------------\n",
    "\n",
    "下面是一些demo，均已经在上面实现。"
   ]
  },
  {
   "attachments": {},
   "cell_type": "markdown",
   "metadata": {},
   "source": [
    "### 识别数字"
   ]
  },
  {
   "cell_type": "code",
   "execution_count": 15,
   "metadata": {},
   "outputs": [
    {
     "data": {
      "text/plain": [
       "-1"
      ]
     },
     "execution_count": 15,
     "metadata": {},
     "output_type": "execute_result"
    }
   ],
   "source": [
    "num_roi = cv.imread('image/num_roi_0.jpg', 0)\n",
    "cv.imshow('num_roi', num_roi)\n",
    "cv.waitKey(0)"
   ]
  },
  {
   "cell_type": "code",
   "execution_count": 17,
   "metadata": {},
   "outputs": [
    {
     "data": {
      "text/html": [
       "<img src=\"image/num_roi_0.jpg\" width=\"20\" height=\"20\" />\n",
       "<img src=\"image/num_roi_1.jpg\" width=\"20\" height=\"20\" />\n",
       "<img src=\"image/num_roi_2.jpg\" width=\"20\" height=\"20\" />\n",
       "<img src=\"image/num_roi_3.jpg\" width=\"20\" height=\"20\" />\n",
       "<img src=\"image/num_roi_4.jpg\" width=\"20\" height=\"20\" />\n",
       "<img src=\"image/num_roi_5.jpg\" width=\"20\" height=\"20\" />\n",
       "<img src=\"image/num_roi_6.jpg\" width=\"20\" height=\"20\" />\n",
       "<img src=\"image/num_roi_7.jpg\" width=\"20\" height=\"20\" />\n",
       "<img src=\"image/num_roi_8.jpg\" width=\"20\" height=\"20\" />\n"
      ],
      "text/plain": [
       "<IPython.core.display.HTML object>"
      ]
     },
     "metadata": {},
     "output_type": "display_data"
    }
   ],
   "source": [
    "%%HTML\n",
    "<img src=\"image/num_roi_0.jpg\" width=\"20\" height=\"20\" />\n",
    "<img src=\"image/num_roi_1.jpg\" width=\"20\" height=\"20\" />\n",
    "<img src=\"image/num_roi_2.jpg\" width=\"20\" height=\"20\" />\n",
    "<img src=\"image/num_roi_3.jpg\" width=\"20\" height=\"20\" />\n",
    "<img src=\"image/num_roi_4.jpg\" width=\"20\" height=\"20\" />\n",
    "<img src=\"image/num_roi_5.jpg\" width=\"20\" height=\"20\" />\n",
    "<img src=\"image/num_roi_6.jpg\" width=\"20\" height=\"20\" />\n",
    "<img src=\"image/num_roi_7.jpg\" width=\"20\" height=\"20\" />\n",
    "<img src=\"image/num_roi_8.jpg\" width=\"20\" height=\"20\" />"
   ]
  },
  {
   "cell_type": "code",
   "execution_count": 18,
   "metadata": {},
   "outputs": [
    {
     "data": {
      "text/plain": [
       "(28, 28)"
      ]
     },
     "execution_count": 18,
     "metadata": {},
     "output_type": "execute_result"
    }
   ],
   "source": [
    "num_roi.shape"
   ]
  },
  {
   "cell_type": "code",
   "execution_count": 26,
   "metadata": {},
   "outputs": [
    {
     "data": {
      "image/png": "[encoded data removed]",
      "text/plain": [
       "<Figure size 432x288 with 1 Axes>"
      ]
     },
     "metadata": {
      "needs_background": "light"
     },
     "output_type": "display_data"
    }
   ],
   "source": [
    "tmp_img_data = IP.convertpng2plt(num_roi)\n",
    "IP.pltshow(tmp_img_data)"
   ]
  },
  {
   "cell_type": "code",
   "execution_count": 27,
   "metadata": {},
   "outputs": [],
   "source": [
    "## 加载网络识别数字\n",
    "import numpy as np\n",
    "import matplotlib.pyplot as plt\n",
    "from ch08.deep_convnet import DeepConvNet\n",
    "\n",
    "network = DeepConvNet()\n",
    "network.load_params(\"ch08/deep_convnet_params.pkl\")"
   ]
  },
  {
   "cell_type": "code",
   "execution_count": 28,
   "metadata": {},
   "outputs": [
    {
     "data": {
      "text/plain": [
       "(9, 0.5101174592679055)"
      ]
     },
     "execution_count": 28,
     "metadata": {},
     "output_type": "execute_result"
    }
   ],
   "source": [
    "IP.predict(tmp_img_data, network)"
   ]
  },
  {
   "attachments": {},
   "cell_type": "markdown",
   "metadata": {},
   "source": [
    "### 处理数字"
   ]
  },
  {
   "cell_type": "code",
   "execution_count": 39,
   "metadata": {},
   "outputs": [],
   "source": [
    "## 我们首先要在上图找到数字的位置，然后再对数字进行识别\n",
    "## 1. 找到数字的位置\n",
    "num_pos_list = []\n",
    "for i in range(9):\n",
    "    img_roi_test = cv.imread('image/ROI/ROI_img_' + str(i) + '.png')\n",
    "    img_roi_test_gray = cv.cvtColor(img_roi_test, cv.COLOR_BGR2GRAY)\n",
    "    ret, img_roi_test_binary = cv.threshold(img_roi_test_gray, 127, 255, cv.THRESH_BINARY)\n",
    "    contours, hierarchy = cv.findContours(img_roi_test_binary, cv.RETR_TREE, cv.CHAIN_APPROX_SIMPLE) \n",
    "    # contours是一个list，每个元素是一个ndarray，每一行是一个顶点的坐标\n",
    "    # hierarchy是一个ndarray，每一行是一个轮廓的信息，[next, previous, first_child, parent]\n",
    "    img_roi_test_draw = img_roi_test.copy()\n",
    "    # 获得轮廓中最小的轮廓\n",
    "    min_area = 100000\n",
    "    min_contour = None\n",
    "    for contour in contours:\n",
    "        area = cv.contourArea(contour)\n",
    "        if area < min_area:\n",
    "            min_area = area\n",
    "            min_contour = contour\n",
    "    # # 周长\n",
    "    # perimeter = cv.arcLength(min_contour, True)\n",
    "    # # 轮廓近似\n",
    "    # epsilon = 0.01 * perimeter\n",
    "    # approx = cv.approxPolyDP(min_contour, epsilon, True)\n",
    "    # cv.drawContours(img_roi_test_draw, [approx], 0, (0, 0, 255), 2)\n",
    "    # 图像轮廓的中心点\n",
    "    M = cv.moments(min_contour)\n",
    "    cx = int(M['m10'] / M['m00'])\n",
    "    cy = int(M['m01'] / M['m00'])\n",
    "    # 画出轮廓中心点 画一个+号\n",
    "    # cv.line(img_roi_test_draw, (cx - 5, cy), (cx + 5, cy), (255, 0, 0), 2)\n",
    "    # cv.line(img_roi_test_draw, (cx, cy - 5), (cx, cy + 5), (255, 0, 0), 2)\n",
    "    # 在轮廓中心点画一个正方形 用来切割数字\n",
    "    # roi_num_pos = (cx - 14, cy - 14, cx + 14, cy + 14)\n",
    "    # num_pos_list.append(roi_num_pos)\n",
    "    cv.rectangle(img_roi_test_draw, (cx - 14, cy - 14), (cx + 14, cy + 14), (0, 255, 0), 2)\n",
    "    cv.imshow('img_roi_test_draw', img_roi_test_draw)\n",
    "    cv.waitKey(0)\n",
    "    cv.destroyAllWindows()"
   ]
  },
  {
   "cell_type": "code",
   "execution_count": null,
   "metadata": {},
   "outputs": [],
   "source": []
  }
 ],
 "metadata": {
  "kernelspec": {
   "display_name": "base",
   "language": "python",
   "name": "python3"
  },
  "language_info": {
   "codemirror_mode": {
    "name": "ipython",
    "version": 3
   },
   "file_extension": ".py",
   "mimetype": "text/x-python",
   "name": "python",
   "nbconvert_exporter": "python",
   "pygments_lexer": "ipython3",
   "version": "3.9.7"
  },
  "orig_nbformat": 4,
  "vscode": {
   "interpreter": {
    "hash": "5179d32cf6ec497baf3f8a3ef987cc77c5d2dc691fdde20a56316522f61a7323"
   }
  }
 },
 "nbformat": 4,
 "nbformat_minor": 2
}
