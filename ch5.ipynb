{
 "cells": [
  {
   "attachments": {},
   "cell_type": "markdown",
   "metadata": {},
   "source": [
    "# 误差反向传播"
   ]
  },
  {
   "cell_type": "code",
   "execution_count": 1,
   "metadata": {},
   "outputs": [
    {
     "name": "stdout",
     "output_type": "stream",
     "text": [
      "price: 220\n",
      "dApple: 2.2\n",
      "dApple_num: 110\n",
      "dTax: 200\n"
     ]
    }
   ],
   "source": [
    "!python ch05/buy_apple.py"
   ]
  },
  {
   "cell_type": "code",
   "execution_count": 2,
   "metadata": {},
   "outputs": [
    {
     "name": "stdout",
     "output_type": "stream",
     "text": [
      "price: 715\n",
      "dApple: 2.2\n",
      "dApple_num: 110\n",
      "dOrange: 3.3000000000000003\n",
      "dOrange_num: 165\n",
      "dTax: 650\n"
     ]
    }
   ],
   "source": [
    "!python ch05/buy_apple_orange.py"
   ]
  },
  {
   "attachments": {},
   "cell_type": "markdown",
   "metadata": {},
   "source": [
    "### gradient checking"
   ]
  },
  {
   "cell_type": "code",
   "execution_count": 3,
   "metadata": {},
   "outputs": [
    {
     "name": "stdout",
     "output_type": "stream",
     "text": [
      "W1:4.2666341818602346e-10\n",
      "b1:2.5061171515555933e-09\n",
      "W2:5.73439859232883e-09\n",
      "b2:1.4089671770689537e-07\n"
     ]
    }
   ],
   "source": [
    "# coding: utf-8\n",
    "import sys, os\n",
    "sys.path.append(os.pardir)  # 为了导入父目录的文件而进行的设定\n",
    "import numpy as np\n",
    "from dataset.mnist import load_mnist\n",
    "from ch05.two_layer_net import TwoLayerNet\n",
    "\n",
    "# 读入数据\n",
    "(x_train, t_train), (x_test, t_test) = load_mnist(normalize=True, one_hot_label=True)\n",
    "\n",
    "network = TwoLayerNet(input_size=784, hidden_size=50, output_size=10)\n",
    "\n",
    "x_batch = x_train[:3]\n",
    "t_batch = t_train[:3]\n",
    "\n",
    "grad_numerical = network.numerical_gradient(x_batch, t_batch)\n",
    "grad_backprop = network.gradient(x_batch, t_batch)\n",
    "\n",
    "for key in grad_numerical.keys():\n",
    "    diff = np.average( np.abs(grad_backprop[key] - grad_numerical[key]) )\n",
    "    print(key + \":\" + str(diff))"
   ]
  },
  {
   "cell_type": "code",
   "execution_count": 40,
   "metadata": {},
   "outputs": [
    {
     "name": "stdout",
     "output_type": "stream",
     "text": [
      "0.10531666666666667 0.1029\n",
      "0.9062833333333333 0.9064\n",
      "0.9292833333333334 0.9318\n",
      "0.9402 0.94\n",
      "0.9504833333333333 0.9489\n",
      "0.9576166666666667 0.9549\n",
      "0.96185 0.9577\n",
      "0.9658833333333333 0.9625\n",
      "0.96895 0.9648\n",
      "0.9735333333333334 0.967\n",
      "0.9752833333333333 0.9675\n",
      "0.9767666666666667 0.9695\n",
      "0.9789666666666667 0.971\n",
      "0.9795333333333334 0.9715\n",
      "0.9816333333333334 0.9722\n",
      "0.9831166666666666 0.9738\n",
      "0.9845333333333334 0.9745\n",
      "0.9854666666666667 0.9752\n",
      "0.9860666666666666 0.9736\n",
      "0.98715 0.9757\n",
      "0.9882 0.9764\n",
      "0.9895166666666667 0.9761\n",
      "0.9891833333333333 0.9757\n",
      "0.9899 0.9757\n",
      "0.9903333333333333 0.9771\n",
      "0.9915666666666667 0.9769\n",
      "0.99095 0.9759\n",
      "0.9918 0.9772\n",
      "0.9924666666666667 0.9774\n",
      "0.9930833333333333 0.9791\n",
      "0.9936166666666667 0.9762\n",
      "0.99395 0.9768\n",
      "0.9942333333333333 0.9784\n",
      "0.9938 0.9772\n"
     ]
    }
   ],
   "source": [
    "# coding: utf-8\n",
    "import sys, os\n",
    "sys.path.append(os.pardir)\n",
    "\n",
    "import numpy as np\n",
    "from dataset.mnist import load_mnist\n",
    "from ch05.two_layer_net import TwoLayerNet\n",
    "\n",
    "# 读入数据\n",
    "(x_train, t_train), (x_test, t_test) = load_mnist(normalize=True, one_hot_label=True)\n",
    "\n",
    "network = TwoLayerNet(input_size=784, hidden_size=100, output_size=10)\n",
    "\n",
    "iters_num = 20000\n",
    "train_size = x_train.shape[0]\n",
    "batch_size = 100\n",
    "learning_rate = 0.1\n",
    "\n",
    "train_loss_list = []\n",
    "train_acc_list = []\n",
    "test_acc_list = []\n",
    "\n",
    "iter_per_epoch = max(train_size / batch_size, 1)\n",
    "\n",
    "for i in range(iters_num):\n",
    "    batch_mask = np.random.choice(train_size, batch_size)\n",
    "    x_batch = x_train[batch_mask]\n",
    "    t_batch = t_train[batch_mask]\n",
    "    \n",
    "    # 梯度\n",
    "    #grad = network.numerical_gradient(x_batch, t_batch)\n",
    "    grad = network.gradient(x_batch, t_batch)\n",
    "    \n",
    "    # 更新\n",
    "    for key in ('W1', 'b1', 'W2', 'b2'):\n",
    "        network.params[key] -= learning_rate * grad[key]\n",
    "    \n",
    "    loss = network.loss(x_batch, t_batch)\n",
    "    train_loss_list.append(loss)\n",
    "    \n",
    "    if i % iter_per_epoch == 0:\n",
    "        train_acc = network.accuracy(x_train, t_train)\n",
    "        test_acc = network.accuracy(x_test, t_test)\n",
    "        train_acc_list.append(train_acc)\n",
    "        test_acc_list.append(test_acc)\n",
    "        print(train_acc, test_acc)\n"
   ]
  },
  {
   "attachments": {},
   "cell_type": "markdown",
   "metadata": {},
   "source": [
    "> 相比于ch04.ipynb中的三万次结果96%的识别精度，这里两万次训练出来的就达到了99%的识别精度，就是因为这里的反向传播写成了更为高效的矩阵形式，而且也引入了各种层的准确定义，后面还有比如卷积层、池化层、全连接层等等，这些层的定义都是基于矩阵的，所以这里的反向传播也是基于矩阵的，这样就大大提高了计算效率和计算精度。"
   ]
  },
  {
   "cell_type": "code",
   "execution_count": 41,
   "metadata": {},
   "outputs": [
    {
     "data": {
      "image/png": "[encoded data removed]",
      "text/plain": [
       "<Figure size 432x288 with 1 Axes>"
      ]
     },
     "metadata": {
      "needs_background": "light"
     },
     "output_type": "display_data"
    },
    {
     "data": {
      "image/png": "[encoded data removed]",
      "text/plain": [
       "<Figure size 432x288 with 1 Axes>"
      ]
     },
     "metadata": {
      "needs_background": "light"
     },
     "output_type": "display_data"
    }
   ],
   "source": [
    "import matplotlib.pyplot as plt\n",
    "# 绘制图形\n",
    "markers = {'train': 'o', 'test': 's'}\n",
    "x = np.arange(len(train_acc_list))\n",
    "plt.plot(x, train_acc_list, label='train acc')\n",
    "plt.plot(x, test_acc_list, label='test acc', linestyle='--')\n",
    "plt.xlabel(\"epochs\")\n",
    "plt.ylabel(\"accuracy\")\n",
    "plt.ylim(0, 1.0)\n",
    "plt.legend(loc='lower right')\n",
    "plt.show()\n",
    "\n",
    "# 绘制损失函数的值\n",
    "x = np.arange(len(train_loss_list))\n",
    "plt.plot(x, train_loss_list, label='train loss')\n",
    "plt.xlabel(\"iterations\")\n",
    "plt.ylabel(\"loss\")\n",
    "plt.ylim(0, 3.0)\n",
    "plt.legend(loc='upper right')\n",
    "plt.show()"
   ]
  },
  {
   "cell_type": "code",
   "execution_count": 11,
   "metadata": {},
   "outputs": [],
   "source": [
    "import imageio # for reading images\n",
    "import glob # for reading files\n",
    "import numpy as np # for arrays\n",
    "import matplotlib.pyplot as plt # for plotting\n",
    "%matplotlib inline"
   ]
  },
  {
   "cell_type": "code",
   "execution_count": 36,
   "metadata": {},
   "outputs": [
    {
     "name": "stdout",
     "output_type": "stream",
     "text": [
      "opening:  myImages\\0.png\n",
      "opening:  myImages\\1.png\n",
      "opening:  myImages\\2.png\n",
      "opening:  myImages\\3.png\n",
      "opening:  myImages\\4.png\n",
      "opening:  myImages\\5.png\n",
      "opening:  myImages\\6.png\n",
      "opening:  myImages\\7.png\n",
      "opening:  myImages\\8.png\n",
      "opening:  myImages\\9.png\n"
     ]
    }
   ],
   "source": [
    "\n",
    "our_DataSet = []\n",
    "for imageFile in glob.glob('myImages/*.png'):\n",
    "    print('opening: ', imageFile)\n",
    "    imageLabel = imageFile[9:-4]\n",
    "    \n",
    "    # read in the image.png to grey as a greyscale 255 is white and 0 is black\n",
    "    imageArray = imageio.imread(imageFile, as_gray=True) \n",
    "\n",
    "    # 0 is white and 1 is black in the matplotlib image so we invert the array above\n",
    "    # reshape the image to a 1D array of 784 pixels(28x28)\n",
    "    img_data = 255.0 - imageArray.reshape(784) \n",
    "\n",
    "    # normalize the image data to be between 0.01 and 1.0\n",
    "    img_data = (img_data / 255.0 * 0.99) + 0.01 \n",
    "    recordMyData = np.append(imageLabel,img_data)\n",
    "    our_DataSet.append(recordMyData)\n",
    "    pass\n"
   ]
  },
  {
   "cell_type": "code",
   "execution_count": 43,
   "metadata": {},
   "outputs": [
    {
     "name": "stdout",
     "output_type": "stream",
     "text": [
      "神经网络预测结果为: 9\n",
      "神经网络预测结果为: 8\n",
      "神经网络预测结果为: 2\n",
      "神经网络预测结果为: 3\n",
      "神经网络预测结果为: 4\n",
      "神经网络预测结果为: 8\n",
      "神经网络预测结果为: 6\n",
      "神经网络预测结果为: 8\n",
      "神经网络预测结果为: 2\n",
      "神经网络预测结果为: 7\n"
     ]
    },
    {
     "data": {
      "image/png": "[encoded data removed]",
      "text/plain": [
       "<Figure size 432x288 with 10 Axes>"
      ]
     },
     "metadata": {
      "needs_background": "light"
     },
     "output_type": "display_data"
    }
   ],
   "source": [
    "for index in range(10):\n",
    "    # you can change the index to see different images\n",
    "    plt.subplot(2,5,index+1)\n",
    "    # show the image 255 is white and 0 is black we turn it into a 28x28 array\n",
    "    plt.imshow(np.asfarray(our_DataSet[index][1:]).reshape((28,28)), cmap='Greys', interpolation='None')\n",
    "\n",
    "    # 利用训练好的网络进行预测\n",
    "    x = np.array(our_DataSet[index][1:], ndmin=1, dtype=float)\n",
    "    y = network.predict(x.reshape(1,784))\n",
    "    # print(y)\n",
    "    p = np.argmax(y) # 获取概率最高的元素的索引\n",
    "    print(\"神经网络预测结果为: \" + str(p))"
   ]
  },
  {
   "cell_type": "code",
   "execution_count": 33,
   "metadata": {},
   "outputs": [],
   "source": [
    "# 将训练好的参数保存到文件中\n",
    "import pickle\n",
    "with open(\"myweight.pkl\", 'wb') as f:\n",
    "    pickle.dump(network.params, f)\n"
   ]
  }
 ],
 "metadata": {
  "kernelspec": {
   "display_name": "base",
   "language": "python",
   "name": "python3"
  },
  "language_info": {
   "codemirror_mode": {
    "name": "ipython",
    "version": 3
   },
   "file_extension": ".py",
   "mimetype": "text/x-python",
   "name": "python",
   "nbconvert_exporter": "python",
   "pygments_lexer": "ipython3",
   "version": "3.9.7 (default, Sep 16 2021, 16:59:28) [MSC v.1916 64 bit (AMD64)]"
  },
  "orig_nbformat": 4,
  "vscode": {
   "interpreter": {
    "hash": "5179d32cf6ec497baf3f8a3ef987cc77c5d2dc691fdde20a56316522f61a7323"
   }
  }
 },
 "nbformat": 4,
 "nbformat_minor": 2
}
